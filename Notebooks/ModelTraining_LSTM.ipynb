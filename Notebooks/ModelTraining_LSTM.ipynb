{
 "cells": [
  {
   "cell_type": "code",
   "execution_count": 1,
   "metadata": {},
   "outputs": [],
   "source": [
    "%matplotlib inline\n",
    "import matplotlib.pyplot as plt\n",
    "plt.rcParams['figure.figsize'] = (12,8)\n",
    "import numpy as np\n",
    "import tensorflow as tf\n",
    "#import keras\n",
    "import pandas as pd\n",
    "#from keras_tqdm import TQDMNotebookCallback\n"
   ]
  },
  {
   "cell_type": "code",
   "execution_count": 2,
   "metadata": {},
   "outputs": [],
   "source": [
    "from tensorflow.keras.preprocessing.sequence import pad_sequences\n",
    "\n",
    "def data_generator(batch_size, tfrecord, start_frac=0, end_frac=1):\n",
    "    '''\n",
    "    Shuffles the Audioset training data and returns a generator of training data and boolean laughter labels\n",
    "    batch_size: batch size for each set of training data and labels\n",
    "    tfrecord: filestring of the tfrecord file to train on\n",
    "    start_frac: the starting point of the data set to use, as a fraction of total record length (used for CV)\n",
    "    end_frac: the ending point of the data set to use, as a fraction of total record length (used for CV)\n",
    "    '''\n",
    "    max_len=10\n",
    "    records = list(tf.compat.v1.python_io.tf_record_iterator(tfrecord))\n",
    "    records = records[int(start_frac*len(records)):int(end_frac*len(records))]\n",
    "    rec_len = len(records)\n",
    "    shuffle = np.random.permutation(range(rec_len))\n",
    "    num_batches = rec_len//batch_size - 1\n",
    "    j = 0\n",
    "\n",
    "    laugh_labels = [66, 67] # changed to labels for cheer and applause\n",
    "    while True:\n",
    "        X = []\n",
    "        y = []\n",
    "        for idx in shuffle[j*batch_size:(j+1)*batch_size]:\n",
    "            example = records[idx]\n",
    "            tf_seq_example = tf.train.SequenceExample.FromString(example)\n",
    "            example_label = list(np.asarray(tf_seq_example.context.feature['labels'].int64_list.value))\n",
    "            laugh_bin = any((True for x in example_label if x in laugh_labels))\n",
    "            y.append(laugh_bin)\n",
    "\n",
    "            n_frames = len(tf_seq_example.feature_lists.feature_list['audio_embedding'].feature)\n",
    "            audio_frame = []\n",
    "            for i in range(n_frames):\n",
    "                audio_frame.append(np.frombuffer(tf_seq_example.feature_lists.feature_list['audio_embedding'].\n",
    "                                                         feature[i].bytes_list.value[0],np.uint8).astype(np.float32))\n",
    "            pad = [np.zeros([128], np.float32) for i in range(max_len-n_frames)]\n",
    "            audio_frame += pad\n",
    "            X.append(audio_frame)\n",
    "\n",
    "        j += 1\n",
    "        if j >= num_batches:\n",
    "            shuffle = np.random.permutation(range(rec_len))\n",
    "            j = 0\n",
    "\n",
    "        X = np.array(X)\n",
    "        yield X, np.array(y)"
   ]
  },
  {
   "cell_type": "markdown",
   "metadata": {},
   "source": [
    "### 3 Layer LSTM"
   ]
  },
  {
   "cell_type": "code",
   "execution_count": 3,
   "metadata": {},
   "outputs": [
    {
     "name": "stderr",
     "output_type": "stream",
     "text": [
      "WARNING: Logging before flag parsing goes to stderr.\n",
      "W0422 14:36:31.344013 139833664653120 tf_logging.py:161] <tensorflow.python.keras.layers.recurrent.UnifiedLSTM object at 0x7f2cf48eb048>: Note that this layer is not optimized for performance. Please use tf.keras.layers.CuDNNLSTM for better performance on GPU.\n",
      "W0422 14:36:31.472332 139833664653120 tf_logging.py:161] <tensorflow.python.keras.layers.recurrent.UnifiedLSTM object at 0x7f2cec249f60>: Note that this layer is not optimized for performance. Please use tf.keras.layers.CuDNNLSTM for better performance on GPU.\n",
      "W0422 14:36:31.654461 139833664653120 tf_logging.py:161] <tensorflow.python.keras.layers.recurrent.UnifiedLSTM object at 0x7f2cec032fd0>: Note that this layer is not optimized for performance. Please use tf.keras.layers.CuDNNLSTM for better performance on GPU.\n"
     ]
    },
    {
     "name": "stdout",
     "output_type": "stream",
     "text": [
      "Model: \"sequential\"\n",
      "_________________________________________________________________\n",
      "Layer (type)                 Output Shape              Param #   \n",
      "=================================================================\n",
      "batch_normalization_v2 (Batc (None, None, 128)         512       \n",
      "_________________________________________________________________\n",
      "dropout (Dropout)            (None, None, 128)         0         \n",
      "_________________________________________________________________\n",
      "unified_lstm (UnifiedLSTM)   (None, None, 64)          49408     \n",
      "_________________________________________________________________\n",
      "batch_normalization_v2_1 (Ba (None, None, 64)          256       \n",
      "_________________________________________________________________\n",
      "dropout_1 (Dropout)          (None, None, 64)          0         \n",
      "_________________________________________________________________\n",
      "unified_lstm_1 (UnifiedLSTM) (None, None, 64)          33024     \n",
      "_________________________________________________________________\n",
      "batch_normalization_v2_2 (Ba (None, None, 64)          256       \n",
      "_________________________________________________________________\n",
      "dropout_2 (Dropout)          (None, None, 64)          0         \n",
      "_________________________________________________________________\n",
      "unified_lstm_2 (UnifiedLSTM) (None, 64)                33024     \n",
      "_________________________________________________________________\n",
      "dense (Dense)                (None, 1)                 65        \n",
      "=================================================================\n",
      "Total params: 116,545\n",
      "Trainable params: 116,033\n",
      "Non-trainable params: 512\n",
      "_________________________________________________________________\n"
     ]
    }
   ],
   "source": [
    "from tensorflow.keras.models import Sequential\n",
    "from tensorflow.keras.layers import Dense, BatchNormalization, Dropout\n",
    "from tensorflow.keras.layers import LSTM, TimeDistributed\n",
    "#from tensorflow.compat.v1.keras.layers import CuDNNLSTM\n",
    "from tensorflow.keras import regularizers\n",
    "from tensorflow.keras.optimizers import Adam\n",
    "\n",
    "lstm3_model = Sequential()\n",
    "lstm3_model.add(BatchNormalization(input_shape=(None, 128)))\n",
    "lstm3_model.add(Dropout(0.2))\n",
    "\n",
    "lstm3_model.add(LSTM(64, #activation='relu',\n",
    "        kernel_regularizer=regularizers.l2(0.01),\n",
    "        activity_regularizer=regularizers.l2(0.01),\n",
    "        return_sequences=True))\n",
    "\n",
    "lstm3_model.add(BatchNormalization())\n",
    "lstm3_model.add(Dropout(0.2))\n",
    "\n",
    "lstm3_model.add(LSTM(64, #activation='relu',\n",
    "        kernel_regularizer=regularizers.l2(0.01),\n",
    "        activity_regularizer=regularizers.l2(0.01),\n",
    "        return_sequences=True))\n",
    "\n",
    "lstm3_model.add(BatchNormalization())\n",
    "lstm3_model.add(Dropout(0.2))\n",
    "\n",
    "lstm3_model.add(LSTM(64, #activation='relu',\n",
    "        kernel_regularizer=regularizers.l2(0.01),\n",
    "        activity_regularizer=regularizers.l2(0.01)))\n",
    "\n",
    "lstm3_model.add(Dense(1, activation='sigmoid'))\n",
    "\n",
    "lstm3_model.summary()\n",
    "\n",
    "# try using different optimizers and different optimizer configs\n",
    "opt = Adam(lr=0.0001, beta_1=0.9, beta_2=0.999, decay=0.01)\n",
    "lstm3_model.compile(loss='binary_crossentropy',\n",
    "              optimizer=opt,\n",
    "              metrics=['accuracy'])"
   ]
  },
  {
   "cell_type": "code",
   "execution_count": 4,
   "metadata": {},
   "outputs": [
    {
     "name": "stderr",
     "output_type": "stream",
     "text": [
      "W0422 14:36:48.238514 139816234620672 deprecation.py:323] From <ipython-input-2-b9f9d5b41141>:12: tf_record_iterator (from tensorflow.python.lib.io.tf_record) is deprecated and will be removed in a future version.\n",
      "Instructions for updating:\n",
      "Use eager execution and: \n",
      "`tf.data.TFRecordDataset(path)`\n"
     ]
    },
    {
     "name": "stdout",
     "output_type": "stream",
     "text": [
      "Epoch 1/100\n",
      "88/88 [==============================] - 8s 87ms/step - loss: 4.9690 - accuracy: 0.7016 - val_loss: 4.8077 - val_accuracy: 0.7517\n",
      "Epoch 2/100\n",
      "88/88 [==============================] - 2s 26ms/step - loss: 4.4857 - accuracy: 0.8647 - val_loss: 4.2230 - val_accuracy: 0.8984\n",
      "Epoch 3/100\n",
      "88/88 [==============================] - 2s 27ms/step - loss: 4.2079 - accuracy: 0.8952 - val_loss: 3.9734 - val_accuracy: 0.9219\n",
      "Epoch 4/100\n",
      "88/88 [==============================] - 2s 26ms/step - loss: 4.0182 - accuracy: 0.9042 - val_loss: 3.8600 - val_accuracy: 0.9236\n",
      "Epoch 5/100\n",
      "88/88 [==============================] - 2s 25ms/step - loss: 3.8798 - accuracy: 0.9137 - val_loss: 3.7526 - val_accuracy: 0.9349\n",
      "Epoch 6/100\n",
      "88/88 [==============================] - 2s 26ms/step - loss: 3.7668 - accuracy: 0.9181 - val_loss: 3.6815 - val_accuracy: 0.9306\n",
      "Epoch 7/100\n",
      "88/88 [==============================] - 2s 26ms/step - loss: 3.6739 - accuracy: 0.9200 - val_loss: 3.6127 - val_accuracy: 0.9288\n",
      "Epoch 8/100\n",
      "88/88 [==============================] - 2s 26ms/step - loss: 3.5965 - accuracy: 0.9221 - val_loss: 3.5327 - val_accuracy: 0.9323\n",
      "Epoch 9/100\n",
      "88/88 [==============================] - 2s 27ms/step - loss: 3.5277 - accuracy: 0.9252 - val_loss: 3.4604 - val_accuracy: 0.9358\n",
      "Epoch 10/100\n",
      "88/88 [==============================] - 2s 26ms/step - loss: 3.4672 - accuracy: 0.9245 - val_loss: 3.4133 - val_accuracy: 0.9297\n",
      "Epoch 11/100\n",
      "88/88 [==============================] - 2s 25ms/step - loss: 3.4145 - accuracy: 0.9284 - val_loss: 3.3541 - val_accuracy: 0.9427\n",
      "Epoch 12/100\n",
      "88/88 [==============================] - 2s 27ms/step - loss: 3.3639 - accuracy: 0.9296 - val_loss: 3.3224 - val_accuracy: 0.9314\n",
      "Epoch 13/100\n",
      "88/88 [==============================] - 2s 26ms/step - loss: 3.3226 - accuracy: 0.9293 - val_loss: 3.2710 - val_accuracy: 0.9427\n",
      "Epoch 14/100\n",
      "88/88 [==============================] - 2s 26ms/step - loss: 3.2777 - accuracy: 0.9308 - val_loss: 3.2416 - val_accuracy: 0.9375\n",
      "Epoch 15/100\n",
      "88/88 [==============================] - 2s 26ms/step - loss: 3.2419 - accuracy: 0.9312 - val_loss: 3.1844 - val_accuracy: 0.9453\n",
      "Epoch 16/100\n",
      "88/88 [==============================] - 2s 26ms/step - loss: 3.2085 - accuracy: 0.9315 - val_loss: 3.1709 - val_accuracy: 0.9444\n",
      "Epoch 17/100\n",
      "88/88 [==============================] - 2s 25ms/step - loss: 3.1738 - accuracy: 0.9338 - val_loss: 3.1415 - val_accuracy: 0.9392\n",
      "Epoch 18/100\n",
      "88/88 [==============================] - 2s 27ms/step - loss: 3.1443 - accuracy: 0.9324 - val_loss: 3.0846 - val_accuracy: 0.9505\n",
      "Epoch 19/100\n",
      "88/88 [==============================] - 2s 25ms/step - loss: 3.1148 - accuracy: 0.9341 - val_loss: 3.0914 - val_accuracy: 0.9375\n",
      "Epoch 20/100\n",
      "88/88 [==============================] - 2s 27ms/step - loss: 3.0879 - accuracy: 0.9319 - val_loss: 3.0558 - val_accuracy: 0.9375\n",
      "Epoch 21/100\n",
      "88/88 [==============================] - 2s 26ms/step - loss: 3.0653 - accuracy: 0.9322 - val_loss: 3.0269 - val_accuracy: 0.9418\n",
      "Epoch 22/100\n",
      "88/88 [==============================] - 2s 26ms/step - loss: 3.0387 - accuracy: 0.9333 - val_loss: 2.9974 - val_accuracy: 0.9392\n",
      "Epoch 23/100\n",
      "88/88 [==============================] - 2s 26ms/step - loss: 3.0153 - accuracy: 0.9349 - val_loss: 2.9932 - val_accuracy: 0.9297\n",
      "Epoch 24/100\n",
      "88/88 [==============================] - 2s 26ms/step - loss: 2.9945 - accuracy: 0.9342 - val_loss: 2.9546 - val_accuracy: 0.9444\n",
      "Epoch 25/100\n",
      "88/88 [==============================] - 2s 27ms/step - loss: 2.9743 - accuracy: 0.9357 - val_loss: 2.9472 - val_accuracy: 0.9436\n",
      "Epoch 26/100\n",
      "88/88 [==============================] - 2s 27ms/step - loss: 2.9527 - accuracy: 0.9356 - val_loss: 2.9348 - val_accuracy: 0.9323\n",
      "Epoch 27/100\n",
      "88/88 [==============================] - 2s 27ms/step - loss: 2.9338 - accuracy: 0.9350 - val_loss: 2.9083 - val_accuracy: 0.9401\n",
      "Epoch 28/100\n",
      "88/88 [==============================] - 2s 27ms/step - loss: 2.9186 - accuracy: 0.9343 - val_loss: 2.8774 - val_accuracy: 0.9470\n",
      "Epoch 29/100\n",
      "88/88 [==============================] - 2s 26ms/step - loss: 2.8980 - accuracy: 0.9343 - val_loss: 2.8691 - val_accuracy: 0.9427\n",
      "Epoch 30/100\n",
      "88/88 [==============================] - 2s 26ms/step - loss: 2.8805 - accuracy: 0.9367 - val_loss: 2.8358 - val_accuracy: 0.9505\n",
      "Epoch 31/100\n",
      "88/88 [==============================] - 2s 26ms/step - loss: 2.8644 - accuracy: 0.9370 - val_loss: 2.8538 - val_accuracy: 0.9323\n",
      "Epoch 32/100\n",
      "88/88 [==============================] - 2s 27ms/step - loss: 2.8518 - accuracy: 0.9352 - val_loss: 2.8227 - val_accuracy: 0.9410\n",
      "Epoch 33/100\n",
      "88/88 [==============================] - 2s 26ms/step - loss: 2.8338 - accuracy: 0.9347 - val_loss: 2.8276 - val_accuracy: 0.9280\n",
      "Epoch 34/100\n",
      "88/88 [==============================] - 2s 27ms/step - loss: 2.8208 - accuracy: 0.9358 - val_loss: 2.7982 - val_accuracy: 0.9384\n",
      "Epoch 35/100\n",
      "88/88 [==============================] - 2s 27ms/step - loss: 2.8060 - accuracy: 0.9367 - val_loss: 2.7713 - val_accuracy: 0.9462\n",
      "Epoch 36/100\n",
      "88/88 [==============================] - 2s 26ms/step - loss: 2.7923 - accuracy: 0.9360 - val_loss: 2.7643 - val_accuracy: 0.9410\n",
      "Epoch 37/100\n",
      "88/88 [==============================] - 2s 26ms/step - loss: 2.7794 - accuracy: 0.9363 - val_loss: 2.7320 - val_accuracy: 0.9488\n",
      "Epoch 38/100\n",
      "88/88 [==============================] - 2s 27ms/step - loss: 2.7664 - accuracy: 0.9355 - val_loss: 2.7450 - val_accuracy: 0.9366\n",
      "Epoch 39/100\n",
      "88/88 [==============================] - 2s 27ms/step - loss: 2.7534 - accuracy: 0.9379 - val_loss: 2.7231 - val_accuracy: 0.9384\n",
      "Epoch 40/100\n",
      "88/88 [==============================] - 2s 26ms/step - loss: 2.7432 - accuracy: 0.9365 - val_loss: 2.7192 - val_accuracy: 0.9358\n",
      "Epoch 41/100\n",
      "88/88 [==============================] - 2s 26ms/step - loss: 2.7283 - accuracy: 0.9395 - val_loss: 2.7078 - val_accuracy: 0.9453\n",
      "Epoch 42/100\n",
      "88/88 [==============================] - 2s 26ms/step - loss: 2.7177 - accuracy: 0.9381 - val_loss: 2.6850 - val_accuracy: 0.9427\n",
      "Epoch 43/100\n",
      "88/88 [==============================] - 2s 27ms/step - loss: 2.7079 - accuracy: 0.9367 - val_loss: 2.6735 - val_accuracy: 0.9444\n",
      "Epoch 44/100\n",
      "88/88 [==============================] - 2s 26ms/step - loss: 2.6954 - accuracy: 0.9397 - val_loss: 2.6572 - val_accuracy: 0.9444\n",
      "Epoch 45/100\n",
      "88/88 [==============================] - 2s 27ms/step - loss: 2.6850 - accuracy: 0.9374 - val_loss: 2.6639 - val_accuracy: 0.9349\n",
      "Epoch 46/100\n",
      "88/88 [==============================] - 2s 27ms/step - loss: 2.6731 - accuracy: 0.9390 - val_loss: 2.6414 - val_accuracy: 0.9462\n",
      "Epoch 47/100\n",
      "88/88 [==============================] - 2s 26ms/step - loss: 2.6674 - accuracy: 0.9363 - val_loss: 2.6401 - val_accuracy: 0.9436\n",
      "Epoch 48/100\n",
      "88/88 [==============================] - 2s 25ms/step - loss: 2.6554 - accuracy: 0.9373 - val_loss: 2.6282 - val_accuracy: 0.9436\n",
      "Epoch 49/100\n",
      "88/88 [==============================] - 2s 26ms/step - loss: 2.6468 - accuracy: 0.9372 - val_loss: 2.6243 - val_accuracy: 0.9401\n",
      "Epoch 50/100\n",
      "88/88 [==============================] - 2s 26ms/step - loss: 2.6362 - accuracy: 0.9377 - val_loss: 2.6171 - val_accuracy: 0.9366\n",
      "Epoch 51/100\n",
      "88/88 [==============================] - 2s 26ms/step - loss: 2.6273 - accuracy: 0.9373 - val_loss: 2.6067 - val_accuracy: 0.9427\n",
      "Epoch 52/100\n",
      "88/88 [==============================] - 2s 28ms/step - loss: 2.6197 - accuracy: 0.9370 - val_loss: 2.5934 - val_accuracy: 0.9427\n",
      "Epoch 53/100\n",
      "88/88 [==============================] - 2s 26ms/step - loss: 2.6107 - accuracy: 0.9383 - val_loss: 2.6084 - val_accuracy: 0.9288\n",
      "Epoch 54/100\n",
      "88/88 [==============================] - 2s 26ms/step - loss: 2.6016 - accuracy: 0.9402 - val_loss: 2.5632 - val_accuracy: 0.9453\n",
      "Epoch 55/100\n",
      "88/88 [==============================] - 2s 26ms/step - loss: 2.5951 - accuracy: 0.9371 - val_loss: 2.5524 - val_accuracy: 0.9479\n",
      "Epoch 56/100\n",
      "88/88 [==============================] - 2s 26ms/step - loss: 2.5843 - accuracy: 0.9389 - val_loss: 2.5538 - val_accuracy: 0.9453\n",
      "Epoch 57/100\n",
      "88/88 [==============================] - 2s 26ms/step - loss: 2.5766 - accuracy: 0.9372 - val_loss: 2.5550 - val_accuracy: 0.9392\n",
      "Epoch 58/100\n",
      "88/88 [==============================] - 2s 25ms/step - loss: 2.5706 - accuracy: 0.9375 - val_loss: 2.5530 - val_accuracy: 0.9340\n",
      "Epoch 59/100\n",
      "88/88 [==============================] - 2s 26ms/step - loss: 2.5619 - accuracy: 0.9367 - val_loss: 2.5247 - val_accuracy: 0.9453\n",
      "Epoch 60/100\n",
      "88/88 [==============================] - 2s 26ms/step - loss: 2.5525 - accuracy: 0.9389 - val_loss: 2.5263 - val_accuracy: 0.9418\n",
      "Epoch 61/100\n",
      "88/88 [==============================] - 2s 26ms/step - loss: 2.5464 - accuracy: 0.9388 - val_loss: 2.5293 - val_accuracy: 0.9384\n",
      "Epoch 62/100\n",
      "88/88 [==============================] - 2s 25ms/step - loss: 2.5382 - accuracy: 0.9402 - val_loss: 2.5088 - val_accuracy: 0.9479\n",
      "Epoch 63/100\n",
      "88/88 [==============================] - 2s 27ms/step - loss: 2.5330 - accuracy: 0.9395 - val_loss: 2.5058 - val_accuracy: 0.9462\n",
      "Epoch 64/100\n",
      "88/88 [==============================] - 2s 26ms/step - loss: 2.5270 - accuracy: 0.9387 - val_loss: 2.4796 - val_accuracy: 0.9470\n",
      "Epoch 65/100\n",
      "88/88 [==============================] - 2s 26ms/step - loss: 2.5190 - accuracy: 0.9374 - val_loss: 2.4850 - val_accuracy: 0.9436\n",
      "Epoch 66/100\n",
      "88/88 [==============================] - 2s 26ms/step - loss: 2.5116 - accuracy: 0.9394 - val_loss: 2.5063 - val_accuracy: 0.9366\n",
      "Epoch 67/100\n",
      "88/88 [==============================] - 2s 26ms/step - loss: 2.5053 - accuracy: 0.9392 - val_loss: 2.4866 - val_accuracy: 0.9366\n",
      "Epoch 68/100\n",
      "88/88 [==============================] - 2s 26ms/step - loss: 2.4969 - accuracy: 0.9395 - val_loss: 2.4685 - val_accuracy: 0.9444\n",
      "Epoch 69/100\n",
      "88/88 [==============================] - 2s 26ms/step - loss: 2.4929 - accuracy: 0.9391 - val_loss: 2.4899 - val_accuracy: 0.9401\n",
      "Epoch 70/100\n",
      "88/88 [==============================] - 2s 26ms/step - loss: 2.4876 - accuracy: 0.9406 - val_loss: 2.4447 - val_accuracy: 0.9531\n",
      "Epoch 71/100\n",
      "88/88 [==============================] - 2s 26ms/step - loss: 2.4793 - accuracy: 0.9394 - val_loss: 2.4547 - val_accuracy: 0.9418\n",
      "Epoch 72/100\n",
      "88/88 [==============================] - 2s 26ms/step - loss: 2.4733 - accuracy: 0.9387 - val_loss: 2.4420 - val_accuracy: 0.9462\n",
      "Epoch 73/100\n",
      "88/88 [==============================] - 2s 27ms/step - loss: 2.4675 - accuracy: 0.9389 - val_loss: 2.4334 - val_accuracy: 0.9427\n",
      "Epoch 74/100\n",
      "88/88 [==============================] - 2s 27ms/step - loss: 2.4612 - accuracy: 0.9376 - val_loss: 2.4425 - val_accuracy: 0.9375\n",
      "Epoch 75/100\n",
      "88/88 [==============================] - 2s 26ms/step - loss: 2.4550 - accuracy: 0.9396 - val_loss: 2.4333 - val_accuracy: 0.9436\n",
      "Epoch 76/100\n",
      "88/88 [==============================] - 2s 26ms/step - loss: 2.4491 - accuracy: 0.9401 - val_loss: 2.4399 - val_accuracy: 0.9392\n",
      "Epoch 77/100\n",
      "88/88 [==============================] - 2s 26ms/step - loss: 2.4438 - accuracy: 0.9401 - val_loss: 2.4284 - val_accuracy: 0.9366\n",
      "Epoch 78/100\n",
      "88/88 [==============================] - 2s 26ms/step - loss: 2.4371 - accuracy: 0.9398 - val_loss: 2.4165 - val_accuracy: 0.9427\n",
      "Epoch 79/100\n",
      "88/88 [==============================] - 2s 26ms/step - loss: 2.4330 - accuracy: 0.9401 - val_loss: 2.4031 - val_accuracy: 0.9453\n",
      "Epoch 80/100\n",
      "88/88 [==============================] - 2s 26ms/step - loss: 2.4262 - accuracy: 0.9399 - val_loss: 2.4027 - val_accuracy: 0.9453\n",
      "Epoch 81/100\n",
      "88/88 [==============================] - 2s 26ms/step - loss: 2.4217 - accuracy: 0.9407 - val_loss: 2.3988 - val_accuracy: 0.9392\n",
      "Epoch 82/100\n",
      "88/88 [==============================] - 2s 26ms/step - loss: 2.4171 - accuracy: 0.9400 - val_loss: 2.3907 - val_accuracy: 0.9392\n",
      "Epoch 83/100\n",
      "88/88 [==============================] - 2s 25ms/step - loss: 2.4102 - accuracy: 0.9410 - val_loss: 2.3690 - val_accuracy: 0.9540\n",
      "Epoch 84/100\n",
      "88/88 [==============================] - 2s 26ms/step - loss: 2.4074 - accuracy: 0.9393 - val_loss: 2.3801 - val_accuracy: 0.9462\n",
      "Epoch 85/100\n",
      "88/88 [==============================] - 2s 25ms/step - loss: 2.4012 - accuracy: 0.9393 - val_loss: 2.3991 - val_accuracy: 0.9297\n",
      "Epoch 86/100\n",
      "88/88 [==============================] - 2s 25ms/step - loss: 2.3971 - accuracy: 0.9387 - val_loss: 2.3801 - val_accuracy: 0.9392\n",
      "Epoch 87/100\n",
      "88/88 [==============================] - 2s 27ms/step - loss: 2.3923 - accuracy: 0.9395 - val_loss: 2.3650 - val_accuracy: 0.9418\n",
      "Epoch 88/100\n",
      "88/88 [==============================] - 2s 26ms/step - loss: 2.3885 - accuracy: 0.9398 - val_loss: 2.3630 - val_accuracy: 0.9401\n",
      "Epoch 89/100\n",
      "88/88 [==============================] - 2s 27ms/step - loss: 2.3811 - accuracy: 0.9426 - val_loss: 2.3557 - val_accuracy: 0.9410\n",
      "Epoch 90/100\n",
      "88/88 [==============================] - 2s 26ms/step - loss: 2.3763 - accuracy: 0.9414 - val_loss: 2.3806 - val_accuracy: 0.9349\n",
      "Epoch 91/100\n",
      "88/88 [==============================] - 2s 27ms/step - loss: 2.3728 - accuracy: 0.9404 - val_loss: 2.3478 - val_accuracy: 0.9444\n",
      "Epoch 92/100\n",
      "88/88 [==============================] - 2s 27ms/step - loss: 2.3698 - accuracy: 0.9397 - val_loss: 2.3496 - val_accuracy: 0.9410\n",
      "Epoch 93/100\n",
      "88/88 [==============================] - 2s 26ms/step - loss: 2.3640 - accuracy: 0.9396 - val_loss: 2.3407 - val_accuracy: 0.9401\n",
      "Epoch 94/100\n",
      "88/88 [==============================] - 2s 26ms/step - loss: 2.3580 - accuracy: 0.9411 - val_loss: 2.3572 - val_accuracy: 0.9358\n",
      "Epoch 95/100\n",
      "88/88 [==============================] - 2s 26ms/step - loss: 2.3558 - accuracy: 0.9409 - val_loss: 2.3127 - val_accuracy: 0.9505\n",
      "Epoch 96/100\n",
      "88/88 [==============================] - 2s 26ms/step - loss: 2.3529 - accuracy: 0.9393 - val_loss: 2.3300 - val_accuracy: 0.9392\n",
      "Epoch 97/100\n",
      "88/88 [==============================] - 2s 27ms/step - loss: 2.3473 - accuracy: 0.9395 - val_loss: 2.3273 - val_accuracy: 0.9462\n",
      "Epoch 98/100\n",
      "88/88 [==============================] - 2s 26ms/step - loss: 2.3411 - accuracy: 0.9399 - val_loss: 2.3197 - val_accuracy: 0.9436\n",
      "Epoch 99/100\n",
      "88/88 [==============================] - 2s 26ms/step - loss: 2.3362 - accuracy: 0.9405 - val_loss: 2.3282 - val_accuracy: 0.9375\n",
      "Epoch 100/100\n",
      "88/88 [==============================] - 2s 26ms/step - loss: 2.3326 - accuracy: 0.9411 - val_loss: 2.2951 - val_accuracy: 0.9453\n"
     ]
    },
    {
     "data": {
      "text/plain": [
       "<tensorflow.python.keras.callbacks.History at 0x7f2ccc244320>"
      ]
     },
     "execution_count": 4,
     "metadata": {},
     "output_type": "execute_result"
    }
   ],
   "source": [
    "batch_size=128\n",
    "\n",
    "CV_frac = 0.1\n",
    "train_gen = data_generator(batch_size,'unbal_laugh_speech_subset.tfrecord', 0, 1-CV_frac)\n",
    "val_gen = data_generator(128,'unbal_laugh_speech_subset.tfrecord', 1-CV_frac, 1)\n",
    "\n",
    "rec_len = 12657 # find # of records in 'unbal_laugh_speech_subset.tfrecord'\n",
    "opt = Adam(lr=0.0001, beta_1=0.9, beta_2=0.999, decay=0.01)\n",
    "lstm3_model.compile(loss='binary_crossentropy',\n",
    "              optimizer=opt,\n",
    "              metrics=['accuracy'])\n",
    "lstm3_model.fit_generator(train_gen,steps_per_epoch=int(rec_len*(1-CV_frac))//batch_size, epochs=100,\n",
    "                       validation_data=val_gen, validation_steps=int(rec_len*CV_frac)//128,\n",
    "                       verbose=1)"
   ]
  },
  {
   "cell_type": "code",
   "execution_count": 5,
   "metadata": {},
   "outputs": [
    {
     "data": {
      "text/plain": [
       "<matplotlib.legend.Legend at 0x7f2c3c63a2e8>"
      ]
     },
     "execution_count": 5,
     "metadata": {},
     "output_type": "execute_result"
    },
    {
     "data": {
      "image/png": "[encoded data removed]",
      "text/plain": [
       "<Figure size 432x288 with 1 Axes>"
      ]
     },
     "metadata": {
      "needs_background": "light"
     },
     "output_type": "display_data"
    }
   ],
   "source": [
    "plt.plot(lstm3_model.history.history['accuracy'], label='train_acc')\n",
    "plt.plot(lstm3_model.history.history['val_accuracy'], label='val_acc')\n",
    "plt.legend()"
   ]
  },
  {
   "cell_type": "code",
   "execution_count": 6,
   "metadata": {},
   "outputs": [],
   "source": [
    "lstm3_model.save('../Models/v2_cheer_applause_LSTM_ThreeLayer_100Epochs.h5')"
   ]
  },
  {
   "cell_type": "code",
   "execution_count": 8,
   "metadata": {},
   "outputs": [
    {
     "data": {
      "text/plain": [
       "'2.2.4-tf'"
      ]
     },
     "execution_count": 8,
     "metadata": {},
     "output_type": "execute_result"
    }
   ],
   "source": [
    "tf.keras.__version__"
   ]
  },
  {
   "cell_type": "code",
   "execution_count": 33,
   "metadata": {},
   "outputs": [],
   "source": [
    "from tensorflow.keras.callbacks import History"
   ]
  },
  {
   "cell_type": "code",
   "execution_count": 34,
   "metadata": {},
   "outputs": [
    {
     "data": {
      "text/plain": [
       "dict_keys(['loss', 'accuracy', 'val_loss', 'val_accuracy'])"
      ]
     },
     "execution_count": 34,
     "metadata": {},
     "output_type": "execute_result"
    }
   ],
   "source": [
    "lstm3_model.history.history.keys()"
   ]
  },
  {
   "cell_type": "code",
   "execution_count": null,
   "metadata": {},
   "outputs": [],
   "source": []
  }
 ],
 "metadata": {
  "kernelspec": {
   "display_name": "tf2-alpha",
   "language": "python",
   "name": "tf2-gpu"
  },
  "language_info": {
   "codemirror_mode": {
    "name": "ipython",
    "version": 3
   },
   "file_extension": ".py",
   "mimetype": "text/x-python",
   "name": "python",
   "nbconvert_exporter": "python",
   "pygments_lexer": "ipython3",
   "version": "3.7.2"
  }
 },
 "nbformat": 4,
 "nbformat_minor": 2
}
