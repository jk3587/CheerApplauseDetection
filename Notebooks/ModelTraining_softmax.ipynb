{
 "cells": [
  {
   "cell_type": "code",
   "execution_count": 1,
   "metadata": {},
   "outputs": [],
   "source": [
    "%matplotlib inline\n",
    "import matplotlib.pyplot as plt\n",
    "plt.rcParams['figure.figsize'] = (12,8)\n",
    "import numpy as np\n",
    "import tensorflow as tf\n",
    "#import keras\n",
    "import pandas as pd\n",
    "#from keras_tqdm import TQDMNotebookCallback\n"
   ]
  },
  {
   "cell_type": "code",
   "execution_count": 2,
   "metadata": {},
   "outputs": [],
   "source": [
    "from tensorflow.keras.preprocessing.sequence import pad_sequences\n",
    "\n",
    "def data_generator(batch_size, tfrecord, start_frac=0, end_frac=1):\n",
    "    '''\n",
    "    Shuffles the Audioset training data and returns a generator of training data and boolean laughter labels\n",
    "    batch_size: batch size for each set of training data and labels\n",
    "    tfrecord: filestring of the tfrecord file to train on\n",
    "    start_frac: the starting point of the data set to use, as a fraction of total record length (used for CV)\n",
    "    end_frac: the ending point of the data set to use, as a fraction of total record length (used for CV)\n",
    "    '''\n",
    "    max_len=10\n",
    "    records = list(tf.compat.v1.python_io.tf_record_iterator(tfrecord))\n",
    "    records = records[int(start_frac*len(records)):int(end_frac*len(records))]\n",
    "    rec_len = len(records)\n",
    "    shuffle = np.random.permutation(range(rec_len))\n",
    "    num_batches = rec_len//batch_size - 1\n",
    "    j = 0\n",
    "\n",
    "    laugh_labels = [66, 67] # changed to labels for cheer and applause\n",
    "    while True:\n",
    "        X = []\n",
    "        y = []\n",
    "        for idx in shuffle[j*batch_size:(j+1)*batch_size]:\n",
    "            example = records[idx]\n",
    "            tf_seq_example = tf.train.SequenceExample.FromString(example)\n",
    "            example_label = list(np.asarray(tf_seq_example.context.feature['labels'].int64_list.value))\n",
    "            laugh_bin = any((True for x in example_label if x in laugh_labels))\n",
    "            y.append(laugh_bin)\n",
    "\n",
    "            n_frames = len(tf_seq_example.feature_lists.feature_list['audio_embedding'].feature)\n",
    "            audio_frame = []\n",
    "            for i in range(n_frames):\n",
    "                audio_frame.append(np.frombuffer(tf_seq_example.feature_lists.feature_list['audio_embedding'].\n",
    "                                                         feature[i].bytes_list.value[0],np.uint8).astype(np.float32))\n",
    "            pad = [np.zeros([128], np.float32) for i in range(max_len-n_frames)]\n",
    "            audio_frame += pad\n",
    "            X.append(audio_frame)\n",
    "\n",
    "        j += 1\n",
    "        if j >= num_batches:\n",
    "            shuffle = np.random.permutation(range(rec_len))\n",
    "            j = 0\n",
    "\n",
    "        X = np.array(X)\n",
    "        yield X, np.array(y)"
   ]
  },
  {
   "cell_type": "markdown",
   "metadata": {},
   "source": [
    "### 3 Layer LSTM"
   ]
  },
  {
   "cell_type": "code",
   "execution_count": 3,
   "metadata": {},
   "outputs": [
    {
     "name": "stdout",
     "output_type": "stream",
     "text": [
      "Model: \"sequential\"\n",
      "_________________________________________________________________\n",
      "Layer (type)                 Output Shape              Param #   \n",
      "=================================================================\n",
      "batch_normalization_v2 (Batc (None, None, 128)         512       \n",
      "_________________________________________________________________\n",
      "dropout (Dropout)            (None, None, 128)         0         \n",
      "_________________________________________________________________\n",
      "unified_lstm (UnifiedLSTM)   (None, None, 64)          49408     \n",
      "_________________________________________________________________\n",
      "batch_normalization_v2_1 (Ba (None, None, 64)          256       \n",
      "_________________________________________________________________\n",
      "dropout_1 (Dropout)          (None, None, 64)          0         \n",
      "_________________________________________________________________\n",
      "unified_lstm_1 (UnifiedLSTM) (None, None, 64)          33024     \n",
      "_________________________________________________________________\n",
      "batch_normalization_v2_2 (Ba (None, None, 64)          256       \n",
      "_________________________________________________________________\n",
      "dropout_2 (Dropout)          (None, None, 64)          0         \n",
      "_________________________________________________________________\n",
      "unified_lstm_2 (UnifiedLSTM) (None, 64)                33024     \n",
      "_________________________________________________________________\n",
      "dense (Dense)                (None, 1)                 65        \n",
      "=================================================================\n",
      "Total params: 116,545\n",
      "Trainable params: 116,033\n",
      "Non-trainable params: 512\n",
      "_________________________________________________________________\n"
     ]
    }
   ],
   "source": [
    "from tensorflow.keras.models import Sequential\n",
    "from tensorflow.keras.layers import Dense, BatchNormalization, Dropout\n",
    "from tensorflow.keras.layers import LSTM, TimeDistributed\n",
    "#from tensorflow.compat.v1.keras.layers import CuDNNLSTM\n",
    "from tensorflow.keras import regularizers\n",
    "from tensorflow.keras.optimizers import Adam\n",
    "\n",
    "lstm3_model = Sequential()\n",
    "lstm3_model.add(BatchNormalization(input_shape=(None, 128)))\n",
    "lstm3_model.add(Dropout(0.5))\n",
    "\n",
    "lstm3_model.add(LSTM(64, #activation='relu',\n",
    "        kernel_regularizer=regularizers.l2(0.01),\n",
    "        activity_regularizer=regularizers.l2(0.01),\n",
    "        return_sequences=True))\n",
    "\n",
    "lstm3_model.add(BatchNormalization())\n",
    "lstm3_model.add(Dropout(0.5))\n",
    "\n",
    "lstm3_model.add(LSTM(64, #activation='relu',\n",
    "        kernel_regularizer=regularizers.l2(0.01),\n",
    "        activity_regularizer=regularizers.l2(0.01),\n",
    "        return_sequences=True))\n",
    "\n",
    "lstm3_model.add(BatchNormalization())\n",
    "lstm3_model.add(Dropout(0.5))\n",
    "\n",
    "lstm3_model.add(LSTM(64, #activation='relu',\n",
    "        kernel_regularizer=regularizers.l2(0.01),\n",
    "        activity_regularizer=regularizers.l2(0.01)))\n",
    "\n",
    "lstm3_model.add(Dense(1, activation='softmax'))\n",
    "\n",
    "lstm3_model.summary()\n",
    "\n",
    "# try using different optimizers and different optimizer configs\n",
    "opt = Adam(lr=0.0001, beta_1=0.9, beta_2=0.999, decay=0.01)\n",
    "lstm3_model.compile(loss='binary_crossentropy',\n",
    "              optimizer=opt,\n",
    "              metrics=['accuracy'])"
   ]
  },
  {
   "cell_type": "code",
   "execution_count": 4,
   "metadata": {},
   "outputs": [
    {
     "name": "stderr",
     "output_type": "stream",
     "text": [
      "WARNING: Logging before flag parsing goes to stderr.\n",
      "W0326 18:40:42.894921 140526481299200 deprecation.py:323] From <ipython-input-2-b9f9d5b41141>:12: tf_record_iterator (from tensorflow.python.lib.io.tf_record) is deprecated and will be removed in a future version.\n",
      "Instructions for updating:\n",
      "Use eager execution and: \n",
      "`tf.data.TFRecordDataset(path)`\n"
     ]
    },
    {
     "name": "stdout",
     "output_type": "stream",
     "text": [
      "Epoch 1/100\n",
      "355/355 [==============================] - 12s 34ms/step - loss: 4.6915 - accuracy: 0.7872 - val_loss: 4.1689 - val_accuracy: 0.9106\n",
      "Epoch 2/100\n",
      "355/355 [==============================] - 7s 21ms/step - loss: 4.1641 - accuracy: 0.8757 - val_loss: 3.9277 - val_accuracy: 0.9306\n",
      "Epoch 3/100\n",
      "355/355 [==============================] - 7s 21ms/step - loss: 3.9387 - accuracy: 0.8885 - val_loss: 3.7726 - val_accuracy: 0.9280\n",
      "Epoch 4/100\n",
      "355/355 [==============================] - 7s 21ms/step - loss: 3.7934 - accuracy: 0.8940 - val_loss: 3.6619 - val_accuracy: 0.9262\n",
      "Epoch 5/100\n",
      "355/355 [==============================] - 7s 21ms/step - loss: 3.6903 - accuracy: 0.8996 - val_loss: 3.5620 - val_accuracy: 0.9349\n",
      "Epoch 6/100\n",
      "355/355 [==============================] - 7s 21ms/step - loss: 3.6097 - accuracy: 0.9006 - val_loss: 3.5090 - val_accuracy: 0.9323\n",
      "Epoch 7/100\n",
      "355/355 [==============================] - 7s 21ms/step - loss: 3.5403 - accuracy: 0.9055 - val_loss: 3.4592 - val_accuracy: 0.9245\n",
      "Epoch 8/100\n",
      "355/355 [==============================] - 8s 21ms/step - loss: 3.4883 - accuracy: 0.9042 - val_loss: 3.3950 - val_accuracy: 0.9410\n",
      "Epoch 9/100\n",
      "355/355 [==============================] - 7s 21ms/step - loss: 3.4405 - accuracy: 0.9030 - val_loss: 3.3576 - val_accuracy: 0.9323\n",
      "Epoch 10/100\n",
      "355/355 [==============================] - 7s 21ms/step - loss: 3.3977 - accuracy: 0.9048 - val_loss: 3.3278 - val_accuracy: 0.9297\n",
      "Epoch 11/100\n",
      "355/355 [==============================] - 7s 21ms/step - loss: 3.3599 - accuracy: 0.9107 - val_loss: 3.2697 - val_accuracy: 0.9453\n",
      "Epoch 12/100\n",
      "355/355 [==============================] - 7s 21ms/step - loss: 3.3227 - accuracy: 0.9111 - val_loss: 3.2630 - val_accuracy: 0.9306\n",
      "Epoch 13/100\n",
      "355/355 [==============================] - 7s 21ms/step - loss: 3.2965 - accuracy: 0.9085 - val_loss: 3.2373 - val_accuracy: 0.9314\n",
      "Epoch 14/100\n",
      "355/355 [==============================] - 7s 21ms/step - loss: 3.2722 - accuracy: 0.9056 - val_loss: 3.1713 - val_accuracy: 0.9436\n",
      "Epoch 15/100\n",
      "355/355 [==============================] - 7s 21ms/step - loss: 3.2434 - accuracy: 0.9082 - val_loss: 3.1728 - val_accuracy: 0.9314\n",
      "Epoch 16/100\n",
      "355/355 [==============================] - 7s 21ms/step - loss: 3.2196 - accuracy: 0.9090 - val_loss: 3.1387 - val_accuracy: 0.9384\n",
      "Epoch 17/100\n",
      "355/355 [==============================] - 7s 21ms/step - loss: 3.1956 - accuracy: 0.9121 - val_loss: 3.1073 - val_accuracy: 0.9479\n",
      "Epoch 18/100\n",
      "355/355 [==============================] - 7s 21ms/step - loss: 3.1773 - accuracy: 0.9119 - val_loss: 3.1043 - val_accuracy: 0.9384\n",
      "Epoch 19/100\n",
      "355/355 [==============================] - 7s 21ms/step - loss: 3.1601 - accuracy: 0.9092 - val_loss: 3.1100 - val_accuracy: 0.9297\n",
      "Epoch 20/100\n",
      "355/355 [==============================] - 7s 21ms/step - loss: 3.1384 - accuracy: 0.9136 - val_loss: 3.0611 - val_accuracy: 0.9418\n",
      "Epoch 21/100\n",
      "355/355 [==============================] - 7s 21ms/step - loss: 3.1274 - accuracy: 0.9104 - val_loss: 3.0435 - val_accuracy: 0.9375\n",
      "Epoch 22/100\n",
      "355/355 [==============================] - 7s 21ms/step - loss: 3.1098 - accuracy: 0.9107 - val_loss: 3.0288 - val_accuracy: 0.9384\n",
      "Epoch 23/100\n",
      "355/355 [==============================] - 8s 21ms/step - loss: 3.0933 - accuracy: 0.9120 - val_loss: 3.0376 - val_accuracy: 0.9297\n",
      "Epoch 24/100\n",
      "355/355 [==============================] - 8s 22ms/step - loss: 3.0788 - accuracy: 0.9137 - val_loss: 3.0037 - val_accuracy: 0.9375\n",
      "Epoch 25/100\n",
      "355/355 [==============================] - 7s 21ms/step - loss: 3.0623 - accuracy: 0.9129 - val_loss: 2.9837 - val_accuracy: 0.9453\n",
      "Epoch 26/100\n",
      "355/355 [==============================] - 7s 21ms/step - loss: 3.0593 - accuracy: 0.9073 - val_loss: 2.9877 - val_accuracy: 0.9410\n",
      "Epoch 27/100\n",
      "355/355 [==============================] - 7s 21ms/step - loss: 3.0409 - accuracy: 0.9119 - val_loss: 2.9732 - val_accuracy: 0.9410\n",
      "Epoch 28/100\n",
      "355/355 [==============================] - 7s 21ms/step - loss: 3.0321 - accuracy: 0.9106 - val_loss: 2.9689 - val_accuracy: 0.9332\n",
      "Epoch 29/100\n",
      "355/355 [==============================] - 7s 21ms/step - loss: 3.0165 - accuracy: 0.9141 - val_loss: 2.9498 - val_accuracy: 0.9384\n",
      "Epoch 30/100\n",
      "355/355 [==============================] - 8s 21ms/step - loss: 3.0048 - accuracy: 0.9117 - val_loss: 2.9374 - val_accuracy: 0.9410\n",
      "Epoch 31/100\n",
      "355/355 [==============================] - 8s 21ms/step - loss: 2.9934 - accuracy: 0.9172 - val_loss: 2.9463 - val_accuracy: 0.9340\n",
      "Epoch 32/100\n",
      "355/355 [==============================] - 7s 21ms/step - loss: 2.9863 - accuracy: 0.9137 - val_loss: 2.9171 - val_accuracy: 0.9401\n",
      "Epoch 33/100\n",
      "355/355 [==============================] - 8s 21ms/step - loss: 2.9728 - accuracy: 0.9126 - val_loss: 2.9093 - val_accuracy: 0.9392\n",
      "Epoch 34/100\n",
      "355/355 [==============================] - 7s 21ms/step - loss: 2.9610 - accuracy: 0.9154 - val_loss: 2.9044 - val_accuracy: 0.9401\n",
      "Epoch 35/100\n",
      "355/355 [==============================] - 7s 21ms/step - loss: 2.9570 - accuracy: 0.9137 - val_loss: 2.8848 - val_accuracy: 0.9401\n",
      "Epoch 36/100\n",
      "355/355 [==============================] - 7s 21ms/step - loss: 2.9409 - accuracy: 0.9172 - val_loss: 2.8830 - val_accuracy: 0.9392\n",
      "Epoch 37/100\n",
      "355/355 [==============================] - 8s 21ms/step - loss: 2.9388 - accuracy: 0.9141 - val_loss: 2.8706 - val_accuracy: 0.9436\n",
      "Epoch 38/100\n",
      "355/355 [==============================] - 7s 21ms/step - loss: 2.9319 - accuracy: 0.9147 - val_loss: 2.8575 - val_accuracy: 0.9410\n",
      "Epoch 39/100\n",
      "355/355 [==============================] - 8s 22ms/step - loss: 2.9184 - accuracy: 0.9166 - val_loss: 2.8577 - val_accuracy: 0.9375\n",
      "Epoch 40/100\n",
      "355/355 [==============================] - 7s 21ms/step - loss: 2.9149 - accuracy: 0.9127 - val_loss: 2.8538 - val_accuracy: 0.9392\n",
      "Epoch 41/100\n",
      "355/355 [==============================] - 7s 21ms/step - loss: 2.9070 - accuracy: 0.9128 - val_loss: 2.8743 - val_accuracy: 0.9245\n",
      "Epoch 42/100\n",
      "355/355 [==============================] - 7s 21ms/step - loss: 2.8988 - accuracy: 0.9135 - val_loss: 2.8368 - val_accuracy: 0.9410\n",
      "Epoch 43/100\n",
      "355/355 [==============================] - 8s 21ms/step - loss: 2.8911 - accuracy: 0.9159 - val_loss: 2.8105 - val_accuracy: 0.9436\n",
      "Epoch 44/100\n",
      "355/355 [==============================] - 8s 21ms/step - loss: 2.8790 - accuracy: 0.9165 - val_loss: 2.8129 - val_accuracy: 0.9427\n",
      "Epoch 45/100\n",
      "355/355 [==============================] - 8s 21ms/step - loss: 2.8738 - accuracy: 0.9166 - val_loss: 2.7942 - val_accuracy: 0.9470\n",
      "Epoch 46/100\n",
      "355/355 [==============================] - 8s 21ms/step - loss: 2.8677 - accuracy: 0.9152 - val_loss: 2.8011 - val_accuracy: 0.9401\n",
      "Epoch 47/100\n",
      "355/355 [==============================] - 7s 21ms/step - loss: 2.8617 - accuracy: 0.9149 - val_loss: 2.7865 - val_accuracy: 0.9444\n",
      "Epoch 48/100\n",
      "355/355 [==============================] - 7s 21ms/step - loss: 2.8542 - accuracy: 0.9157 - val_loss: 2.7982 - val_accuracy: 0.9358\n",
      "Epoch 49/100\n",
      "355/355 [==============================] - 8s 21ms/step - loss: 2.8472 - accuracy: 0.9188 - val_loss: 2.7845 - val_accuracy: 0.9444\n",
      "Epoch 50/100\n",
      "355/355 [==============================] - 8s 21ms/step - loss: 2.8411 - accuracy: 0.9158 - val_loss: 2.7997 - val_accuracy: 0.9332\n",
      "Epoch 51/100\n",
      "355/355 [==============================] - 8s 22ms/step - loss: 2.8348 - accuracy: 0.9154 - val_loss: 2.7713 - val_accuracy: 0.9453\n",
      "Epoch 52/100\n",
      "355/355 [==============================] - 8s 21ms/step - loss: 2.8289 - accuracy: 0.9149 - val_loss: 2.7787 - val_accuracy: 0.9358\n",
      "Epoch 53/100\n",
      "355/355 [==============================] - 8s 21ms/step - loss: 2.8214 - accuracy: 0.9172 - val_loss: 2.7428 - val_accuracy: 0.9488\n",
      "Epoch 54/100\n",
      "355/355 [==============================] - 8s 21ms/step - loss: 2.8206 - accuracy: 0.9142 - val_loss: 2.7391 - val_accuracy: 0.9453\n",
      "Epoch 55/100\n",
      "355/355 [==============================] - 8s 22ms/step - loss: 2.8098 - accuracy: 0.9173 - val_loss: 2.7672 - val_accuracy: 0.9349\n",
      "Epoch 56/100\n",
      "355/355 [==============================] - 8s 21ms/step - loss: 2.8023 - accuracy: 0.9195 - val_loss: 2.7492 - val_accuracy: 0.9401\n",
      "Epoch 57/100\n",
      "355/355 [==============================] - 8s 21ms/step - loss: 2.7996 - accuracy: 0.9187 - val_loss: 2.7251 - val_accuracy: 0.9462\n",
      "Epoch 58/100\n",
      "355/355 [==============================] - 8s 21ms/step - loss: 2.8030 - accuracy: 0.9136 - val_loss: 2.7469 - val_accuracy: 0.9332\n",
      "Epoch 59/100\n",
      "355/355 [==============================] - 7s 21ms/step - loss: 2.7911 - accuracy: 0.9167 - val_loss: 2.7273 - val_accuracy: 0.9418\n",
      "Epoch 60/100\n",
      "355/355 [==============================] - 8s 21ms/step - loss: 2.7854 - accuracy: 0.9158 - val_loss: 2.7280 - val_accuracy: 0.9418\n",
      "Epoch 61/100\n",
      "355/355 [==============================] - 8s 21ms/step - loss: 2.7800 - accuracy: 0.9186 - val_loss: 2.7097 - val_accuracy: 0.9497\n",
      "Epoch 62/100\n",
      "355/355 [==============================] - 8s 21ms/step - loss: 2.7811 - accuracy: 0.9131 - val_loss: 2.7190 - val_accuracy: 0.9410\n",
      "Epoch 63/100\n",
      "355/355 [==============================] - 7s 21ms/step - loss: 2.7733 - accuracy: 0.9160 - val_loss: 2.7399 - val_accuracy: 0.9280\n",
      "Epoch 64/100\n",
      "355/355 [==============================] - 7s 21ms/step - loss: 2.7695 - accuracy: 0.9153 - val_loss: 2.7034 - val_accuracy: 0.9444\n",
      "Epoch 65/100\n",
      "355/355 [==============================] - 8s 21ms/step - loss: 2.7658 - accuracy: 0.9176 - val_loss: 2.6913 - val_accuracy: 0.9444\n",
      "Epoch 66/100\n",
      "355/355 [==============================] - 8s 21ms/step - loss: 2.7622 - accuracy: 0.9160 - val_loss: 2.6905 - val_accuracy: 0.9488\n",
      "Epoch 67/100\n",
      "355/355 [==============================] - 8s 21ms/step - loss: 2.7510 - accuracy: 0.9170 - val_loss: 2.6930 - val_accuracy: 0.9392\n",
      "Epoch 68/100\n",
      "355/355 [==============================] - 8s 21ms/step - loss: 2.7508 - accuracy: 0.9172 - val_loss: 2.6859 - val_accuracy: 0.9401\n",
      "Epoch 69/100\n",
      "355/355 [==============================] - 7s 21ms/step - loss: 2.7471 - accuracy: 0.9183 - val_loss: 2.6868 - val_accuracy: 0.9384\n",
      "Epoch 70/100\n",
      "355/355 [==============================] - 8s 21ms/step - loss: 2.7430 - accuracy: 0.9157 - val_loss: 2.6836 - val_accuracy: 0.9410\n",
      "Epoch 71/100\n",
      "355/355 [==============================] - 8s 21ms/step - loss: 2.7352 - accuracy: 0.9180 - val_loss: 2.6803 - val_accuracy: 0.9366\n",
      "Epoch 72/100\n",
      "355/355 [==============================] - 7s 21ms/step - loss: 2.7397 - accuracy: 0.9147 - val_loss: 2.6830 - val_accuracy: 0.9384\n",
      "Epoch 73/100\n",
      "355/355 [==============================] - 8s 21ms/step - loss: 2.7337 - accuracy: 0.9147 - val_loss: 2.6703 - val_accuracy: 0.9436\n",
      "Epoch 74/100\n",
      "355/355 [==============================] - 8s 21ms/step - loss: 2.7253 - accuracy: 0.9154 - val_loss: 2.6486 - val_accuracy: 0.9497\n",
      "Epoch 75/100\n",
      "355/355 [==============================] - 7s 21ms/step - loss: 2.7239 - accuracy: 0.9149 - val_loss: 2.6690 - val_accuracy: 0.9340\n",
      "Epoch 76/100\n",
      "355/355 [==============================] - 7s 21ms/step - loss: 2.7172 - accuracy: 0.9172 - val_loss: 2.6510 - val_accuracy: 0.9401\n",
      "Epoch 77/100\n",
      "355/355 [==============================] - 8s 21ms/step - loss: 2.7157 - accuracy: 0.9169 - val_loss: 2.6332 - val_accuracy: 0.9523\n",
      "Epoch 78/100\n",
      "355/355 [==============================] - 7s 21ms/step - loss: 2.7103 - accuracy: 0.9158 - val_loss: 2.6573 - val_accuracy: 0.9358\n",
      "Epoch 79/100\n",
      "355/355 [==============================] - 7s 21ms/step - loss: 2.7097 - accuracy: 0.9149 - val_loss: 2.6411 - val_accuracy: 0.9401\n",
      "Epoch 80/100\n",
      "355/355 [==============================] - 8s 22ms/step - loss: 2.7032 - accuracy: 0.9160 - val_loss: 2.6485 - val_accuracy: 0.9410\n",
      "Epoch 81/100\n",
      "355/355 [==============================] - 8s 22ms/step - loss: 2.6968 - accuracy: 0.9175 - val_loss: 2.6436 - val_accuracy: 0.9384\n",
      "Epoch 82/100\n",
      "355/355 [==============================] - 8s 21ms/step - loss: 2.6995 - accuracy: 0.9146 - val_loss: 2.6435 - val_accuracy: 0.9366\n",
      "Epoch 83/100\n",
      "355/355 [==============================] - 8s 21ms/step - loss: 2.6935 - accuracy: 0.9173 - val_loss: 2.6269 - val_accuracy: 0.9410\n",
      "Epoch 84/100\n",
      "355/355 [==============================] - 8s 21ms/step - loss: 2.6915 - accuracy: 0.9157 - val_loss: 2.6248 - val_accuracy: 0.9410\n",
      "Epoch 85/100\n",
      "355/355 [==============================] - 8s 21ms/step - loss: 2.6812 - accuracy: 0.9206 - val_loss: 2.6296 - val_accuracy: 0.9366\n",
      "Epoch 86/100\n",
      "355/355 [==============================] - 7s 21ms/step - loss: 2.6791 - accuracy: 0.9207 - val_loss: 2.6361 - val_accuracy: 0.9358\n",
      "Epoch 87/100\n",
      "355/355 [==============================] - 8s 21ms/step - loss: 2.6800 - accuracy: 0.9192 - val_loss: 2.6282 - val_accuracy: 0.9366\n",
      "Epoch 88/100\n",
      "355/355 [==============================] - 8s 21ms/step - loss: 2.6778 - accuracy: 0.9169 - val_loss: 2.6129 - val_accuracy: 0.9444\n",
      "Epoch 89/100\n",
      "355/355 [==============================] - 8s 22ms/step - loss: 2.6739 - accuracy: 0.9156 - val_loss: 2.6085 - val_accuracy: 0.9418\n",
      "Epoch 90/100\n",
      "355/355 [==============================] - 7s 21ms/step - loss: 2.6691 - accuracy: 0.9164 - val_loss: 2.5914 - val_accuracy: 0.9470\n",
      "Epoch 91/100\n",
      "355/355 [==============================] - 8s 21ms/step - loss: 2.6658 - accuracy: 0.9177 - val_loss: 2.6238 - val_accuracy: 0.9306\n",
      "Epoch 92/100\n",
      "355/355 [==============================] - 8s 21ms/step - loss: 2.6630 - accuracy: 0.9190 - val_loss: 2.5932 - val_accuracy: 0.9427\n",
      "Epoch 93/100\n",
      "355/355 [==============================] - 8s 21ms/step - loss: 2.6569 - accuracy: 0.9191 - val_loss: 2.6071 - val_accuracy: 0.9323\n",
      "Epoch 94/100\n",
      "355/355 [==============================] - 7s 21ms/step - loss: 2.6587 - accuracy: 0.9172 - val_loss: 2.6070 - val_accuracy: 0.9349\n",
      "Epoch 95/100\n",
      "355/355 [==============================] - 7s 21ms/step - loss: 2.6524 - accuracy: 0.9203 - val_loss: 2.6006 - val_accuracy: 0.9375\n",
      "Epoch 96/100\n",
      "355/355 [==============================] - 8s 21ms/step - loss: 2.6529 - accuracy: 0.9190 - val_loss: 2.5910 - val_accuracy: 0.9410\n",
      "Epoch 97/100\n",
      "355/355 [==============================] - 7s 21ms/step - loss: 2.6504 - accuracy: 0.9158 - val_loss: 2.5822 - val_accuracy: 0.9418\n",
      "Epoch 98/100\n",
      "355/355 [==============================] - 8s 21ms/step - loss: 2.6515 - accuracy: 0.9173 - val_loss: 2.6044 - val_accuracy: 0.9358\n",
      "Epoch 99/100\n",
      "355/355 [==============================] - 8s 21ms/step - loss: 2.6405 - accuracy: 0.9187 - val_loss: 2.5733 - val_accuracy: 0.9453\n",
      "Epoch 100/100\n",
      "355/355 [==============================] - 7s 21ms/step - loss: 2.6431 - accuracy: 0.9163 - val_loss: 2.5810 - val_accuracy: 0.9418\n"
     ]
    },
    {
     "data": {
      "text/plain": [
       "<tensorflow.python.keras.callbacks.History at 0x7fd0385c2be0>"
      ]
     },
     "execution_count": 4,
     "metadata": {},
     "output_type": "execute_result"
    }
   ],
   "source": [
    "batch_size=32\n",
    "\n",
    "CV_frac = 0.1\n",
    "train_gen = data_generator(batch_size,'bal_laugh_speech_subset.tfrecord', 0, 1-CV_frac)\n",
    "val_gen = data_generator(128,'bal_laugh_speech_subset.tfrecord', 1-CV_frac, 1)\n",
    "\n",
    "rec_len = 12657 # find # of records in 'bal_laugh_speech_subset.tfrecord'\n",
    "opt = Adam(lr=0.0001, beta_1=0.9, beta_2=0.999, decay=0.01)\n",
    "lstm3_model.compile(loss='binary_crossentropy',\n",
    "              optimizer=opt,\n",
    "              metrics=['accuracy'])\n",
    "lstm3_model.fit_generator(train_gen,steps_per_epoch=int(rec_len*(1-CV_frac))//batch_size, epochs=100,\n",
    "                       validation_data=val_gen, validation_steps=int(rec_len*CV_frac)//128,\n",
    "                       verbose=1)"
   ]
  },
  {
   "cell_type": "code",
   "execution_count": 5,
   "metadata": {},
   "outputs": [
    {
     "data": {
      "text/plain": [
       "<matplotlib.legend.Legend at 0x7fcf5c5666a0>"
      ]
     },
     "execution_count": 5,
     "metadata": {},
     "output_type": "execute_result"
    },
    {
     "data": {
      "image/png": "[encoded data removed]",
      "text/plain": [
       "<Figure size 432x288 with 1 Axes>"
      ]
     },
     "metadata": {
      "needs_background": "light"
     },
     "output_type": "display_data"
    }
   ],
   "source": [
    "plt.plot(lstm3_model.history.history['accuracy'], label='train_acc')\n",
    "plt.plot(lstm3_model.history.history['val_accuracy'], label='val_acc')\n",
    "plt.legend()"
   ]
  },
  {
   "cell_type": "code",
   "execution_count": 6,
   "metadata": {},
   "outputs": [],
   "source": [
    "lstm3_model.save('../Models/cheer_applause_LSTM_ThreeLayer_100Epochs.h5')"
   ]
  },
  {
   "cell_type": "code",
   "execution_count": 14,
   "metadata": {},
   "outputs": [
    {
     "data": {
      "text/plain": [
       "'2.0.6'"
      ]
     },
     "execution_count": 14,
     "metadata": {},
     "output_type": "execute_result"
    }
   ],
   "source": [
    "keras.__version__"
   ]
  },
  {
   "cell_type": "code",
   "execution_count": 33,
   "metadata": {},
   "outputs": [],
   "source": [
    "from tensorflow.keras.callbacks import History"
   ]
  },
  {
   "cell_type": "code",
   "execution_count": 34,
   "metadata": {},
   "outputs": [
    {
     "data": {
      "text/plain": [
       "dict_keys(['loss', 'accuracy', 'val_loss', 'val_accuracy'])"
      ]
     },
     "execution_count": 34,
     "metadata": {},
     "output_type": "execute_result"
    }
   ],
   "source": [
    "lstm3_model.history.history.keys()"
   ]
  },
  {
   "cell_type": "code",
   "execution_count": null,
   "metadata": {},
   "outputs": [],
   "source": []
  }
 ],
 "metadata": {
  "kernelspec": {
   "display_name": "tf2-alpha",
   "language": "python",
   "name": "tf2-gpu"
  },
  "language_info": {
   "codemirror_mode": {
    "name": "ipython",
    "version": 3
   },
   "file_extension": ".py",
   "mimetype": "text/x-python",
   "name": "python",
   "nbconvert_exporter": "python",
   "pygments_lexer": "ipython3",
   "version": "3.7.2"
  }
 },
 "nbformat": 4,
 "nbformat_minor": 2
}
