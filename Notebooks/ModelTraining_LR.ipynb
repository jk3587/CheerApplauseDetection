{
 "cells": [
  {
   "cell_type": "code",
   "execution_count": 1,
   "metadata": {},
   "outputs": [],
   "source": [
    "%matplotlib inline\n",
    "import matplotlib.pyplot as plt\n",
    "plt.rcParams['figure.figsize'] = (12,8)\n",
    "import numpy as np\n",
    "import tensorflow as tf\n",
    "#import keras\n",
    "import pandas as pd\n",
    "#from keras_tqdm import TQDMNotebookCallback\n"
   ]
  },
  {
   "cell_type": "code",
   "execution_count": 2,
   "metadata": {},
   "outputs": [],
   "source": [
    "from tensorflow.keras.preprocessing.sequence import pad_sequences\n",
    "\n",
    "def data_generator(batch_size, tfrecord, start_frac=0, end_frac=1):\n",
    "    '''\n",
    "    Shuffles the Audioset training data and returns a generator of training data and boolean laughter labels\n",
    "    batch_size: batch size for each set of training data and labels\n",
    "    tfrecord: filestring of the tfrecord file to train on\n",
    "    start_frac: the starting point of the data set to use, as a fraction of total record length (used for CV)\n",
    "    end_frac: the ending point of the data set to use, as a fraction of total record length (used for CV)\n",
    "    '''\n",
    "    max_len=10\n",
    "    records = list(tf.compat.v1.python_io.tf_record_iterator(tfrecord))\n",
    "    records = records[int(start_frac*len(records)):int(end_frac*len(records))]\n",
    "    rec_len = len(records)\n",
    "    shuffle = np.random.permutation(range(rec_len))\n",
    "    num_batches = rec_len//batch_size - 1\n",
    "    j = 0\n",
    "\n",
    "    laugh_labels = [66, 67] # changed to labels for cheer and applause\n",
    "    while True:\n",
    "        X = []\n",
    "        y = []\n",
    "        for idx in shuffle[j*batch_size:(j+1)*batch_size]:\n",
    "            example = records[idx]\n",
    "            tf_seq_example = tf.train.SequenceExample.FromString(example)\n",
    "            example_label = list(np.asarray(tf_seq_example.context.feature['labels'].int64_list.value))\n",
    "            laugh_bin = any((True for x in example_label if x in laugh_labels))\n",
    "            y.append(laugh_bin)\n",
    "\n",
    "            n_frames = len(tf_seq_example.feature_lists.feature_list['audio_embedding'].feature)\n",
    "            audio_frame = []\n",
    "            for i in range(n_frames):\n",
    "                audio_frame.append(np.frombuffer(tf_seq_example.feature_lists.feature_list['audio_embedding'].\n",
    "                                                         feature[i].bytes_list.value[0],np.uint8).astype(np.float32))\n",
    "            pad = [np.zeros([128], np.float32) for i in range(max_len-n_frames)]\n",
    "            audio_frame += pad\n",
    "            X.append(audio_frame)\n",
    "\n",
    "        j += 1\n",
    "        if j >= num_batches:\n",
    "            shuffle = np.random.permutation(range(rec_len))\n",
    "            j = 0\n",
    "\n",
    "        X = np.array(X)\n",
    "        yield X, np.array(y)"
   ]
  },
  {
   "cell_type": "markdown",
   "metadata": {},
   "source": [
    "### Simple Logistic Regression"
   ]
  },
  {
   "cell_type": "code",
   "execution_count": 5,
   "metadata": {},
   "outputs": [],
   "source": [
    "from tensorflow.keras.models import Sequential\n",
    "from tensorflow.keras.layers import Dense, Flatten, BatchNormalization, Dropout\n",
    "\n",
    "from tensorflow.keras import regularizers\n",
    "from tensorflow.keras.optimizers import Adam\n",
    "\n",
    "lr_model = Sequential()\n",
    "#lr_model.add(Dropout(0.2))\n",
    "lr_model.add(Flatten())\n",
    "lr_model.add(Dense(1, activation='sigmoid'))\n",
    "\n",
    "# try using different optimizers and different optimizer configs\n",
    "lr_model.compile(loss='binary_crossentropy',\n",
    "              optimizer='adam',\n",
    "              metrics=['accuracy'])"
   ]
  },
  {
   "cell_type": "code",
   "execution_count": 6,
   "metadata": {},
   "outputs": [
    {
     "name": "stdout",
     "output_type": "stream",
     "text": [
      "Epoch 1/100\n",
      "88/88 [==============================] - 3s 31ms/step - loss: 13.2153 - accuracy: 0.6958 - val_loss: 7.8218 - val_accuracy: 0.8462\n",
      "Epoch 2/100\n",
      "88/88 [==============================] - 2s 20ms/step - loss: 0.2709 - accuracy: 0.9882 - val_loss: 8.0450 - val_accuracy: 0.8462\n",
      "Epoch 3/100\n",
      "88/88 [==============================] - 2s 21ms/step - loss: 2.9005e-07 - accuracy: 1.0000 - val_loss: 7.9487 - val_accuracy: 0.8462\n",
      "Epoch 4/100\n",
      "88/88 [==============================] - 2s 22ms/step - loss: 2.3853e-07 - accuracy: 1.0000 - val_loss: 7.9400 - val_accuracy: 0.8462\n",
      "Epoch 5/100\n",
      "88/88 [==============================] - 2s 22ms/step - loss: 2.1343e-07 - accuracy: 1.0000 - val_loss: 7.9311 - val_accuracy: 0.8462\n",
      "Epoch 6/100\n",
      "88/88 [==============================] - 2s 21ms/step - loss: 1.9559e-07 - accuracy: 1.0000 - val_loss: 7.9219 - val_accuracy: 0.8462\n",
      "Epoch 7/100\n",
      "88/88 [==============================] - 2s 22ms/step - loss: 1.7322e-07 - accuracy: 1.0000 - val_loss: 7.9130 - val_accuracy: 0.8462\n",
      "Epoch 8/100\n",
      "88/88 [==============================] - 2s 22ms/step - loss: 1.5360e-07 - accuracy: 1.0000 - val_loss: 7.9041 - val_accuracy: 0.8846\n",
      "Epoch 9/100\n",
      "88/88 [==============================] - 2s 22ms/step - loss: 1.5139e-07 - accuracy: 1.0000 - val_loss: 7.8952 - val_accuracy: 0.8846\n",
      "Epoch 10/100\n",
      "88/88 [==============================] - 2s 22ms/step - loss: 1.3350e-07 - accuracy: 1.0000 - val_loss: 7.8861 - val_accuracy: 0.8846\n",
      "Epoch 11/100\n",
      "88/88 [==============================] - 2s 21ms/step - loss: 1.3204e-07 - accuracy: 1.0000 - val_loss: 7.8770 - val_accuracy: 0.8846\n",
      "Epoch 12/100\n",
      "88/88 [==============================] - 2s 22ms/step - loss: 1.1345e-07 - accuracy: 1.0000 - val_loss: 7.8684 - val_accuracy: 0.8846\n",
      "Epoch 13/100\n",
      "88/88 [==============================] - 2s 22ms/step - loss: 9.5193e-08 - accuracy: 1.0000 - val_loss: 7.8603 - val_accuracy: 0.8846\n",
      "Epoch 14/100\n",
      "88/88 [==============================] - 2s 21ms/step - loss: 9.0586e-08 - accuracy: 1.0000 - val_loss: 7.8527 - val_accuracy: 0.8846\n",
      "Epoch 15/100\n",
      "88/88 [==============================] - 2s 21ms/step - loss: 7.7125e-08 - accuracy: 1.0000 - val_loss: 7.8455 - val_accuracy: 0.8846\n",
      "Epoch 16/100\n",
      "88/88 [==============================] - 2s 22ms/step - loss: 8.7773e-08 - accuracy: 1.0000 - val_loss: 7.8372 - val_accuracy: 0.8846\n",
      "Epoch 17/100\n",
      "88/88 [==============================] - 2s 22ms/step - loss: 7.6387e-08 - accuracy: 1.0000 - val_loss: 7.8295 - val_accuracy: 0.8846\n",
      "Epoch 18/100\n",
      "88/88 [==============================] - 2s 22ms/step - loss: 8.1571e-08 - accuracy: 1.0000 - val_loss: 7.8209 - val_accuracy: 0.8846\n",
      "Epoch 19/100\n",
      "88/88 [==============================] - 2s 22ms/step - loss: 6.8989e-08 - accuracy: 1.0000 - val_loss: 7.8130 - val_accuracy: 0.8846\n",
      "Epoch 20/100\n",
      "88/88 [==============================] - 2s 22ms/step - loss: 6.0365e-08 - accuracy: 1.0000 - val_loss: 7.8058 - val_accuracy: 0.8846\n",
      "Epoch 21/100\n",
      "88/88 [==============================] - 2s 23ms/step - loss: 5.4833e-08 - accuracy: 1.0000 - val_loss: 7.7991 - val_accuracy: 0.8846\n",
      "Epoch 22/100\n",
      "88/88 [==============================] - 2s 22ms/step - loss: 4.7816e-08 - accuracy: 1.0000 - val_loss: 7.7926 - val_accuracy: 0.8846\n",
      "Epoch 23/100\n",
      "88/88 [==============================] - 2s 22ms/step - loss: 4.1547e-08 - accuracy: 1.0000 - val_loss: 7.7868 - val_accuracy: 0.8846\n",
      "Epoch 24/100\n",
      "88/88 [==============================] - 2s 21ms/step - loss: 4.9559e-08 - accuracy: 1.0000 - val_loss: 7.7800 - val_accuracy: 0.8846\n",
      "Epoch 25/100\n",
      "88/88 [==============================] - 2s 22ms/step - loss: 4.0592e-08 - accuracy: 1.0000 - val_loss: 7.7737 - val_accuracy: 0.8846\n",
      "Epoch 26/100\n",
      "88/88 [==============================] - 2s 22ms/step - loss: 3.7583e-08 - accuracy: 1.0000 - val_loss: 7.7678 - val_accuracy: 0.8846\n",
      "Epoch 27/100\n",
      "88/88 [==============================] - 2s 23ms/step - loss: 3.7837e-08 - accuracy: 1.0000 - val_loss: 7.7618 - val_accuracy: 0.8846\n",
      "Epoch 28/100\n",
      "88/88 [==============================] - 2s 23ms/step - loss: 3.1704e-08 - accuracy: 1.0000 - val_loss: 7.7562 - val_accuracy: 0.8846\n",
      "Epoch 29/100\n",
      "88/88 [==============================] - 2s 23ms/step - loss: 2.9821e-08 - accuracy: 1.0000 - val_loss: 7.7510 - val_accuracy: 0.8846\n",
      "Epoch 30/100\n",
      "88/88 [==============================] - 2s 23ms/step - loss: 2.8063e-08 - accuracy: 1.0000 - val_loss: 7.7458 - val_accuracy: 0.8846\n",
      "Epoch 31/100\n",
      "88/88 [==============================] - 2s 23ms/step - loss: 3.0982e-08 - accuracy: 1.0000 - val_loss: 7.7397 - val_accuracy: 0.8846\n",
      "Epoch 32/100\n",
      "88/88 [==============================] - 2s 22ms/step - loss: 2.6749e-08 - accuracy: 1.0000 - val_loss: 7.7343 - val_accuracy: 0.8846\n",
      "Epoch 33/100\n",
      "88/88 [==============================] - 2s 24ms/step - loss: 2.4701e-08 - accuracy: 1.0000 - val_loss: 7.7290 - val_accuracy: 0.8846\n",
      "Epoch 34/100\n",
      "88/88 [==============================] - 2s 23ms/step - loss: 2.2600e-08 - accuracy: 1.0000 - val_loss: 7.7241 - val_accuracy: 0.8846\n",
      "Epoch 35/100\n",
      "88/88 [==============================] - 2s 23ms/step - loss: 2.5753e-08 - accuracy: 1.0000 - val_loss: 7.7181 - val_accuracy: 0.8846\n",
      "Epoch 36/100\n",
      "88/88 [==============================] - 2s 23ms/step - loss: 2.1120e-08 - accuracy: 1.0000 - val_loss: 7.7129 - val_accuracy: 0.8846\n",
      "Epoch 37/100\n",
      "88/88 [==============================] - 2s 22ms/step - loss: 2.0643e-08 - accuracy: 1.0000 - val_loss: 7.7077 - val_accuracy: 0.8846\n",
      "Epoch 38/100\n",
      "88/88 [==============================] - 2s 22ms/step - loss: 1.8135e-08 - accuracy: 1.0000 - val_loss: 7.7029 - val_accuracy: 0.8846\n",
      "Epoch 39/100\n",
      "88/88 [==============================] - 2s 23ms/step - loss: 2.0873e-08 - accuracy: 1.0000 - val_loss: 7.6971 - val_accuracy: 0.8846\n",
      "Epoch 40/100\n",
      "88/88 [==============================] - 2s 22ms/step - loss: 1.7353e-08 - accuracy: 1.0000 - val_loss: 7.6920 - val_accuracy: 0.8846\n",
      "Epoch 41/100\n",
      "88/88 [==============================] - 2s 22ms/step - loss: 1.6048e-08 - accuracy: 1.0000 - val_loss: 7.6871 - val_accuracy: 0.8846\n",
      "Epoch 42/100\n",
      "88/88 [==============================] - 2s 23ms/step - loss: 1.6129e-08 - accuracy: 1.0000 - val_loss: 7.6822 - val_accuracy: 0.8846\n",
      "Epoch 43/100\n",
      "88/88 [==============================] - 2s 21ms/step - loss: 1.4481e-08 - accuracy: 1.0000 - val_loss: 7.6773 - val_accuracy: 0.8846\n",
      "Epoch 44/100\n",
      "88/88 [==============================] - 2s 21ms/step - loss: 1.4019e-08 - accuracy: 1.0000 - val_loss: 7.6726 - val_accuracy: 0.8846\n",
      "Epoch 45/100\n",
      "88/88 [==============================] - 2s 22ms/step - loss: 1.2750e-08 - accuracy: 1.0000 - val_loss: 7.6681 - val_accuracy: 0.8846\n",
      "Epoch 46/100\n",
      "88/88 [==============================] - 2s 22ms/step - loss: 1.2985e-08 - accuracy: 1.0000 - val_loss: 7.6634 - val_accuracy: 0.8846\n",
      "Epoch 47/100\n",
      "88/88 [==============================] - 2s 23ms/step - loss: 1.2967e-08 - accuracy: 1.0000 - val_loss: 7.6582 - val_accuracy: 0.8846\n",
      "Epoch 48/100\n",
      "88/88 [==============================] - 2s 22ms/step - loss: 1.1684e-08 - accuracy: 1.0000 - val_loss: 7.6535 - val_accuracy: 0.8846\n",
      "Epoch 49/100\n",
      "88/88 [==============================] - 2s 23ms/step - loss: 1.0758e-08 - accuracy: 1.0000 - val_loss: 7.6489 - val_accuracy: 0.8846\n",
      "Epoch 50/100\n",
      "88/88 [==============================] - 2s 24ms/step - loss: 9.7511e-09 - accuracy: 1.0000 - val_loss: 7.6447 - val_accuracy: 0.8846\n",
      "Epoch 51/100\n",
      "88/88 [==============================] - 2s 24ms/step - loss: 9.8804e-09 - accuracy: 1.0000 - val_loss: 7.6402 - val_accuracy: 0.8846\n",
      "Epoch 52/100\n",
      "88/88 [==============================] - 2s 24ms/step - loss: 8.2526e-09 - accuracy: 1.0000 - val_loss: 7.6361 - val_accuracy: 0.8846\n",
      "Epoch 53/100\n",
      "88/88 [==============================] - 2s 24ms/step - loss: 9.7756e-09 - accuracy: 1.0000 - val_loss: 7.6314 - val_accuracy: 0.8846\n",
      "Epoch 54/100\n",
      "88/88 [==============================] - 2s 25ms/step - loss: 7.4771e-09 - accuracy: 1.0000 - val_loss: 7.6274 - val_accuracy: 0.8846\n",
      "Epoch 55/100\n",
      "88/88 [==============================] - 2s 23ms/step - loss: 8.1105e-09 - accuracy: 1.0000 - val_loss: 7.6230 - val_accuracy: 0.8846\n",
      "Epoch 56/100\n",
      "88/88 [==============================] - 2s 21ms/step - loss: 7.9780e-09 - accuracy: 1.0000 - val_loss: 7.6185 - val_accuracy: 0.8846\n",
      "Epoch 57/100\n",
      "88/88 [==============================] - 2s 22ms/step - loss: 7.0805e-09 - accuracy: 1.0000 - val_loss: 7.6141 - val_accuracy: 0.8846\n",
      "Epoch 58/100\n",
      "88/88 [==============================] - 2s 21ms/step - loss: 7.4145e-09 - accuracy: 1.0000 - val_loss: 7.6095 - val_accuracy: 0.8846\n",
      "Epoch 59/100\n",
      "88/88 [==============================] - 2s 22ms/step - loss: 5.7456e-09 - accuracy: 1.0000 - val_loss: 7.6058 - val_accuracy: 0.8846\n",
      "Epoch 60/100\n",
      "88/88 [==============================] - 2s 22ms/step - loss: 5.8765e-09 - accuracy: 1.0000 - val_loss: 7.6018 - val_accuracy: 0.8846\n",
      "Epoch 61/100\n",
      "88/88 [==============================] - 2s 22ms/step - loss: 6.3736e-09 - accuracy: 1.0000 - val_loss: 7.5973 - val_accuracy: 0.8846\n",
      "Epoch 62/100\n",
      "88/88 [==============================] - 2s 21ms/step - loss: 5.9642e-09 - accuracy: 1.0000 - val_loss: 7.5929 - val_accuracy: 0.8846\n",
      "Epoch 63/100\n",
      "88/88 [==============================] - 2s 23ms/step - loss: 5.6028e-09 - accuracy: 1.0000 - val_loss: 7.5883 - val_accuracy: 0.8846\n",
      "Epoch 64/100\n",
      "88/88 [==============================] - 2s 22ms/step - loss: 4.9275e-09 - accuracy: 1.0000 - val_loss: 7.5845 - val_accuracy: 0.8846\n",
      "Epoch 65/100\n",
      "88/88 [==============================] - 2s 22ms/step - loss: 4.9487e-09 - accuracy: 1.0000 - val_loss: 7.5804 - val_accuracy: 0.8846\n",
      "Epoch 66/100\n",
      "88/88 [==============================] - 2s 23ms/step - loss: 5.1637e-09 - accuracy: 1.0000 - val_loss: 7.5759 - val_accuracy: 0.8846\n",
      "Epoch 67/100\n",
      "88/88 [==============================] - 2s 22ms/step - loss: 4.7624e-09 - accuracy: 1.0000 - val_loss: 7.5714 - val_accuracy: 0.8846\n",
      "Epoch 68/100\n",
      "88/88 [==============================] - 2s 23ms/step - loss: 4.6526e-09 - accuracy: 1.0000 - val_loss: 7.5670 - val_accuracy: 0.8846\n",
      "Epoch 69/100\n",
      "88/88 [==============================] - 2s 22ms/step - loss: 4.5446e-09 - accuracy: 1.0000 - val_loss: 7.5623 - val_accuracy: 0.8846\n",
      "Epoch 70/100\n",
      "88/88 [==============================] - 2s 21ms/step - loss: 3.5820e-09 - accuracy: 1.0000 - val_loss: 7.5586 - val_accuracy: 0.8846\n",
      "Epoch 71/100\n",
      "88/88 [==============================] - 2s 22ms/step - loss: 3.6666e-09 - accuracy: 1.0000 - val_loss: 7.5547 - val_accuracy: 0.8846\n",
      "Epoch 72/100\n",
      "88/88 [==============================] - 2s 23ms/step - loss: 3.3030e-09 - accuracy: 1.0000 - val_loss: 7.5510 - val_accuracy: 0.8846\n",
      "Epoch 73/100\n",
      "88/88 [==============================] - 2s 23ms/step - loss: 3.1318e-09 - accuracy: 1.0000 - val_loss: 7.5471 - val_accuracy: 0.8846\n",
      "Epoch 74/100\n",
      "88/88 [==============================] - 2s 22ms/step - loss: 3.3789e-09 - accuracy: 1.0000 - val_loss: 7.5429 - val_accuracy: 0.8846\n",
      "Epoch 75/100\n",
      "88/88 [==============================] - 2s 22ms/step - loss: 3.6186e-09 - accuracy: 1.0000 - val_loss: 7.5382 - val_accuracy: 0.8846\n",
      "Epoch 76/100\n",
      "88/88 [==============================] - 2s 22ms/step - loss: 2.8916e-09 - accuracy: 1.0000 - val_loss: 7.5344 - val_accuracy: 0.8846\n",
      "Epoch 77/100\n",
      "88/88 [==============================] - 2s 22ms/step - loss: 3.0868e-09 - accuracy: 1.0000 - val_loss: 7.5299 - val_accuracy: 0.8846\n",
      "Epoch 78/100\n",
      "88/88 [==============================] - 2s 22ms/step - loss: 2.6506e-09 - accuracy: 1.0000 - val_loss: 7.5260 - val_accuracy: 0.8846\n",
      "Epoch 79/100\n",
      "88/88 [==============================] - 2s 22ms/step - loss: 2.5342e-09 - accuracy: 1.0000 - val_loss: 7.5221 - val_accuracy: 0.8846\n",
      "Epoch 80/100\n",
      "88/88 [==============================] - 2s 23ms/step - loss: 2.5516e-09 - accuracy: 1.0000 - val_loss: 7.5180 - val_accuracy: 0.8846\n",
      "Epoch 81/100\n",
      "88/88 [==============================] - 2s 22ms/step - loss: 2.2217e-09 - accuracy: 1.0000 - val_loss: 7.5142 - val_accuracy: 0.8846\n",
      "Epoch 82/100\n",
      "88/88 [==============================] - 2s 23ms/step - loss: 2.4242e-09 - accuracy: 1.0000 - val_loss: 7.5100 - val_accuracy: 0.8846\n",
      "Epoch 83/100\n",
      "88/88 [==============================] - 2s 22ms/step - loss: 2.2409e-09 - accuracy: 1.0000 - val_loss: 7.5058 - val_accuracy: 0.8846\n",
      "Epoch 84/100\n",
      "88/88 [==============================] - 2s 23ms/step - loss: 2.1141e-09 - accuracy: 1.0000 - val_loss: 7.5018 - val_accuracy: 0.8846\n",
      "Epoch 85/100\n",
      "88/88 [==============================] - 2s 22ms/step - loss: 2.0144e-09 - accuracy: 1.0000 - val_loss: 7.4976 - val_accuracy: 0.8846\n",
      "Epoch 86/100\n",
      "88/88 [==============================] - 2s 22ms/step - loss: 1.8412e-09 - accuracy: 1.0000 - val_loss: 7.4938 - val_accuracy: 0.8846\n",
      "Epoch 87/100\n",
      "88/88 [==============================] - 2s 22ms/step - loss: 1.8784e-09 - accuracy: 1.0000 - val_loss: 7.4898 - val_accuracy: 0.8846\n",
      "Epoch 88/100\n",
      "88/88 [==============================] - 2s 22ms/step - loss: 1.8311e-09 - accuracy: 1.0000 - val_loss: 7.4857 - val_accuracy: 0.8846\n",
      "Epoch 89/100\n",
      "88/88 [==============================] - 2s 22ms/step - loss: 1.5931e-09 - accuracy: 1.0000 - val_loss: 7.4818 - val_accuracy: 0.8846\n",
      "Epoch 90/100\n",
      "88/88 [==============================] - 2s 22ms/step - loss: 1.6377e-09 - accuracy: 1.0000 - val_loss: 7.4777 - val_accuracy: 0.8846\n",
      "Epoch 91/100\n",
      "88/88 [==============================] - 2s 22ms/step - loss: 1.5284e-09 - accuracy: 1.0000 - val_loss: 7.4738 - val_accuracy: 0.8846\n",
      "Epoch 92/100\n",
      "88/88 [==============================] - 2s 21ms/step - loss: 1.2963e-09 - accuracy: 1.0000 - val_loss: 7.4703 - val_accuracy: 0.8846\n",
      "Epoch 93/100\n",
      "88/88 [==============================] - 2s 22ms/step - loss: 1.3360e-09 - accuracy: 1.0000 - val_loss: 7.4664 - val_accuracy: 0.8846\n",
      "Epoch 94/100\n",
      "88/88 [==============================] - 2s 23ms/step - loss: 1.3778e-09 - accuracy: 1.0000 - val_loss: 7.4625 - val_accuracy: 0.8846\n",
      "Epoch 95/100\n",
      "88/88 [==============================] - 2s 23ms/step - loss: 1.2323e-09 - accuracy: 1.0000 - val_loss: 7.4587 - val_accuracy: 0.8846\n",
      "Epoch 96/100\n",
      "88/88 [==============================] - 2s 23ms/step - loss: 1.3408e-09 - accuracy: 1.0000 - val_loss: 7.4544 - val_accuracy: 0.8846\n",
      "Epoch 97/100\n",
      "88/88 [==============================] - 2s 23ms/step - loss: 1.1157e-09 - accuracy: 1.0000 - val_loss: 7.4505 - val_accuracy: 0.8846\n",
      "Epoch 98/100\n",
      "88/88 [==============================] - 2s 23ms/step - loss: 1.1694e-09 - accuracy: 1.0000 - val_loss: 7.4464 - val_accuracy: 0.8846\n",
      "Epoch 99/100\n",
      "88/88 [==============================] - 2s 22ms/step - loss: 1.0888e-09 - accuracy: 1.0000 - val_loss: 7.4425 - val_accuracy: 0.8846\n",
      "Epoch 100/100\n",
      "88/88 [==============================] - 2s 22ms/step - loss: 1.1349e-09 - accuracy: 1.0000 - val_loss: 7.4381 - val_accuracy: 0.8846\n"
     ]
    },
    {
     "data": {
      "text/plain": [
       "<tensorflow.python.keras.callbacks.History at 0x7f82b87a89b0>"
      ]
     },
     "execution_count": 6,
     "metadata": {},
     "output_type": "execute_result"
    }
   ],
   "source": [
    "batch_size=128\n",
    "\n",
    "CV_frac = 0.1\n",
    "train_gen = data_generator(batch_size,'bal_laugh_speech_subset.tfrecord', 0, 1-CV_frac)\n",
    "val_gen = data_generator(128,'bal_laugh_speech_subset.tfrecord', 1-CV_frac, 1)\n",
    "\n",
    "rec_len = 12657 # find # of records in 'bal_laugh_speech_subset.tfrecord'\n",
    "lr_model.fit_generator(train_gen,steps_per_epoch=int(rec_len*(1-CV_frac))//batch_size, epochs=100,\n",
    "                       validation_data=val_gen, validation_steps=int(rec_len*CV_frac)//128,\n",
    "                       verbose=1)"
   ]
  },
  {
   "cell_type": "code",
   "execution_count": 7,
   "metadata": {},
   "outputs": [
    {
     "data": {
      "text/plain": [
       "<matplotlib.legend.Legend at 0x7f82745b9ba8>"
      ]
     },
     "execution_count": 7,
     "metadata": {},
     "output_type": "execute_result"
    },
    {
     "data": {
      "image/png": "[encoded data removed]",
      "text/plain": [
       "<Figure size 432x288 with 1 Axes>"
      ]
     },
     "metadata": {
      "needs_background": "light"
     },
     "output_type": "display_data"
    }
   ],
   "source": [
    "plt.plot(lr_model.history.history['accuracy'], label='train_acc')\n",
    "plt.plot(lr_model.history.history['val_accuracy'], label='val_acc')\n",
    "plt.legend()"
   ]
  },
  {
   "cell_type": "code",
   "execution_count": 8,
   "metadata": {},
   "outputs": [],
   "source": [
    "lr_model.save('../Models/cheer_applause_LR_100Epochs.h5')"
   ]
  },
  {
   "cell_type": "code",
   "execution_count": 9,
   "metadata": {},
   "outputs": [
    {
     "data": {
      "text/plain": [
       "'2.2.4-tf'"
      ]
     },
     "execution_count": 9,
     "metadata": {},
     "output_type": "execute_result"
    }
   ],
   "source": [
    "tf.keras.__version__"
   ]
  },
  {
   "cell_type": "code",
   "execution_count": 33,
   "metadata": {},
   "outputs": [],
   "source": [
    "from tensorflow.keras.callbacks import History"
   ]
  },
  {
   "cell_type": "code",
   "execution_count": 34,
   "metadata": {},
   "outputs": [
    {
     "data": {
      "text/plain": [
       "dict_keys(['loss', 'accuracy', 'val_loss', 'val_accuracy'])"
      ]
     },
     "execution_count": 34,
     "metadata": {},
     "output_type": "execute_result"
    }
   ],
   "source": [
    "lstm3_model.history.history.keys()"
   ]
  },
  {
   "cell_type": "code",
   "execution_count": null,
   "metadata": {},
   "outputs": [],
   "source": []
  }
 ],
 "metadata": {
  "kernelspec": {
   "display_name": "tf2-alpha",
   "language": "python",
   "name": "tf2-gpu"
  },
  "language_info": {
   "codemirror_mode": {
    "name": "ipython",
    "version": 3
   },
   "file_extension": ".py",
   "mimetype": "text/x-python",
   "name": "python",
   "nbconvert_exporter": "python",
   "pygments_lexer": "ipython3",
   "version": "3.7.2"
  }
 },
 "nbformat": 4,
 "nbformat_minor": 2
}
