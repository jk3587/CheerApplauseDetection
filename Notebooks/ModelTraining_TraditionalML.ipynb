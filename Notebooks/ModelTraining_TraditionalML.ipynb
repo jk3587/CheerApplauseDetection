{
 "cells": [
  {
   "cell_type": "code",
   "execution_count": 66,
   "metadata": {},
   "outputs": [],
   "source": [
    "%matplotlib inline\n",
    "import matplotlib.pyplot as plt\n",
    "plt.rcParams['figure.figsize'] = (12,8)\n",
    "import numpy as np\n",
    "import pandas as pd"
   ]
  },
  {
   "cell_type": "markdown",
   "metadata": {},
   "source": [
    "### For Traditional ML, the list of ten 1ms frames is flattened into one array before feeding into the classifier."
   ]
  },
  {
   "cell_type": "code",
   "execution_count": 21,
   "metadata": {},
   "outputs": [],
   "source": [
    "# Modified from data_generator used in Keras models\n",
    "from tensorflow.keras.preprocessing.sequence import pad_sequences\n",
    "\n",
    "def data_generator(batch_size, tfrecord, start_frac=0, end_frac=1):\n",
    "    '''\n",
    "    Shuffles the Audioset training data and returns a generator of training data and boolean laughter labels\n",
    "    batch_size: batch size for each set of training data and labels\n",
    "    tfrecord: filestring of the tfrecord file to train on\n",
    "    start_frac: the starting point of the data set to use, as a fraction of total record length (used for CV)\n",
    "    end_frac: the ending point of the data set to use, as a fraction of total record length (used for CV)\n",
    "    '''\n",
    "    max_len=10\n",
    "    records = list(tf.compat.v1.python_io.tf_record_iterator(tfrecord))\n",
    "    records = records[int(start_frac*len(records)):int(end_frac*len(records))]\n",
    "    rec_len = len(records)\n",
    "    shuffle = np.random.permutation(range(rec_len))\n",
    "    num_batches = rec_len//batch_size - 1\n",
    "    j = 0\n",
    "\n",
    "    laugh_labels = [66, 67] # changed to labels for cheer and applause\n",
    "    while True:\n",
    "        X = []\n",
    "        y = []\n",
    "        for idx in shuffle[j*batch_size:(j+1)*batch_size]:\n",
    "            example = records[idx]\n",
    "            tf_seq_example = tf.train.SequenceExample.FromString(example)\n",
    "            example_label = list(np.asarray(tf_seq_example.context.feature['labels'].int64_list.value))\n",
    "            laugh_bin = any((True for x in example_label if x in laugh_labels))\n",
    "            y.append(laugh_bin)\n",
    "\n",
    "            n_frames = len(tf_seq_example.feature_lists.feature_list['audio_embedding'].feature)\n",
    "            audio_frame = []\n",
    "            for i in range(n_frames):\n",
    "                audio_frame.append(np.frombuffer(tf_seq_example.feature_lists.feature_list['audio_embedding'].\n",
    "                                                         feature[i].bytes_list.value[0],np.uint8).astype(np.float32))\n",
    "            pad = [np.zeros([128], np.float32) for i in range(max_len-n_frames)]\n",
    "            audio_frame += pad\n",
    "            X.append(np.array(audio_frame).flatten()) # flattened the ten 1ms frames into one 10ms frame\n",
    "\n",
    "        j += 1\n",
    "        if j >= num_batches:\n",
    "            shuffle = np.random.permutation(range(rec_len))\n",
    "            j = 0\n",
    "\n",
    "        X = np.array(X)\n",
    "        return X, np.array(y)"
   ]
  },
  {
   "cell_type": "markdown",
   "metadata": {},
   "source": [
    "## Trying out LinearSVC"
   ]
  },
  {
   "cell_type": "code",
   "execution_count": 22,
   "metadata": {},
   "outputs": [],
   "source": [
    "from sklearn.model_selection import train_test_split\n",
    "from sklearn.svm import LinearSVC\n",
    "from sklearn.metrics import classification_report"
   ]
  },
  {
   "cell_type": "code",
   "execution_count": 64,
   "metadata": {},
   "outputs": [],
   "source": [
    "batch_size = 12658 # Length of all the samples\n",
    "X, y = data_generator(batch_size,'unbal_laugh_speech_subset.tfrecord', 0, 1)\n",
    "y = [1 if i== True else 0 for i in y]"
   ]
  },
  {
   "cell_type": "code",
   "execution_count": 65,
   "metadata": {},
   "outputs": [],
   "source": [
    "X_train, X_test, y_train, y_test = train_test_split(X, y, test_size=0.30, random_state=42, stratify=y)"
   ]
  },
  {
   "cell_type": "code",
   "execution_count": 67,
   "metadata": {},
   "outputs": [
    {
     "name": "stderr",
     "output_type": "stream",
     "text": [
      "/home/oppapie/anaconda3/envs/tf2-gpu/lib/python3.7/site-packages/sklearn/svm/base.py:931: ConvergenceWarning: Liblinear failed to converge, increase the number of iterations.\n",
      "  \"the number of iterations.\", ConvergenceWarning)\n"
     ]
    },
    {
     "data": {
      "text/plain": [
       "LinearSVC(C=1.0, class_weight=None, dual=True, fit_intercept=True,\n",
       "     intercept_scaling=1, loss='squared_hinge', max_iter=1000,\n",
       "     multi_class='ovr', penalty='l2', random_state=0, tol=1e-05, verbose=0)"
      ]
     },
     "execution_count": 67,
     "metadata": {},
     "output_type": "execute_result"
    }
   ],
   "source": [
    "clf = LinearSVC(random_state=0, tol=1e-5)\n",
    "clf.fit(X_train, y_train)"
   ]
  },
  {
   "cell_type": "code",
   "execution_count": 68,
   "metadata": {},
   "outputs": [],
   "source": [
    "pred = clf.predict(X_test)"
   ]
  },
  {
   "cell_type": "code",
   "execution_count": 69,
   "metadata": {},
   "outputs": [
    {
     "name": "stdout",
     "output_type": "stream",
     "text": [
      "              precision    recall  f1-score   support\n",
      "\n",
      "           0       0.88      0.90      0.89      1899\n",
      "           1       0.89      0.87      0.88      1899\n",
      "\n",
      "   micro avg       0.88      0.88      0.88      3798\n",
      "   macro avg       0.88      0.88      0.88      3798\n",
      "weighted avg       0.88      0.88      0.88      3798\n",
      "\n"
     ]
    }
   ],
   "source": [
    "print(classification_report(y_test, pred))"
   ]
  },
  {
   "cell_type": "code",
   "execution_count": 76,
   "metadata": {},
   "outputs": [
    {
     "name": "stdout",
     "output_type": "stream",
     "text": [
      "              precision    recall  f1-score   support\n",
      "\n",
      "       False       0.84      0.89      0.86       120\n",
      "        True       0.88      0.82      0.85       120\n",
      "\n",
      "   micro avg       0.86      0.86      0.86       240\n",
      "   macro avg       0.86      0.86      0.86       240\n",
      "weighted avg       0.86      0.86      0.86       240\n",
      "\n"
     ]
    }
   ],
   "source": [
    "svc_eval = clf.predict(X_eval)\n",
    "print(classification_report(y_eval, svc_eval))"
   ]
  },
  {
   "cell_type": "markdown",
   "metadata": {},
   "source": [
    "## Trying out CatBoost"
   ]
  },
  {
   "cell_type": "code",
   "execution_count": 32,
   "metadata": {},
   "outputs": [],
   "source": [
    "import catboost as cab"
   ]
  },
  {
   "cell_type": "code",
   "execution_count": 57,
   "metadata": {},
   "outputs": [
    {
     "name": "stdout",
     "output_type": "stream",
     "text": [
      "0:\tlearn: -0.6742237\ttotal: 21.9ms\tremaining: 21.8s\n",
      "300:\tlearn: -0.1193711\ttotal: 4.87s\tremaining: 11.3s\n",
      "600:\tlearn: -0.0838463\ttotal: 9.62s\tremaining: 6.39s\n",
      "900:\tlearn: -0.0623176\ttotal: 14.3s\tremaining: 1.57s\n",
      "999:\tlearn: -0.0569968\ttotal: 15.9s\tremaining: 0us\n"
     ]
    },
    {
     "data": {
      "text/plain": [
       "<catboost.core.CatBoostClassifier at 0x7fe178b0ab38>"
      ]
     },
     "execution_count": 57,
     "metadata": {},
     "output_type": "execute_result"
    }
   ],
   "source": [
    "model = cab.CatBoostClassifier(verbose=300, loss_function='MultiClass', task_type='GPU')\n",
    "model.fit(X_train, y_train)"
   ]
  },
  {
   "cell_type": "code",
   "execution_count": 58,
   "metadata": {},
   "outputs": [],
   "source": [
    "cab_pred = model.predict(X_test)"
   ]
  },
  {
   "cell_type": "code",
   "execution_count": 59,
   "metadata": {},
   "outputs": [
    {
     "name": "stdout",
     "output_type": "stream",
     "text": [
      "              precision    recall  f1-score   support\n",
      "\n",
      "           0       0.97      0.93      0.95      1899\n",
      "           1       0.93      0.97      0.95      1899\n",
      "\n",
      "   micro avg       0.95      0.95      0.95      3798\n",
      "   macro avg       0.95      0.95      0.95      3798\n",
      "weighted avg       0.95      0.95      0.95      3798\n",
      "\n"
     ]
    }
   ],
   "source": [
    "print(classification_report(y_test, cab_pred))"
   ]
  },
  {
   "cell_type": "code",
   "execution_count": 71,
   "metadata": {},
   "outputs": [],
   "source": [
    "X_eval, y_eval = data_generator(batch_size, 'eval_laugh_speech_subset.tfrecord', 0, 1)"
   ]
  },
  {
   "cell_type": "code",
   "execution_count": 75,
   "metadata": {},
   "outputs": [
    {
     "name": "stdout",
     "output_type": "stream",
     "text": [
      "              precision    recall  f1-score   support\n",
      "\n",
      "       False       0.89      0.95      0.92       120\n",
      "        True       0.95      0.88      0.91       120\n",
      "\n",
      "   micro avg       0.92      0.92      0.92       240\n",
      "   macro avg       0.92      0.92      0.92       240\n",
      "weighted avg       0.92      0.92      0.92       240\n",
      "\n"
     ]
    }
   ],
   "source": [
    "cab_eval = model.predict(X_eval)\n",
    "print(classification_report(y_eval, cab_eval))"
   ]
  }
 ],
 "metadata": {
  "kernelspec": {
   "display_name": "tf2-alpha",
   "language": "python",
   "name": "tf2-gpu"
  },
  "language_info": {
   "codemirror_mode": {
    "name": "ipython",
    "version": 3
   },
   "file_extension": ".py",
   "mimetype": "text/x-python",
   "name": "python",
   "nbconvert_exporter": "python",
   "pygments_lexer": "ipython3",
   "version": "3.7.2"
  }
 },
 "nbformat": 4,
 "nbformat_minor": 2
}
