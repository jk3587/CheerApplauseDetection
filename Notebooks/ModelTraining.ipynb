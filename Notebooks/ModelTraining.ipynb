{
 "cells": [
  {
   "cell_type": "code",
   "execution_count": 3,
   "metadata": {},
   "outputs": [],
   "source": [
    "%matplotlib inline\n",
    "import matplotlib.pyplot as plt\n",
    "plt.rcParams['figure.figsize'] = (12,8)\n",
    "import numpy as np\n",
    "import tensorflow as tf\n",
    "#import keras\n",
    "import pandas as pd\n",
    "#from keras_tqdm import TQDMNotebookCallback\n"
   ]
  },
  {
   "cell_type": "code",
   "execution_count": 39,
   "metadata": {},
   "outputs": [],
   "source": [
    "from tensorflow.keras.preprocessing.sequence import pad_sequences\n",
    "\n",
    "def data_generator(batch_size, tfrecord, start_frac=0, end_frac=1):\n",
    "    '''\n",
    "    Shuffles the Audioset training data and returns a generator of training data and boolean laughter labels\n",
    "    batch_size: batch size for each set of training data and labels\n",
    "    tfrecord: filestring of the tfrecord file to train on\n",
    "    start_frac: the starting point of the data set to use, as a fraction of total record length (used for CV)\n",
    "    end_frac: the ending point of the data set to use, as a fraction of total record length (used for CV)\n",
    "    '''\n",
    "    max_len=10\n",
    "    records = list(tf.compat.v1.python_io.tf_record_iterator(tfrecord))\n",
    "    records = records[int(start_frac*len(records)):int(end_frac*len(records))]\n",
    "    rec_len = len(records)\n",
    "    shuffle = np.random.permutation(range(rec_len))\n",
    "    num_batches = rec_len//batch_size - 1\n",
    "    j = 0\n",
    "\n",
    "    laugh_labels = [66, 67] # changed to labels for cheer and applause\n",
    "    while True:\n",
    "        X = []\n",
    "        y = []\n",
    "        for idx in shuffle[j*batch_size:(j+1)*batch_size]:\n",
    "            example = records[idx]\n",
    "            tf_seq_example = tf.train.SequenceExample.FromString(example)\n",
    "            example_label = list(np.asarray(tf_seq_example.context.feature['labels'].int64_list.value))\n",
    "            laugh_bin = any((True for x in example_label if x in laugh_labels))\n",
    "            y.append(laugh_bin)\n",
    "\n",
    "            n_frames = len(tf_seq_example.feature_lists.feature_list['audio_embedding'].feature)\n",
    "            audio_frame = []\n",
    "            for i in range(n_frames):\n",
    "                audio_frame.append(np.frombuffer(tf_seq_example.feature_lists.feature_list['audio_embedding'].\n",
    "                                                         feature[i].bytes_list.value[0],np.uint8).astype(np.float32))\n",
    "            pad = [np.zeros([128], np.float32) for i in range(max_len-n_frames)]\n",
    "            audio_frame += pad\n",
    "            X.append(audio_frame)\n",
    "\n",
    "        j += 1\n",
    "        if j >= num_batches:\n",
    "            shuffle = np.random.permutation(range(rec_len))\n",
    "            j = 0\n",
    "\n",
    "        X = np.array(X)\n",
    "        yield X, np.array(y)"
   ]
  },
  {
   "cell_type": "markdown",
   "metadata": {},
   "source": [
    "### Logistic Regression"
   ]
  },
  {
   "cell_type": "code",
   "execution_count": 15,
   "metadata": {},
   "outputs": [],
   "source": [
    "from tensorflow.keras.models import Sequential\n",
    "from tensorflow.keras.layers import Dense, BatchNormalization, Flatten\n",
    "\n",
    "lr_model = Sequential()\n",
    "# lr_model.add(keras.Input((None, 128)))\n",
    "lr_model.add(BatchNormalization(input_shape=(10, 128)))\n",
    "lr_model.add(Flatten())\n",
    "lr_model.add(Dense(1, activation='sigmoid'))\n",
    "\n",
    "# try using different optimizers and different optimizer configs\n",
    "lr_model.compile(loss='binary_crossentropy',\n",
    "              optimizer='adam',\n",
    "              metrics=['accuracy'])"
   ]
  },
  {
   "cell_type": "code",
   "execution_count": 17,
   "metadata": {},
   "outputs": [
    {
     "data": {
      "application/vnd.jupyter.widget-view+json": {
       "model_id": "5935960bb9e447d88f374f88213a50ab"
      }
     },
     "metadata": {},
     "output_type": "display_data"
    },
    {
     "data": {
      "application/vnd.jupyter.widget-view+json": {
       "model_id": "50e808ba6d7a4f448348358347dd3681"
      }
     },
     "metadata": {},
     "output_type": "display_data"
    },
    {
     "data": {
      "application/vnd.jupyter.widget-view+json": {
       "model_id": "812962ca78d64f8fb863d3c121ef79b0"
      }
     },
     "metadata": {},
     "output_type": "display_data"
    },
    {
     "data": {
      "application/vnd.jupyter.widget-view+json": {
       "model_id": "7602fff88b1e4dccba4115f348c8e6ce"
      }
     },
     "metadata": {},
     "output_type": "display_data"
    },
    {
     "data": {
      "application/vnd.jupyter.widget-view+json": {
       "model_id": "1783841d620445f98ea917dd2f16bb55"
      }
     },
     "metadata": {},
     "output_type": "display_data"
    },
    {
     "data": {
      "application/vnd.jupyter.widget-view+json": {
       "model_id": "f2579dab8c6d4996993bd6108ed85f92"
      }
     },
     "metadata": {},
     "output_type": "display_data"
    },
    {
     "data": {
      "application/vnd.jupyter.widget-view+json": {
       "model_id": "c8d88bba81734ade85c7f2a4c18e34ab"
      }
     },
     "metadata": {},
     "output_type": "display_data"
    },
    {
     "data": {
      "application/vnd.jupyter.widget-view+json": {
       "model_id": "0a4d635df9a54b56b52a89dd03f024f2"
      }
     },
     "metadata": {},
     "output_type": "display_data"
    },
    {
     "data": {
      "application/vnd.jupyter.widget-view+json": {
       "model_id": "4d332209724349d5bae36fe642d9b752"
      }
     },
     "metadata": {},
     "output_type": "display_data"
    },
    {
     "data": {
      "application/vnd.jupyter.widget-view+json": {
       "model_id": "8c4d587cdd96456b8babf3a2625c8f99"
      }
     },
     "metadata": {},
     "output_type": "display_data"
    },
    {
     "data": {
      "application/vnd.jupyter.widget-view+json": {
       "model_id": "f614b47f6e8545978a55e516c8202726"
      }
     },
     "metadata": {},
     "output_type": "display_data"
    },
    {
     "data": {
      "application/vnd.jupyter.widget-view+json": {
       "model_id": "2f7615716ba44062b5aef285eb2ec50f"
      }
     },
     "metadata": {},
     "output_type": "display_data"
    },
    {
     "data": {
      "application/vnd.jupyter.widget-view+json": {
       "model_id": "0c57898022914a29bb61cec8819f5346"
      }
     },
     "metadata": {},
     "output_type": "display_data"
    },
    {
     "data": {
      "application/vnd.jupyter.widget-view+json": {
       "model_id": "679b2cc488e0429d898a08ca18d73c8c"
      }
     },
     "metadata": {},
     "output_type": "display_data"
    },
    {
     "data": {
      "application/vnd.jupyter.widget-view+json": {
       "model_id": "615ab23a556244f7b97551cade6de5c1"
      }
     },
     "metadata": {},
     "output_type": "display_data"
    },
    {
     "data": {
      "application/vnd.jupyter.widget-view+json": {
       "model_id": "6616a544e82240d5bdb5ad62ce0a4614"
      }
     },
     "metadata": {},
     "output_type": "display_data"
    },
    {
     "data": {
      "application/vnd.jupyter.widget-view+json": {
       "model_id": "b384454b98bc40a18782cb878d85d428"
      }
     },
     "metadata": {},
     "output_type": "display_data"
    },
    {
     "data": {
      "application/vnd.jupyter.widget-view+json": {
       "model_id": "645051ae2f2a44708ae2cfde72894151"
      }
     },
     "metadata": {},
     "output_type": "display_data"
    },
    {
     "data": {
      "application/vnd.jupyter.widget-view+json": {
       "model_id": "64baf4fbe9c7473e99daddea24c165bd"
      }
     },
     "metadata": {},
     "output_type": "display_data"
    },
    {
     "data": {
      "application/vnd.jupyter.widget-view+json": {
       "model_id": "42724e6a56bd4a2ebbc49bd69d88aadf"
      }
     },
     "metadata": {},
     "output_type": "display_data"
    },
    {
     "data": {
      "application/vnd.jupyter.widget-view+json": {
       "model_id": "9fc676d511fc4430b8217e59f0a0eff2"
      }
     },
     "metadata": {},
     "output_type": "display_data"
    },
    {
     "data": {
      "application/vnd.jupyter.widget-view+json": {
       "model_id": "ae61e90dae51452da6cd50500a5f94e9"
      }
     },
     "metadata": {},
     "output_type": "display_data"
    },
    {
     "data": {
      "application/vnd.jupyter.widget-view+json": {
       "model_id": "69897db40b85455c84bc0ce463ca34da"
      }
     },
     "metadata": {},
     "output_type": "display_data"
    },
    {
     "data": {
      "application/vnd.jupyter.widget-view+json": {
       "model_id": "c91e20720fce440abf4fe2a67e40ff99"
      }
     },
     "metadata": {},
     "output_type": "display_data"
    },
    {
     "data": {
      "application/vnd.jupyter.widget-view+json": {
       "model_id": "fc7824859f6340a1a2c1b09e1c3aab74"
      }
     },
     "metadata": {},
     "output_type": "display_data"
    },
    {
     "data": {
      "application/vnd.jupyter.widget-view+json": {
       "model_id": "f00e1136efc042ab823bfe0a7adccfb6"
      }
     },
     "metadata": {},
     "output_type": "display_data"
    },
    {
     "data": {
      "application/vnd.jupyter.widget-view+json": {
       "model_id": "958c45156d21444389914caea4e5d883"
      }
     },
     "metadata": {},
     "output_type": "display_data"
    },
    {
     "data": {
      "application/vnd.jupyter.widget-view+json": {
       "model_id": "f5c138ee99044f5c8e8cb0ded33537e1"
      }
     },
     "metadata": {},
     "output_type": "display_data"
    },
    {
     "data": {
      "application/vnd.jupyter.widget-view+json": {
       "model_id": "e305f2bdc40d4ef19256bcb90b7ee105"
      }
     },
     "metadata": {},
     "output_type": "display_data"
    },
    {
     "data": {
      "application/vnd.jupyter.widget-view+json": {
       "model_id": "c6d0d58d68224aefb3524e58ba18dd4e"
      }
     },
     "metadata": {},
     "output_type": "display_data"
    },
    {
     "data": {
      "application/vnd.jupyter.widget-view+json": {
       "model_id": "83c2df80f53049038e1f5c19a11041e2"
      }
     },
     "metadata": {},
     "output_type": "display_data"
    },
    {
     "data": {
      "application/vnd.jupyter.widget-view+json": {
       "model_id": "1cc5fc1fd5c24849b93f978b4274c8ed"
      }
     },
     "metadata": {},
     "output_type": "display_data"
    },
    {
     "data": {
      "application/vnd.jupyter.widget-view+json": {
       "model_id": "6f4f654a84e540ed9cbf93518fb06a08"
      }
     },
     "metadata": {},
     "output_type": "display_data"
    },
    {
     "data": {
      "application/vnd.jupyter.widget-view+json": {
       "model_id": "29767ca3f1ec4e459b0f043c0c1c725a"
      }
     },
     "metadata": {},
     "output_type": "display_data"
    },
    {
     "data": {
      "application/vnd.jupyter.widget-view+json": {
       "model_id": "10ba71303165439db11692f355a45871"
      }
     },
     "metadata": {},
     "output_type": "display_data"
    },
    {
     "data": {
      "application/vnd.jupyter.widget-view+json": {
       "model_id": "8b0c85ac144c4663b634daef99556852"
      }
     },
     "metadata": {},
     "output_type": "display_data"
    },
    {
     "data": {
      "application/vnd.jupyter.widget-view+json": {
       "model_id": "c82e9e0366654dcea488f953a96fb809"
      }
     },
     "metadata": {},
     "output_type": "display_data"
    },
    {
     "data": {
      "application/vnd.jupyter.widget-view+json": {
       "model_id": "1bad4f81d1d64d42bdd172460e5e281b"
      }
     },
     "metadata": {},
     "output_type": "display_data"
    },
    {
     "data": {
      "application/vnd.jupyter.widget-view+json": {
       "model_id": "d7041d442127420196942902fa3df6bf"
      }
     },
     "metadata": {},
     "output_type": "display_data"
    },
    {
     "data": {
      "application/vnd.jupyter.widget-view+json": {
       "model_id": "db7ca330c0774325a74f29c4b91c09af"
      }
     },
     "metadata": {},
     "output_type": "display_data"
    },
    {
     "data": {
      "application/vnd.jupyter.widget-view+json": {
       "model_id": "7463ee186f984b4684a04fe6d7c90974"
      }
     },
     "metadata": {},
     "output_type": "display_data"
    },
    {
     "data": {
      "application/vnd.jupyter.widget-view+json": {
       "model_id": "155c3c07bc3841ff95b182279b92a269"
      }
     },
     "metadata": {},
     "output_type": "display_data"
    },
    {
     "data": {
      "application/vnd.jupyter.widget-view+json": {
       "model_id": "601943b6ee31422397f3610324c181fe"
      }
     },
     "metadata": {},
     "output_type": "display_data"
    },
    {
     "data": {
      "application/vnd.jupyter.widget-view+json": {
       "model_id": "3408a6bf1d05496c80cff70ee7bc26f6"
      }
     },
     "metadata": {},
     "output_type": "display_data"
    },
    {
     "data": {
      "application/vnd.jupyter.widget-view+json": {
       "model_id": "cf9421f01b22477d9da5d1e13cbedbe0"
      }
     },
     "metadata": {},
     "output_type": "display_data"
    },
    {
     "data": {
      "application/vnd.jupyter.widget-view+json": {
       "model_id": "3e8b141714ae4d63b9eae58e2cf58e78"
      }
     },
     "metadata": {},
     "output_type": "display_data"
    },
    {
     "data": {
      "application/vnd.jupyter.widget-view+json": {
       "model_id": "9f9a219e12fe40b09ef77b83af4c7fda"
      }
     },
     "metadata": {},
     "output_type": "display_data"
    },
    {
     "data": {
      "application/vnd.jupyter.widget-view+json": {
       "model_id": "f73caf761111482aa5decae5c4274094"
      }
     },
     "metadata": {},
     "output_type": "display_data"
    },
    {
     "data": {
      "application/vnd.jupyter.widget-view+json": {
       "model_id": "dba623c065ae42e7ad219cb90496fa1f"
      }
     },
     "metadata": {},
     "output_type": "display_data"
    },
    {
     "data": {
      "application/vnd.jupyter.widget-view+json": {
       "model_id": "c1e3e673dbb14bffb6c4c2ca77c1284c"
      }
     },
     "metadata": {},
     "output_type": "display_data"
    },
    {
     "data": {
      "application/vnd.jupyter.widget-view+json": {
       "model_id": "97003b31a986472a8afb424cefb8a02c"
      }
     },
     "metadata": {},
     "output_type": "display_data"
    },
    {
     "data": {
      "application/vnd.jupyter.widget-view+json": {
       "model_id": "d057181cf6554f83a8bea50d040227d2"
      }
     },
     "metadata": {},
     "output_type": "display_data"
    },
    {
     "data": {
      "application/vnd.jupyter.widget-view+json": {
       "model_id": "a94c585c6522406a83105857046b5e3e"
      }
     },
     "metadata": {},
     "output_type": "display_data"
    },
    {
     "data": {
      "application/vnd.jupyter.widget-view+json": {
       "model_id": "480bbd46f752444aa193df38d0a450e5"
      }
     },
     "metadata": {},
     "output_type": "display_data"
    },
    {
     "data": {
      "application/vnd.jupyter.widget-view+json": {
       "model_id": "b78bf36e9573438b8fdddb708ea7cc49"
      }
     },
     "metadata": {},
     "output_type": "display_data"
    },
    {
     "data": {
      "application/vnd.jupyter.widget-view+json": {
       "model_id": "12d4d2d30ed24fde838ede1989f24571"
      }
     },
     "metadata": {},
     "output_type": "display_data"
    },
    {
     "data": {
      "application/vnd.jupyter.widget-view+json": {
       "model_id": "ab49698cac7a42e29147941de779c20c"
      }
     },
     "metadata": {},
     "output_type": "display_data"
    },
    {
     "data": {
      "application/vnd.jupyter.widget-view+json": {
       "model_id": "2d284231812f4974a40f8b06a6e8f23b"
      }
     },
     "metadata": {},
     "output_type": "display_data"
    },
    {
     "data": {
      "application/vnd.jupyter.widget-view+json": {
       "model_id": "589a3a53af424840b47e434c3d91b0ac"
      }
     },
     "metadata": {},
     "output_type": "display_data"
    },
    {
     "data": {
      "application/vnd.jupyter.widget-view+json": {
       "model_id": "81720d09dc464d4fa5929cce075d2ee2"
      }
     },
     "metadata": {},
     "output_type": "display_data"
    },
    {
     "data": {
      "application/vnd.jupyter.widget-view+json": {
       "model_id": "dcf9f7e972774132953dcf1ddbcf8dc2"
      }
     },
     "metadata": {},
     "output_type": "display_data"
    },
    {
     "data": {
      "application/vnd.jupyter.widget-view+json": {
       "model_id": "4b96a950d720453a8c28e8d7508003e7"
      }
     },
     "metadata": {},
     "output_type": "display_data"
    },
    {
     "data": {
      "application/vnd.jupyter.widget-view+json": {
       "model_id": "e2d1d323e26c4a8c8fa97948398dbc4d"
      }
     },
     "metadata": {},
     "output_type": "display_data"
    },
    {
     "data": {
      "application/vnd.jupyter.widget-view+json": {
       "model_id": "008b188cd9d047ddb87a76d85a849228"
      }
     },
     "metadata": {},
     "output_type": "display_data"
    },
    {
     "data": {
      "application/vnd.jupyter.widget-view+json": {
       "model_id": "4a0f015a12a44ca8b46ad0728f1ee809"
      }
     },
     "metadata": {},
     "output_type": "display_data"
    },
    {
     "data": {
      "application/vnd.jupyter.widget-view+json": {
       "model_id": "26875956478143e7ae67d0961f92e097"
      }
     },
     "metadata": {},
     "output_type": "display_data"
    },
    {
     "data": {
      "application/vnd.jupyter.widget-view+json": {
       "model_id": "0caaa997261a4e15b74d9076c409abea"
      }
     },
     "metadata": {},
     "output_type": "display_data"
    },
    {
     "data": {
      "application/vnd.jupyter.widget-view+json": {
       "model_id": "bbf949d5e7cd4c9a8b68d364d7551b37"
      }
     },
     "metadata": {},
     "output_type": "display_data"
    },
    {
     "data": {
      "application/vnd.jupyter.widget-view+json": {
       "model_id": "5ef672579a9f4e7da051c0eb01dded9f"
      }
     },
     "metadata": {},
     "output_type": "display_data"
    },
    {
     "data": {
      "application/vnd.jupyter.widget-view+json": {
       "model_id": "0f9e68b5ea414067b79f6c9a24f3726b"
      }
     },
     "metadata": {},
     "output_type": "display_data"
    },
    {
     "data": {
      "application/vnd.jupyter.widget-view+json": {
       "model_id": "9e621c8feecd46b3a4c61c0d8ddc5203"
      }
     },
     "metadata": {},
     "output_type": "display_data"
    },
    {
     "data": {
      "application/vnd.jupyter.widget-view+json": {
       "model_id": "b6dc5688d2d141efa05f2add04e7dc53"
      }
     },
     "metadata": {},
     "output_type": "display_data"
    },
    {
     "data": {
      "application/vnd.jupyter.widget-view+json": {
       "model_id": "4bd8ca5f4bd44e1da714a8e7f3e44ba5"
      }
     },
     "metadata": {},
     "output_type": "display_data"
    },
    {
     "data": {
      "application/vnd.jupyter.widget-view+json": {
       "model_id": "9eea7a35de514bb0b53691e331cdfb75"
      }
     },
     "metadata": {},
     "output_type": "display_data"
    },
    {
     "data": {
      "application/vnd.jupyter.widget-view+json": {
       "model_id": "97326210343b49698d93c11f643c5b5d"
      }
     },
     "metadata": {},
     "output_type": "display_data"
    },
    {
     "data": {
      "application/vnd.jupyter.widget-view+json": {
       "model_id": "b5ddecbe62d6434988662cb4c88902b7"
      }
     },
     "metadata": {},
     "output_type": "display_data"
    },
    {
     "data": {
      "application/vnd.jupyter.widget-view+json": {
       "model_id": "dcf5bc4e5bf64ddc8a0270b245c0831e"
      }
     },
     "metadata": {},
     "output_type": "display_data"
    },
    {
     "data": {
      "application/vnd.jupyter.widget-view+json": {
       "model_id": "ba6bf821fd414b34b728abc2386984a4"
      }
     },
     "metadata": {},
     "output_type": "display_data"
    },
    {
     "data": {
      "application/vnd.jupyter.widget-view+json": {
       "model_id": "cda9156b97924319b65419241e259a40"
      }
     },
     "metadata": {},
     "output_type": "display_data"
    },
    {
     "data": {
      "application/vnd.jupyter.widget-view+json": {
       "model_id": "8e0ba5d88ee745fc92bb19000ec5b6c2"
      }
     },
     "metadata": {},
     "output_type": "display_data"
    },
    {
     "data": {
      "application/vnd.jupyter.widget-view+json": {
       "model_id": "e2d0a1677f954113b3797ba1fbd4e0e5"
      }
     },
     "metadata": {},
     "output_type": "display_data"
    },
    {
     "data": {
      "application/vnd.jupyter.widget-view+json": {
       "model_id": "1add24c17ab34c91b67d35c1403f9788"
      }
     },
     "metadata": {},
     "output_type": "display_data"
    },
    {
     "data": {
      "application/vnd.jupyter.widget-view+json": {
       "model_id": "99ae4720d194457bb952e4335306ca1b"
      }
     },
     "metadata": {},
     "output_type": "display_data"
    },
    {
     "data": {
      "application/vnd.jupyter.widget-view+json": {
       "model_id": "614c7a6125754e3fab3975b7c2279725"
      }
     },
     "metadata": {},
     "output_type": "display_data"
    },
    {
     "data": {
      "application/vnd.jupyter.widget-view+json": {
       "model_id": "6c25b9e6bd5543cbaed1afa567cdd922"
      }
     },
     "metadata": {},
     "output_type": "display_data"
    },
    {
     "data": {
      "application/vnd.jupyter.widget-view+json": {
       "model_id": "f522e7f8c35a4efd89b277bdd88120cc"
      }
     },
     "metadata": {},
     "output_type": "display_data"
    },
    {
     "data": {
      "application/vnd.jupyter.widget-view+json": {
       "model_id": "dfac4e03cb094501a87cd81c07f8b0f8"
      }
     },
     "metadata": {},
     "output_type": "display_data"
    },
    {
     "data": {
      "application/vnd.jupyter.widget-view+json": {
       "model_id": "dceb8910b44d46998a557713102b6e29"
      }
     },
     "metadata": {},
     "output_type": "display_data"
    },
    {
     "data": {
      "application/vnd.jupyter.widget-view+json": {
       "model_id": "6defeed938f047869fa256eb34ae42ab"
      }
     },
     "metadata": {},
     "output_type": "display_data"
    },
    {
     "data": {
      "application/vnd.jupyter.widget-view+json": {
       "model_id": "887717e7bcc14eb5af1a669eb476d051"
      }
     },
     "metadata": {},
     "output_type": "display_data"
    },
    {
     "data": {
      "application/vnd.jupyter.widget-view+json": {
       "model_id": "584ef244ec9b440692970281fdb5fa50"
      }
     },
     "metadata": {},
     "output_type": "display_data"
    },
    {
     "data": {
      "application/vnd.jupyter.widget-view+json": {
       "model_id": "afdf37cf60e54554bb642c278a9475f2"
      }
     },
     "metadata": {},
     "output_type": "display_data"
    },
    {
     "data": {
      "application/vnd.jupyter.widget-view+json": {
       "model_id": "ecdec99a14064f4aba3a6b8dfb93fe50"
      }
     },
     "metadata": {},
     "output_type": "display_data"
    },
    {
     "data": {
      "application/vnd.jupyter.widget-view+json": {
       "model_id": "8882c5cbb4d446f396345b1c24897962"
      }
     },
     "metadata": {},
     "output_type": "display_data"
    },
    {
     "data": {
      "application/vnd.jupyter.widget-view+json": {
       "model_id": "77b5a496790c4361bdd503627b18bf72"
      }
     },
     "metadata": {},
     "output_type": "display_data"
    },
    {
     "data": {
      "application/vnd.jupyter.widget-view+json": {
       "model_id": "abc287d52aab45f99d6df1d615f472cb"
      }
     },
     "metadata": {},
     "output_type": "display_data"
    },
    {
     "data": {
      "application/vnd.jupyter.widget-view+json": {
       "model_id": "5b2340dfbfeb45b48e6bdeb44d520c71"
      }
     },
     "metadata": {},
     "output_type": "display_data"
    },
    {
     "data": {
      "application/vnd.jupyter.widget-view+json": {
       "model_id": "a75b28ce21b549ed80239149eb312e0e"
      }
     },
     "metadata": {},
     "output_type": "display_data"
    },
    {
     "data": {
      "application/vnd.jupyter.widget-view+json": {
       "model_id": "4f24f64073e64988ac28919bf810771f"
      }
     },
     "metadata": {},
     "output_type": "display_data"
    },
    {
     "data": {
      "application/vnd.jupyter.widget-view+json": {
       "model_id": "218cb8c71849493e99ebfd4a9e477930"
      }
     },
     "metadata": {},
     "output_type": "display_data"
    },
    {
     "data": {
      "application/vnd.jupyter.widget-view+json": {
       "model_id": "0e76d47ee4c84d4e801bed2e9a89e1a6"
      }
     },
     "metadata": {},
     "output_type": "display_data"
    }
   ],
   "source": [
    "batch_size=32\n",
    "\n",
    "CV_frac = 0.1\n",
    "train_gen = data_generator(batch_size,'../Data/bal_laugh_speech_subset.tfrecord', 0, 1-CV_frac)\n",
    "val_gen = data_generator(128,'../Data/bal_laugh_speech_subset.tfrecord', 1-CV_frac, 1)\n",
    "\n",
    "rec_len = 18768\n",
    "\n",
    "lr_h = lr_model.fit_generator(train_gen,steps_per_epoch=int(rec_len*(1-CV_frac))//batch_size, epochs=100,\n",
    "                       validation_data=val_gen, validation_steps=int(rec_len*CV_frac)//128,\n",
    "                       verbose=0, callbacks=[TQDMNotebookCallback()])"
   ]
  },
  {
   "cell_type": "code",
   "execution_count": 18,
   "metadata": {},
   "outputs": [
    {
     "data": {
      "text/plain": [
       "<matplotlib.legend.Legend at 0x126c1fef0>"
      ]
     },
     "execution_count": 18,
     "metadata": {},
     "output_type": "execute_result"
    },
    {
     "data": {
      "image/png": "[encoded data removed]",
      "text/plain": [
       "<matplotlib.figure.Figure at 0x12e4e5208>"
      ]
     },
     "metadata": {},
     "output_type": "display_data"
    }
   ],
   "source": [
    "plt.plot(lr_h.history['acc'], label='train_acc')\n",
    "plt.plot(lr_h.history['val_acc'], label='val_acc')\n",
    "plt.legend()"
   ]
  },
  {
   "cell_type": "code",
   "execution_count": 19,
   "metadata": {},
   "outputs": [],
   "source": [
    "lr_model.save('../Models/LogisticRegression_100Epochs.h5')"
   ]
  },
  {
   "cell_type": "markdown",
   "metadata": {},
   "source": [
    "### Single Layer LSTM"
   ]
  },
  {
   "cell_type": "code",
   "execution_count": 5,
   "metadata": {},
   "outputs": [],
   "source": [
    "from tensorflow.keras.models import Sequential\n",
    "from tensorflow.keras.layers import Dense, BatchNormalization, Dropout\n",
    "from tensorflow.keras.layers import LSTM\n",
    "from tensorflow.keras import regularizers\n",
    "\n",
    "lstm_model = Sequential()\n",
    "lstm_model.add(BatchNormalization(input_shape=(None, 128)))\n",
    "lstm_model.add(Dropout(0.5))\n",
    "lstm_model.add(LSTM(128, activation='relu',\n",
    "        kernel_regularizer=regularizers.l2(0.01),\n",
    "        activity_regularizer=regularizers.l2(0.01)))\n",
    "lstm_model.add(Dense(1, activation='sigmoid'))\n",
    "\n",
    "# try using different optimizers and different optimizer configs\n",
    "lstm_model.compile(loss='binary_crossentropy',\n",
    "              optimizer='adam',\n",
    "              metrics=['accuracy'])"
   ]
  },
  {
   "cell_type": "code",
   "execution_count": 20,
   "metadata": {},
   "outputs": [
    {
     "data": {
      "application/vnd.jupyter.widget-view+json": {
       "model_id": "3095c9bdb4d849578a354151bd3cd8ab"
      }
     },
     "metadata": {},
     "output_type": "display_data"
    },
    {
     "data": {
      "application/vnd.jupyter.widget-view+json": {
       "model_id": "f55834ed5d7d4af383e9c3d3a48235a9"
      }
     },
     "metadata": {},
     "output_type": "display_data"
    },
    {
     "data": {
      "application/vnd.jupyter.widget-view+json": {
       "model_id": "0a66ca5045d54565a8a4eae12012744f"
      }
     },
     "metadata": {},
     "output_type": "display_data"
    },
    {
     "data": {
      "application/vnd.jupyter.widget-view+json": {
       "model_id": "e8008e1cc3874c33a72391eea7f9a89d"
      }
     },
     "metadata": {},
     "output_type": "display_data"
    },
    {
     "data": {
      "application/vnd.jupyter.widget-view+json": {
       "model_id": "8f2d038891aa419da6c9bd42d63984de"
      }
     },
     "metadata": {},
     "output_type": "display_data"
    },
    {
     "data": {
      "application/vnd.jupyter.widget-view+json": {
       "model_id": "a69e9eb6489a44af91bf65f291737b01"
      }
     },
     "metadata": {},
     "output_type": "display_data"
    },
    {
     "ename": "KeyboardInterrupt",
     "evalue": "",
     "output_type": "error",
     "traceback": [
      "\u001b[0;31m---------------------------------------------------------------------------\u001b[0m",
      "\u001b[0;31mKeyboardInterrupt\u001b[0m                         Traceback (most recent call last)",
      "\u001b[0;32m<ipython-input-20-eec0aaf8e786>\u001b[0m in \u001b[0;36m<module>\u001b[0;34m()\u001b[0m\n\u001b[1;32m      9\u001b[0m lstm_h = lstm_model.fit_generator(train_gen,steps_per_epoch=int(rec_len*(1-CV_frac))//batch_size, epochs=100, \n\u001b[1;32m     10\u001b[0m                        \u001b[0mvalidation_data\u001b[0m\u001b[0;34m=\u001b[0m\u001b[0mval_gen\u001b[0m\u001b[0;34m,\u001b[0m \u001b[0mvalidation_steps\u001b[0m\u001b[0;34m=\u001b[0m\u001b[0mint\u001b[0m\u001b[0;34m(\u001b[0m\u001b[0mrec_len\u001b[0m\u001b[0;34m*\u001b[0m\u001b[0mCV_frac\u001b[0m\u001b[0;34m)\u001b[0m\u001b[0;34m//\u001b[0m\u001b[0;36m128\u001b[0m\u001b[0;34m,\u001b[0m\u001b[0;34m\u001b[0m\u001b[0m\n\u001b[0;32m---> 11\u001b[0;31m                        verbose=0, callbacks=[TQDMNotebookCallback()])\n\u001b[0m",
      "\u001b[0;32m~/anaconda3/lib/python3.6/site-packages/keras/legacy/interfaces.py\u001b[0m in \u001b[0;36mwrapper\u001b[0;34m(*args, **kwargs)\u001b[0m\n\u001b[1;32m     85\u001b[0m                 warnings.warn('Update your `' + object_name +\n\u001b[1;32m     86\u001b[0m                               '` call to the Keras 2 API: ' + signature, stacklevel=2)\n\u001b[0;32m---> 87\u001b[0;31m             \u001b[0;32mreturn\u001b[0m \u001b[0mfunc\u001b[0m\u001b[0;34m(\u001b[0m\u001b[0;34m*\u001b[0m\u001b[0margs\u001b[0m\u001b[0;34m,\u001b[0m \u001b[0;34m**\u001b[0m\u001b[0mkwargs\u001b[0m\u001b[0;34m)\u001b[0m\u001b[0;34m\u001b[0m\u001b[0m\n\u001b[0m\u001b[1;32m     88\u001b[0m         \u001b[0mwrapper\u001b[0m\u001b[0;34m.\u001b[0m\u001b[0m_original_function\u001b[0m \u001b[0;34m=\u001b[0m \u001b[0mfunc\u001b[0m\u001b[0;34m\u001b[0m\u001b[0m\n\u001b[1;32m     89\u001b[0m         \u001b[0;32mreturn\u001b[0m \u001b[0mwrapper\u001b[0m\u001b[0;34m\u001b[0m\u001b[0m\n",
      "\u001b[0;32m~/anaconda3/lib/python3.6/site-packages/keras/models.py\u001b[0m in \u001b[0;36mfit_generator\u001b[0;34m(self, generator, steps_per_epoch, epochs, verbose, callbacks, validation_data, validation_steps, class_weight, max_queue_size, workers, use_multiprocessing, initial_epoch)\u001b[0m\n\u001b[1;32m   1115\u001b[0m                                         \u001b[0mworkers\u001b[0m\u001b[0;34m=\u001b[0m\u001b[0mworkers\u001b[0m\u001b[0;34m,\u001b[0m\u001b[0;34m\u001b[0m\u001b[0m\n\u001b[1;32m   1116\u001b[0m                                         \u001b[0muse_multiprocessing\u001b[0m\u001b[0;34m=\u001b[0m\u001b[0muse_multiprocessing\u001b[0m\u001b[0;34m,\u001b[0m\u001b[0;34m\u001b[0m\u001b[0m\n\u001b[0;32m-> 1117\u001b[0;31m                                         initial_epoch=initial_epoch)\n\u001b[0m\u001b[1;32m   1118\u001b[0m \u001b[0;34m\u001b[0m\u001b[0m\n\u001b[1;32m   1119\u001b[0m     \u001b[0;34m@\u001b[0m\u001b[0minterfaces\u001b[0m\u001b[0;34m.\u001b[0m\u001b[0mlegacy_generator_methods_support\u001b[0m\u001b[0;34m\u001b[0m\u001b[0m\n",
      "\u001b[0;32m~/anaconda3/lib/python3.6/site-packages/keras/legacy/interfaces.py\u001b[0m in \u001b[0;36mwrapper\u001b[0;34m(*args, **kwargs)\u001b[0m\n\u001b[1;32m     85\u001b[0m                 warnings.warn('Update your `' + object_name +\n\u001b[1;32m     86\u001b[0m                               '` call to the Keras 2 API: ' + signature, stacklevel=2)\n\u001b[0;32m---> 87\u001b[0;31m             \u001b[0;32mreturn\u001b[0m \u001b[0mfunc\u001b[0m\u001b[0;34m(\u001b[0m\u001b[0;34m*\u001b[0m\u001b[0margs\u001b[0m\u001b[0;34m,\u001b[0m \u001b[0;34m**\u001b[0m\u001b[0mkwargs\u001b[0m\u001b[0;34m)\u001b[0m\u001b[0;34m\u001b[0m\u001b[0m\n\u001b[0m\u001b[1;32m     88\u001b[0m         \u001b[0mwrapper\u001b[0m\u001b[0;34m.\u001b[0m\u001b[0m_original_function\u001b[0m \u001b[0;34m=\u001b[0m \u001b[0mfunc\u001b[0m\u001b[0;34m\u001b[0m\u001b[0m\n\u001b[1;32m     89\u001b[0m         \u001b[0;32mreturn\u001b[0m \u001b[0mwrapper\u001b[0m\u001b[0;34m\u001b[0m\u001b[0m\n",
      "\u001b[0;32m~/anaconda3/lib/python3.6/site-packages/keras/engine/training.py\u001b[0m in \u001b[0;36mfit_generator\u001b[0;34m(self, generator, steps_per_epoch, epochs, verbose, callbacks, validation_data, validation_steps, class_weight, max_queue_size, workers, use_multiprocessing, initial_epoch)\u001b[0m\n\u001b[1;32m   1838\u001b[0m                     outs = self.train_on_batch(x, y,\n\u001b[1;32m   1839\u001b[0m                                                \u001b[0msample_weight\u001b[0m\u001b[0;34m=\u001b[0m\u001b[0msample_weight\u001b[0m\u001b[0;34m,\u001b[0m\u001b[0;34m\u001b[0m\u001b[0m\n\u001b[0;32m-> 1840\u001b[0;31m                                                class_weight=class_weight)\n\u001b[0m\u001b[1;32m   1841\u001b[0m \u001b[0;34m\u001b[0m\u001b[0m\n\u001b[1;32m   1842\u001b[0m                     \u001b[0;32mif\u001b[0m \u001b[0;32mnot\u001b[0m \u001b[0misinstance\u001b[0m\u001b[0;34m(\u001b[0m\u001b[0mouts\u001b[0m\u001b[0;34m,\u001b[0m \u001b[0mlist\u001b[0m\u001b[0;34m)\u001b[0m\u001b[0;34m:\u001b[0m\u001b[0;34m\u001b[0m\u001b[0m\n",
      "\u001b[0;32m~/anaconda3/lib/python3.6/site-packages/keras/engine/training.py\u001b[0m in \u001b[0;36mtrain_on_batch\u001b[0;34m(self, x, y, sample_weight, class_weight)\u001b[0m\n\u001b[1;32m   1563\u001b[0m             \u001b[0mins\u001b[0m \u001b[0;34m=\u001b[0m \u001b[0mx\u001b[0m \u001b[0;34m+\u001b[0m \u001b[0my\u001b[0m \u001b[0;34m+\u001b[0m \u001b[0msample_weights\u001b[0m\u001b[0;34m\u001b[0m\u001b[0m\n\u001b[1;32m   1564\u001b[0m         \u001b[0mself\u001b[0m\u001b[0;34m.\u001b[0m\u001b[0m_make_train_function\u001b[0m\u001b[0;34m(\u001b[0m\u001b[0;34m)\u001b[0m\u001b[0;34m\u001b[0m\u001b[0m\n\u001b[0;32m-> 1565\u001b[0;31m         \u001b[0moutputs\u001b[0m \u001b[0;34m=\u001b[0m \u001b[0mself\u001b[0m\u001b[0;34m.\u001b[0m\u001b[0mtrain_function\u001b[0m\u001b[0;34m(\u001b[0m\u001b[0mins\u001b[0m\u001b[0;34m)\u001b[0m\u001b[0;34m\u001b[0m\u001b[0m\n\u001b[0m\u001b[1;32m   1566\u001b[0m         \u001b[0;32mif\u001b[0m \u001b[0mlen\u001b[0m\u001b[0;34m(\u001b[0m\u001b[0moutputs\u001b[0m\u001b[0;34m)\u001b[0m \u001b[0;34m==\u001b[0m \u001b[0;36m1\u001b[0m\u001b[0;34m:\u001b[0m\u001b[0;34m\u001b[0m\u001b[0m\n\u001b[1;32m   1567\u001b[0m             \u001b[0;32mreturn\u001b[0m \u001b[0moutputs\u001b[0m\u001b[0;34m[\u001b[0m\u001b[0;36m0\u001b[0m\u001b[0;34m]\u001b[0m\u001b[0;34m\u001b[0m\u001b[0m\n",
      "\u001b[0;32m~/anaconda3/lib/python3.6/site-packages/keras/backend/tensorflow_backend.py\u001b[0m in \u001b[0;36m__call__\u001b[0;34m(self, inputs)\u001b[0m\n\u001b[1;32m   2266\u001b[0m         updated = session.run(self.outputs + [self.updates_op],\n\u001b[1;32m   2267\u001b[0m                               \u001b[0mfeed_dict\u001b[0m\u001b[0;34m=\u001b[0m\u001b[0mfeed_dict\u001b[0m\u001b[0;34m,\u001b[0m\u001b[0;34m\u001b[0m\u001b[0m\n\u001b[0;32m-> 2268\u001b[0;31m                               **self.session_kwargs)\n\u001b[0m\u001b[1;32m   2269\u001b[0m         \u001b[0;32mreturn\u001b[0m \u001b[0mupdated\u001b[0m\u001b[0;34m[\u001b[0m\u001b[0;34m:\u001b[0m\u001b[0mlen\u001b[0m\u001b[0;34m(\u001b[0m\u001b[0mself\u001b[0m\u001b[0;34m.\u001b[0m\u001b[0moutputs\u001b[0m\u001b[0;34m)\u001b[0m\u001b[0;34m]\u001b[0m\u001b[0;34m\u001b[0m\u001b[0m\n\u001b[1;32m   2270\u001b[0m \u001b[0;34m\u001b[0m\u001b[0m\n",
      "\u001b[0;32m~/anaconda3/lib/python3.6/site-packages/tensorflow/python/client/session.py\u001b[0m in \u001b[0;36mrun\u001b[0;34m(self, fetches, feed_dict, options, run_metadata)\u001b[0m\n\u001b[1;32m    787\u001b[0m     \u001b[0;32mtry\u001b[0m\u001b[0;34m:\u001b[0m\u001b[0;34m\u001b[0m\u001b[0m\n\u001b[1;32m    788\u001b[0m       result = self._run(None, fetches, feed_dict, options_ptr,\n\u001b[0;32m--> 789\u001b[0;31m                          run_metadata_ptr)\n\u001b[0m\u001b[1;32m    790\u001b[0m       \u001b[0;32mif\u001b[0m \u001b[0mrun_metadata\u001b[0m\u001b[0;34m:\u001b[0m\u001b[0;34m\u001b[0m\u001b[0m\n\u001b[1;32m    791\u001b[0m         \u001b[0mproto_data\u001b[0m \u001b[0;34m=\u001b[0m \u001b[0mtf_session\u001b[0m\u001b[0;34m.\u001b[0m\u001b[0mTF_GetBuffer\u001b[0m\u001b[0;34m(\u001b[0m\u001b[0mrun_metadata_ptr\u001b[0m\u001b[0;34m)\u001b[0m\u001b[0;34m\u001b[0m\u001b[0m\n",
      "\u001b[0;32m~/anaconda3/lib/python3.6/site-packages/tensorflow/python/client/session.py\u001b[0m in \u001b[0;36m_run\u001b[0;34m(self, handle, fetches, feed_dict, options, run_metadata)\u001b[0m\n\u001b[1;32m    995\u001b[0m     \u001b[0;32mif\u001b[0m \u001b[0mfinal_fetches\u001b[0m \u001b[0;32mor\u001b[0m \u001b[0mfinal_targets\u001b[0m\u001b[0;34m:\u001b[0m\u001b[0;34m\u001b[0m\u001b[0m\n\u001b[1;32m    996\u001b[0m       results = self._do_run(handle, final_targets, final_fetches,\n\u001b[0;32m--> 997\u001b[0;31m                              feed_dict_string, options, run_metadata)\n\u001b[0m\u001b[1;32m    998\u001b[0m     \u001b[0;32melse\u001b[0m\u001b[0;34m:\u001b[0m\u001b[0;34m\u001b[0m\u001b[0m\n\u001b[1;32m    999\u001b[0m       \u001b[0mresults\u001b[0m \u001b[0;34m=\u001b[0m \u001b[0;34m[\u001b[0m\u001b[0;34m]\u001b[0m\u001b[0;34m\u001b[0m\u001b[0m\n",
      "\u001b[0;32m~/anaconda3/lib/python3.6/site-packages/tensorflow/python/client/session.py\u001b[0m in \u001b[0;36m_do_run\u001b[0;34m(self, handle, target_list, fetch_list, feed_dict, options, run_metadata)\u001b[0m\n\u001b[1;32m   1130\u001b[0m     \u001b[0;32mif\u001b[0m \u001b[0mhandle\u001b[0m \u001b[0;32mis\u001b[0m \u001b[0;32mNone\u001b[0m\u001b[0;34m:\u001b[0m\u001b[0;34m\u001b[0m\u001b[0m\n\u001b[1;32m   1131\u001b[0m       return self._do_call(_run_fn, self._session, feed_dict, fetch_list,\n\u001b[0;32m-> 1132\u001b[0;31m                            target_list, options, run_metadata)\n\u001b[0m\u001b[1;32m   1133\u001b[0m     \u001b[0;32melse\u001b[0m\u001b[0;34m:\u001b[0m\u001b[0;34m\u001b[0m\u001b[0m\n\u001b[1;32m   1134\u001b[0m       return self._do_call(_prun_fn, self._session, handle, feed_dict,\n",
      "\u001b[0;32m~/anaconda3/lib/python3.6/site-packages/tensorflow/python/client/session.py\u001b[0m in \u001b[0;36m_do_call\u001b[0;34m(self, fn, *args)\u001b[0m\n\u001b[1;32m   1137\u001b[0m   \u001b[0;32mdef\u001b[0m \u001b[0m_do_call\u001b[0m\u001b[0;34m(\u001b[0m\u001b[0mself\u001b[0m\u001b[0;34m,\u001b[0m \u001b[0mfn\u001b[0m\u001b[0;34m,\u001b[0m \u001b[0;34m*\u001b[0m\u001b[0margs\u001b[0m\u001b[0;34m)\u001b[0m\u001b[0;34m:\u001b[0m\u001b[0;34m\u001b[0m\u001b[0m\n\u001b[1;32m   1138\u001b[0m     \u001b[0;32mtry\u001b[0m\u001b[0;34m:\u001b[0m\u001b[0;34m\u001b[0m\u001b[0m\n\u001b[0;32m-> 1139\u001b[0;31m       \u001b[0;32mreturn\u001b[0m \u001b[0mfn\u001b[0m\u001b[0;34m(\u001b[0m\u001b[0;34m*\u001b[0m\u001b[0margs\u001b[0m\u001b[0;34m)\u001b[0m\u001b[0;34m\u001b[0m\u001b[0m\n\u001b[0m\u001b[1;32m   1140\u001b[0m     \u001b[0;32mexcept\u001b[0m \u001b[0merrors\u001b[0m\u001b[0;34m.\u001b[0m\u001b[0mOpError\u001b[0m \u001b[0;32mas\u001b[0m \u001b[0me\u001b[0m\u001b[0;34m:\u001b[0m\u001b[0;34m\u001b[0m\u001b[0m\n\u001b[1;32m   1141\u001b[0m       \u001b[0mmessage\u001b[0m \u001b[0;34m=\u001b[0m \u001b[0mcompat\u001b[0m\u001b[0;34m.\u001b[0m\u001b[0mas_text\u001b[0m\u001b[0;34m(\u001b[0m\u001b[0me\u001b[0m\u001b[0;34m.\u001b[0m\u001b[0mmessage\u001b[0m\u001b[0;34m)\u001b[0m\u001b[0;34m\u001b[0m\u001b[0m\n",
      "\u001b[0;32m~/anaconda3/lib/python3.6/site-packages/tensorflow/python/client/session.py\u001b[0m in \u001b[0;36m_run_fn\u001b[0;34m(session, feed_dict, fetch_list, target_list, options, run_metadata)\u001b[0m\n\u001b[1;32m   1119\u001b[0m         return tf_session.TF_Run(session, options,\n\u001b[1;32m   1120\u001b[0m                                  \u001b[0mfeed_dict\u001b[0m\u001b[0;34m,\u001b[0m \u001b[0mfetch_list\u001b[0m\u001b[0;34m,\u001b[0m \u001b[0mtarget_list\u001b[0m\u001b[0;34m,\u001b[0m\u001b[0;34m\u001b[0m\u001b[0m\n\u001b[0;32m-> 1121\u001b[0;31m                                  status, run_metadata)\n\u001b[0m\u001b[1;32m   1122\u001b[0m \u001b[0;34m\u001b[0m\u001b[0m\n\u001b[1;32m   1123\u001b[0m     \u001b[0;32mdef\u001b[0m \u001b[0m_prun_fn\u001b[0m\u001b[0;34m(\u001b[0m\u001b[0msession\u001b[0m\u001b[0;34m,\u001b[0m \u001b[0mhandle\u001b[0m\u001b[0;34m,\u001b[0m \u001b[0mfeed_dict\u001b[0m\u001b[0;34m,\u001b[0m \u001b[0mfetch_list\u001b[0m\u001b[0;34m)\u001b[0m\u001b[0;34m:\u001b[0m\u001b[0;34m\u001b[0m\u001b[0m\n",
      "\u001b[0;31mKeyboardInterrupt\u001b[0m: "
     ]
    },
    {
     "name": "stdout",
     "output_type": "stream",
     "text": [
      "329/|/[loss: 0.301, acc: 0.896] :  62%|| 329/527 [00:28<00:08, 23.71it/s]"
     ]
    }
   ],
   "source": [
    "batch_size=32\n",
    "\n",
    "CV_frac = 0.1\n",
    "train_gen = data_generator(batch_size,'../Data/bal_laugh_speech_subset.tfrecord', 0, 1-CV_frac)\n",
    "val_gen = data_generator(128,'../Data/bal_laugh_speech_subset.tfrecord', 1-CV_frac, 1)\n",
    "\n",
    "rec_len = 18768\n",
    "\n",
    "lstm_h = lstm_model.fit_generator(train_gen,steps_per_epoch=int(rec_len*(1-CV_frac))//batch_size, epochs=100,\n",
    "                       validation_data=val_gen, validation_steps=int(rec_len*CV_frac)//128,\n",
    "                       verbose=0, callbacks=[TQDMNotebookCallback()])"
   ]
  },
  {
   "cell_type": "code",
   "execution_count": 8,
   "metadata": {},
   "outputs": [
    {
     "data": {
      "text/plain": [
       "<matplotlib.legend.Legend at 0x12819be48>"
      ]
     },
     "execution_count": 8,
     "metadata": {},
     "output_type": "execute_result"
    },
    {
     "data": {
      "image/png": "[encoded data removed]",
      "text/plain": [
       "<matplotlib.figure.Figure at 0x1284bdf98>"
      ]
     },
     "metadata": {},
     "output_type": "display_data"
    }
   ],
   "source": [
    "plt.plot(lstm_h.history['acc'], label='train_acc')\n",
    "plt.plot(lstm_h.history['val_acc'], label='val_acc')\n",
    "plt.legend()"
   ]
  },
  {
   "cell_type": "code",
   "execution_count": 9,
   "metadata": {},
   "outputs": [],
   "source": [
    "lstm_model.save('../Models/LSTM_SingleLayer_100Epochs.h5')"
   ]
  },
  {
   "cell_type": "markdown",
   "metadata": {},
   "source": [
    "### 3 Layer LSTM"
   ]
  },
  {
   "cell_type": "code",
   "execution_count": 25,
   "metadata": {},
   "outputs": [
    {
     "name": "stdout",
     "output_type": "stream",
     "text": [
      "Model: \"sequential_9\"\n",
      "_________________________________________________________________\n",
      "Layer (type)                 Output Shape              Param #   \n",
      "=================================================================\n",
      "batch_normalization_v2_25 (B (None, None, 128)         512       \n",
      "_________________________________________________________________\n",
      "dropout_25 (Dropout)         (None, None, 128)         0         \n",
      "_________________________________________________________________\n",
      "cu_dnnlstm_6 (CuDNNLSTM)     (None, None, 64)          49664     \n",
      "_________________________________________________________________\n",
      "batch_normalization_v2_26 (B (None, None, 64)          256       \n",
      "_________________________________________________________________\n",
      "dropout_26 (Dropout)         (None, None, 64)          0         \n",
      "_________________________________________________________________\n",
      "cu_dnnlstm_7 (CuDNNLSTM)     (None, None, 64)          33280     \n",
      "_________________________________________________________________\n",
      "batch_normalization_v2_27 (B (None, None, 64)          256       \n",
      "_________________________________________________________________\n",
      "dropout_27 (Dropout)         (None, None, 64)          0         \n",
      "_________________________________________________________________\n",
      "cu_dnnlstm_8 (CuDNNLSTM)     (None, 64)                33280     \n",
      "_________________________________________________________________\n",
      "dense_8 (Dense)              (None, 1)                 65        \n",
      "=================================================================\n",
      "Total params: 117,313\n",
      "Trainable params: 116,801\n",
      "Non-trainable params: 512\n",
      "_________________________________________________________________\n"
     ]
    }
   ],
   "source": [
    "from tensorflow.keras.models import Sequential\n",
    "from tensorflow.keras.layers import Dense, BatchNormalization, Dropout\n",
    "from tensorflow.keras.layers import LSTM, TimeDistributed\n",
    "from tensorflow.compat.v1.keras.layers import CuDNNLSTM\n",
    "from tensorflow.keras import regularizers\n",
    "from tensorflow.keras.optimizers import Adam\n",
    "\n",
    "lstm3_model = Sequential()\n",
    "lstm3_model.add(BatchNormalization(input_shape=(None, 128)))\n",
    "lstm3_model.add(Dropout(0.5))\n",
    "\n",
    "lstm3_model.add(CuDNNLSTM(64, #activation='relu',\n",
    "        kernel_regularizer=regularizers.l2(0.01),\n",
    "        activity_regularizer=regularizers.l2(0.01),\n",
    "        return_sequences=True))\n",
    "\n",
    "lstm3_model.add(BatchNormalization())\n",
    "lstm3_model.add(Dropout(0.5))\n",
    "\n",
    "lstm3_model.add(CuDNNLSTM(64, #activation='relu',\n",
    "        kernel_regularizer=regularizers.l2(0.01),\n",
    "        activity_regularizer=regularizers.l2(0.01),\n",
    "        return_sequences=True))\n",
    "\n",
    "lstm3_model.add(BatchNormalization())\n",
    "lstm3_model.add(Dropout(0.5))\n",
    "\n",
    "lstm3_model.add(CuDNNLSTM(64, #activation='relu',\n",
    "        kernel_regularizer=regularizers.l2(0.01),\n",
    "        activity_regularizer=regularizers.l2(0.01)))\n",
    "\n",
    "lstm3_model.add(Dense(1, activation='sigmoid'))\n",
    "\n",
    "lstm3_model.summary()\n",
    "\n",
    "# try using different optimizers and different optimizer configs\n",
    "opt = Adam(lr=0.0001, beta_1=0.9, beta_2=0.999, decay=0.01)\n",
    "lstm3_model.compile(loss='binary_crossentropy',\n",
    "              optimizer=opt,\n",
    "              metrics=['accuracy'])"
   ]
  },
  {
   "cell_type": "code",
   "execution_count": 40,
   "metadata": {},
   "outputs": [
    {
     "name": "stdout",
     "output_type": "stream",
     "text": [
      "Epoch 1/100\n",
      "355/355 [==============================] - 12s 35ms/step - loss: 2.5243 - accuracy: 0.6076 - val_loss: 1.8520 - val_accuracy: 0.8845\n",
      "Epoch 2/100\n",
      "355/355 [==============================] - 6s 18ms/step - loss: 1.9353 - accuracy: 0.8309 - val_loss: 1.7302 - val_accuracy: 0.9193\n",
      "Epoch 3/100\n",
      "355/355 [==============================] - 6s 17ms/step - loss: 1.8129 - accuracy: 0.8706 - val_loss: 1.6853 - val_accuracy: 0.9210\n",
      "Epoch 4/100\n",
      "355/355 [==============================] - 6s 17ms/step - loss: 1.7518 - accuracy: 0.8836 - val_loss: 1.6202 - val_accuracy: 0.9288\n",
      "Epoch 5/100\n",
      "355/355 [==============================] - 6s 17ms/step - loss: 1.7081 - accuracy: 0.8907 - val_loss: 1.6041 - val_accuracy: 0.9280\n",
      "Epoch 6/100\n",
      "355/355 [==============================] - 6s 17ms/step - loss: 1.6709 - accuracy: 0.8988 - val_loss: 1.5590 - val_accuracy: 0.9297\n",
      "Epoch 7/100\n",
      "355/355 [==============================] - 6s 17ms/step - loss: 1.6419 - accuracy: 0.9023 - val_loss: 1.5748 - val_accuracy: 0.9271\n",
      "Epoch 8/100\n",
      "355/355 [==============================] - 6s 17ms/step - loss: 1.6154 - accuracy: 0.9039 - val_loss: 1.5193 - val_accuracy: 0.9332\n",
      "Epoch 9/100\n",
      "355/355 [==============================] - 6s 17ms/step - loss: 1.6019 - accuracy: 0.9036 - val_loss: 1.5187 - val_accuracy: 0.9323\n",
      "Epoch 10/100\n",
      "355/355 [==============================] - 6s 17ms/step - loss: 1.5833 - accuracy: 0.9047 - val_loss: 1.5173 - val_accuracy: 0.9236\n",
      "Epoch 11/100\n",
      "355/355 [==============================] - 6s 18ms/step - loss: 1.5679 - accuracy: 0.9070 - val_loss: 1.4730 - val_accuracy: 0.9340\n",
      "Epoch 12/100\n",
      "355/355 [==============================] - 6s 17ms/step - loss: 1.5575 - accuracy: 0.9092 - val_loss: 1.4987 - val_accuracy: 0.9236\n",
      "Epoch 13/100\n",
      "355/355 [==============================] - 6s 17ms/step - loss: 1.5425 - accuracy: 0.9085 - val_loss: 1.4541 - val_accuracy: 0.9375\n",
      "Epoch 14/100\n",
      "355/355 [==============================] - 6s 17ms/step - loss: 1.5291 - accuracy: 0.9100 - val_loss: 1.4560 - val_accuracy: 0.9349\n",
      "Epoch 15/100\n",
      "355/355 [==============================] - 6s 17ms/step - loss: 1.5220 - accuracy: 0.9097 - val_loss: 1.4357 - val_accuracy: 0.9297\n",
      "Epoch 16/100\n",
      "355/355 [==============================] - 6s 17ms/step - loss: 1.5104 - accuracy: 0.9142 - val_loss: 1.4552 - val_accuracy: 0.9280\n",
      "Epoch 17/100\n",
      "355/355 [==============================] - 6s 17ms/step - loss: 1.5006 - accuracy: 0.9111 - val_loss: 1.4313 - val_accuracy: 0.9306\n",
      "Epoch 18/100\n",
      "355/355 [==============================] - 6s 17ms/step - loss: 1.4906 - accuracy: 0.9124 - val_loss: 1.4312 - val_accuracy: 0.9297\n",
      "Epoch 19/100\n",
      "355/355 [==============================] - 6s 17ms/step - loss: 1.4870 - accuracy: 0.9105 - val_loss: 1.4017 - val_accuracy: 0.9349\n",
      "Epoch 20/100\n",
      "355/355 [==============================] - 6s 17ms/step - loss: 1.4846 - accuracy: 0.9100 - val_loss: 1.4146 - val_accuracy: 0.9306\n",
      "Epoch 21/100\n",
      "355/355 [==============================] - 6s 18ms/step - loss: 1.4714 - accuracy: 0.9130 - val_loss: 1.3971 - val_accuracy: 0.9306\n",
      "Epoch 22/100\n",
      "355/355 [==============================] - 6s 17ms/step - loss: 1.4703 - accuracy: 0.9114 - val_loss: 1.3810 - val_accuracy: 0.9401\n",
      "Epoch 23/100\n",
      "355/355 [==============================] - 6s 17ms/step - loss: 1.4609 - accuracy: 0.9120 - val_loss: 1.4009 - val_accuracy: 0.9288\n",
      "Epoch 24/100\n",
      "355/355 [==============================] - 6s 17ms/step - loss: 1.4530 - accuracy: 0.9131 - val_loss: 1.3628 - val_accuracy: 0.9375\n",
      "Epoch 25/100\n",
      "355/355 [==============================] - 6s 17ms/step - loss: 1.4488 - accuracy: 0.9136 - val_loss: 1.3721 - val_accuracy: 0.9306\n",
      "Epoch 26/100\n",
      "355/355 [==============================] - 6s 17ms/step - loss: 1.4430 - accuracy: 0.9143 - val_loss: 1.3488 - val_accuracy: 0.9349\n",
      "Epoch 27/100\n",
      "355/355 [==============================] - 6s 17ms/step - loss: 1.4295 - accuracy: 0.9165 - val_loss: 1.3598 - val_accuracy: 0.9358\n",
      "Epoch 28/100\n",
      "355/355 [==============================] - 6s 17ms/step - loss: 1.4331 - accuracy: 0.9143 - val_loss: 1.3460 - val_accuracy: 0.9358\n",
      "Epoch 29/100\n",
      "355/355 [==============================] - 6s 17ms/step - loss: 1.4226 - accuracy: 0.9173 - val_loss: 1.3537 - val_accuracy: 0.9349\n",
      "Epoch 30/100\n",
      "355/355 [==============================] - 6s 17ms/step - loss: 1.4249 - accuracy: 0.9135 - val_loss: 1.3295 - val_accuracy: 0.9358\n",
      "Epoch 31/100\n",
      "355/355 [==============================] - 6s 17ms/step - loss: 1.4131 - accuracy: 0.9180 - val_loss: 1.3361 - val_accuracy: 0.9332\n",
      "Epoch 32/100\n",
      "355/355 [==============================] - 6s 17ms/step - loss: 1.4156 - accuracy: 0.9146 - val_loss: 1.3491 - val_accuracy: 0.9288\n",
      "Epoch 33/100\n",
      "355/355 [==============================] - 6s 17ms/step - loss: 1.4083 - accuracy: 0.9169 - val_loss: 1.3296 - val_accuracy: 0.9375\n",
      "Epoch 34/100\n",
      "355/355 [==============================] - 6s 17ms/step - loss: 1.4018 - accuracy: 0.9173 - val_loss: 1.3448 - val_accuracy: 0.9271\n",
      "Epoch 35/100\n",
      "355/355 [==============================] - 6s 17ms/step - loss: 1.4025 - accuracy: 0.9137 - val_loss: 1.3410 - val_accuracy: 0.9297\n",
      "Epoch 36/100\n",
      "355/355 [==============================] - 6s 17ms/step - loss: 1.3974 - accuracy: 0.9173 - val_loss: 1.3080 - val_accuracy: 0.9384\n",
      "Epoch 37/100\n",
      "355/355 [==============================] - 6s 17ms/step - loss: 1.3928 - accuracy: 0.9174 - val_loss: 1.3272 - val_accuracy: 0.9340\n",
      "Epoch 38/100\n",
      "355/355 [==============================] - 6s 17ms/step - loss: 1.3874 - accuracy: 0.9146 - val_loss: 1.3216 - val_accuracy: 0.9280\n",
      "Epoch 39/100\n",
      "355/355 [==============================] - 6s 17ms/step - loss: 1.3825 - accuracy: 0.9183 - val_loss: 1.3275 - val_accuracy: 0.9280\n",
      "Epoch 40/100\n",
      "355/355 [==============================] - 6s 17ms/step - loss: 1.3815 - accuracy: 0.9165 - val_loss: 1.3032 - val_accuracy: 0.9349\n",
      "Epoch 41/100\n",
      "355/355 [==============================] - 6s 17ms/step - loss: 1.3839 - accuracy: 0.9134 - val_loss: 1.3061 - val_accuracy: 0.9375\n",
      "Epoch 42/100\n",
      "355/355 [==============================] - 6s 17ms/step - loss: 1.3766 - accuracy: 0.9194 - val_loss: 1.3307 - val_accuracy: 0.9210\n",
      "Epoch 43/100\n",
      "355/355 [==============================] - 6s 17ms/step - loss: 1.3696 - accuracy: 0.9202 - val_loss: 1.2909 - val_accuracy: 0.9375\n",
      "Epoch 44/100\n",
      "355/355 [==============================] - 6s 17ms/step - loss: 1.3670 - accuracy: 0.9210 - val_loss: 1.3104 - val_accuracy: 0.9332\n",
      "Epoch 45/100\n",
      "355/355 [==============================] - 6s 17ms/step - loss: 1.3663 - accuracy: 0.9177 - val_loss: 1.2944 - val_accuracy: 0.9332\n",
      "Epoch 46/100\n",
      "355/355 [==============================] - 6s 17ms/step - loss: 1.3630 - accuracy: 0.9181 - val_loss: 1.3010 - val_accuracy: 0.9253\n",
      "Epoch 47/100\n",
      "355/355 [==============================] - 6s 17ms/step - loss: 1.3624 - accuracy: 0.9169 - val_loss: 1.2880 - val_accuracy: 0.9306\n",
      "Epoch 48/100\n",
      "355/355 [==============================] - 6s 17ms/step - loss: 1.3573 - accuracy: 0.9189 - val_loss: 1.2825 - val_accuracy: 0.9349\n",
      "Epoch 49/100\n",
      "355/355 [==============================] - 6s 17ms/step - loss: 1.3526 - accuracy: 0.9205 - val_loss: 1.2778 - val_accuracy: 0.9392\n",
      "Epoch 50/100\n",
      "355/355 [==============================] - 7s 18ms/step - loss: 1.3522 - accuracy: 0.9175 - val_loss: 1.2855 - val_accuracy: 0.9332\n",
      "Epoch 51/100\n",
      "355/355 [==============================] - 6s 17ms/step - loss: 1.3519 - accuracy: 0.9188 - val_loss: 1.2779 - val_accuracy: 0.9358\n",
      "Epoch 52/100\n",
      "355/355 [==============================] - 6s 17ms/step - loss: 1.3462 - accuracy: 0.9180 - val_loss: 1.2725 - val_accuracy: 0.9384\n",
      "Epoch 53/100\n",
      "355/355 [==============================] - 6s 17ms/step - loss: 1.3480 - accuracy: 0.9177 - val_loss: 1.2768 - val_accuracy: 0.9375\n",
      "Epoch 54/100\n",
      "355/355 [==============================] - 6s 17ms/step - loss: 1.3441 - accuracy: 0.9188 - val_loss: 1.2748 - val_accuracy: 0.9340\n",
      "Epoch 55/100\n",
      "355/355 [==============================] - 6s 17ms/step - loss: 1.3412 - accuracy: 0.9187 - val_loss: 1.2743 - val_accuracy: 0.9306\n",
      "Epoch 56/100\n",
      "355/355 [==============================] - 6s 17ms/step - loss: 1.3395 - accuracy: 0.9175 - val_loss: 1.2620 - val_accuracy: 0.9349\n",
      "Epoch 57/100\n",
      "355/355 [==============================] - 6s 17ms/step - loss: 1.3340 - accuracy: 0.9180 - val_loss: 1.3020 - val_accuracy: 0.9227\n",
      "Epoch 58/100\n",
      "355/355 [==============================] - 6s 17ms/step - loss: 1.3368 - accuracy: 0.9193 - val_loss: 1.2630 - val_accuracy: 0.9366\n",
      "Epoch 59/100\n",
      "355/355 [==============================] - 6s 17ms/step - loss: 1.3294 - accuracy: 0.9196 - val_loss: 1.2419 - val_accuracy: 0.9427\n",
      "Epoch 60/100\n",
      "355/355 [==============================] - 6s 17ms/step - loss: 1.3295 - accuracy: 0.9187 - val_loss: 1.2797 - val_accuracy: 0.9297\n",
      "Epoch 61/100\n",
      "355/355 [==============================] - 6s 17ms/step - loss: 1.3270 - accuracy: 0.9201 - val_loss: 1.2453 - val_accuracy: 0.9375\n",
      "Epoch 62/100\n",
      "355/355 [==============================] - 6s 17ms/step - loss: 1.3244 - accuracy: 0.9203 - val_loss: 1.2473 - val_accuracy: 0.9418\n",
      "Epoch 63/100\n",
      "355/355 [==============================] - 6s 17ms/step - loss: 1.3271 - accuracy: 0.9166 - val_loss: 1.2663 - val_accuracy: 0.9306\n",
      "Epoch 64/100\n",
      "355/355 [==============================] - 6s 17ms/step - loss: 1.3167 - accuracy: 0.9235 - val_loss: 1.2453 - val_accuracy: 0.9340\n",
      "Epoch 65/100\n",
      "355/355 [==============================] - 6s 17ms/step - loss: 1.3189 - accuracy: 0.9178 - val_loss: 1.2428 - val_accuracy: 0.9436\n",
      "Epoch 66/100\n",
      "355/355 [==============================] - 6s 17ms/step - loss: 1.3172 - accuracy: 0.9183 - val_loss: 1.2583 - val_accuracy: 0.9332\n",
      "Epoch 67/100\n",
      "355/355 [==============================] - 6s 17ms/step - loss: 1.3182 - accuracy: 0.9199 - val_loss: 1.2473 - val_accuracy: 0.9366\n",
      "Epoch 68/100\n",
      "355/355 [==============================] - 6s 17ms/step - loss: 1.3188 - accuracy: 0.9183 - val_loss: 1.2287 - val_accuracy: 0.9462\n",
      "Epoch 69/100\n",
      "355/355 [==============================] - 6s 17ms/step - loss: 1.3087 - accuracy: 0.9217 - val_loss: 1.2477 - val_accuracy: 0.9332\n",
      "Epoch 70/100\n",
      "355/355 [==============================] - 6s 17ms/step - loss: 1.3142 - accuracy: 0.9182 - val_loss: 1.2378 - val_accuracy: 0.9375\n",
      "Epoch 71/100\n",
      "355/355 [==============================] - 6s 17ms/step - loss: 1.3094 - accuracy: 0.9187 - val_loss: 1.2431 - val_accuracy: 0.9349\n",
      "Epoch 72/100\n",
      "355/355 [==============================] - 6s 17ms/step - loss: 1.3059 - accuracy: 0.9222 - val_loss: 1.2307 - val_accuracy: 0.9384\n",
      "Epoch 73/100\n",
      "355/355 [==============================] - 6s 17ms/step - loss: 1.3053 - accuracy: 0.9186 - val_loss: 1.2589 - val_accuracy: 0.9306\n",
      "Epoch 74/100\n",
      "355/355 [==============================] - 6s 17ms/step - loss: 1.3063 - accuracy: 0.9183 - val_loss: 1.2306 - val_accuracy: 0.9375\n",
      "Epoch 75/100\n",
      "355/355 [==============================] - 6s 17ms/step - loss: 1.3028 - accuracy: 0.9185 - val_loss: 1.2315 - val_accuracy: 0.9410\n",
      "Epoch 76/100\n",
      "355/355 [==============================] - 6s 17ms/step - loss: 1.3022 - accuracy: 0.9193 - val_loss: 1.2408 - val_accuracy: 0.9332\n",
      "Epoch 77/100\n",
      "355/355 [==============================] - 6s 17ms/step - loss: 1.3004 - accuracy: 0.9192 - val_loss: 1.2284 - val_accuracy: 0.9384\n",
      "Epoch 78/100\n",
      "355/355 [==============================] - 6s 17ms/step - loss: 1.2958 - accuracy: 0.9212 - val_loss: 1.2306 - val_accuracy: 0.9366\n",
      "Epoch 79/100\n",
      "355/355 [==============================] - 6s 17ms/step - loss: 1.2971 - accuracy: 0.9222 - val_loss: 1.2215 - val_accuracy: 0.9401\n",
      "Epoch 80/100\n",
      "355/355 [==============================] - 6s 17ms/step - loss: 1.2969 - accuracy: 0.9185 - val_loss: 1.2151 - val_accuracy: 0.9427\n",
      "Epoch 81/100\n",
      "355/355 [==============================] - 6s 17ms/step - loss: 1.2937 - accuracy: 0.9192 - val_loss: 1.2355 - val_accuracy: 0.9340\n",
      "Epoch 82/100\n",
      "355/355 [==============================] - 6s 17ms/step - loss: 1.2921 - accuracy: 0.9205 - val_loss: 1.2354 - val_accuracy: 0.9297\n",
      "Epoch 83/100\n",
      "355/355 [==============================] - 6s 17ms/step - loss: 1.2985 - accuracy: 0.9173 - val_loss: 1.1999 - val_accuracy: 0.9427\n",
      "Epoch 84/100\n",
      "355/355 [==============================] - 6s 17ms/step - loss: 1.2945 - accuracy: 0.9187 - val_loss: 1.2201 - val_accuracy: 0.9375\n",
      "Epoch 85/100\n",
      "355/355 [==============================] - 6s 17ms/step - loss: 1.2861 - accuracy: 0.9210 - val_loss: 1.2068 - val_accuracy: 0.9401\n",
      "Epoch 86/100\n",
      "355/355 [==============================] - 6s 17ms/step - loss: 1.2864 - accuracy: 0.9214 - val_loss: 1.2076 - val_accuracy: 0.9427\n",
      "Epoch 87/100\n",
      "355/355 [==============================] - 6s 17ms/step - loss: 1.2860 - accuracy: 0.9214 - val_loss: 1.1916 - val_accuracy: 0.9470\n",
      "Epoch 88/100\n",
      "355/355 [==============================] - 6s 17ms/step - loss: 1.2850 - accuracy: 0.9195 - val_loss: 1.2221 - val_accuracy: 0.9314\n",
      "Epoch 89/100\n",
      "355/355 [==============================] - 6s 17ms/step - loss: 1.2813 - accuracy: 0.9211 - val_loss: 1.1930 - val_accuracy: 0.9479\n",
      "Epoch 90/100\n",
      "355/355 [==============================] - 6s 17ms/step - loss: 1.2816 - accuracy: 0.9211 - val_loss: 1.2141 - val_accuracy: 0.9375\n",
      "Epoch 91/100\n",
      "355/355 [==============================] - 6s 17ms/step - loss: 1.2752 - accuracy: 0.9230 - val_loss: 1.2208 - val_accuracy: 0.9314\n",
      "Epoch 92/100\n",
      "355/355 [==============================] - 6s 17ms/step - loss: 1.2800 - accuracy: 0.9205 - val_loss: 1.2011 - val_accuracy: 0.9410\n",
      "Epoch 93/100\n",
      "355/355 [==============================] - 6s 17ms/step - loss: 1.2794 - accuracy: 0.9202 - val_loss: 1.2204 - val_accuracy: 0.9340\n",
      "Epoch 94/100\n",
      "355/355 [==============================] - 6s 17ms/step - loss: 1.2771 - accuracy: 0.9223 - val_loss: 1.2106 - val_accuracy: 0.9340\n",
      "Epoch 95/100\n",
      "355/355 [==============================] - 6s 17ms/step - loss: 1.2723 - accuracy: 0.9222 - val_loss: 1.2116 - val_accuracy: 0.9332\n",
      "Epoch 96/100\n",
      "355/355 [==============================] - 6s 17ms/step - loss: 1.2671 - accuracy: 0.9244 - val_loss: 1.1880 - val_accuracy: 0.9444\n",
      "Epoch 97/100\n",
      "355/355 [==============================] - 6s 17ms/step - loss: 1.2731 - accuracy: 0.9218 - val_loss: 1.1818 - val_accuracy: 0.9418\n",
      "Epoch 98/100\n",
      "355/355 [==============================] - 6s 17ms/step - loss: 1.2705 - accuracy: 0.9213 - val_loss: 1.2018 - val_accuracy: 0.9366\n",
      "Epoch 99/100\n",
      "355/355 [==============================] - 6s 17ms/step - loss: 1.2702 - accuracy: 0.9176 - val_loss: 1.1897 - val_accuracy: 0.9384\n",
      "Epoch 100/100\n",
      "355/355 [==============================] - 6s 17ms/step - loss: 1.2682 - accuracy: 0.9206 - val_loss: 1.2115 - val_accuracy: 0.9314\n"
     ]
    },
    {
     "data": {
      "text/plain": [
       "<tensorflow.python.keras.callbacks.History at 0x7f1943da1d30>"
      ]
     },
     "execution_count": 40,
     "metadata": {},
     "output_type": "execute_result"
    }
   ],
   "source": [
    "batch_size=32\n",
    "\n",
    "CV_frac = 0.1\n",
    "train_gen = data_generator(batch_size,'bal_laugh_speech_subset.tfrecord', 0, 1-CV_frac)\n",
    "val_gen = data_generator(128,'bal_laugh_speech_subset.tfrecord', 1-CV_frac, 1)\n",
    "\n",
    "rec_len = 12657 # find # of records in 'bal_laugh_speech_subset.tfrecord'\n",
    "opt = Adam(lr=0.0001, beta_1=0.9, beta_2=0.999, decay=0.01)\n",
    "lstm3_model.compile(loss='binary_crossentropy',\n",
    "              optimizer=opt,\n",
    "              metrics=['accuracy'])\n",
    "lstm3_model.fit_generator(train_gen,steps_per_epoch=int(rec_len*(1-CV_frac))//batch_size, epochs=100,\n",
    "                       validation_data=val_gen, validation_steps=int(rec_len*CV_frac)//128,\n",
    "                       verbose=1)"
   ]
  },
  {
   "cell_type": "code",
   "execution_count": 41,
   "metadata": {},
   "outputs": [
    {
     "data": {
      "text/plain": [
       "<matplotlib.legend.Legend at 0x7f1943a4b278>"
      ]
     },
     "execution_count": 41,
     "metadata": {},
     "output_type": "execute_result"
    },
    {
     "data": {
      "image/png": "[encoded data removed]",
      "text/plain": [
       "<Figure size 864x576 with 1 Axes>"
      ]
     },
     "metadata": {
      "needs_background": "light"
     },
     "output_type": "display_data"
    }
   ],
   "source": [
    "plt.plot(lstm3_model.history.history['accuracy'], label='train_acc')\n",
    "plt.plot(lstm3_model.history.history['val_accuracy'], label='val_acc')\n",
    "plt.legend()"
   ]
  },
  {
   "cell_type": "code",
   "execution_count": 42,
   "metadata": {},
   "outputs": [],
   "source": [
    "lstm3_model.save('../Models/cheer_applause_LSTM_ThreeLayer_100Epochs.h5')"
   ]
  },
  {
   "cell_type": "code",
   "execution_count": 14,
   "metadata": {},
   "outputs": [
    {
     "data": {
      "text/plain": [
       "'2.0.6'"
      ]
     },
     "execution_count": 14,
     "metadata": {},
     "output_type": "execute_result"
    }
   ],
   "source": [
    "keras.__version__"
   ]
  },
  {
   "cell_type": "code",
   "execution_count": 33,
   "metadata": {},
   "outputs": [],
   "source": [
    "from tensorflow.keras.callbacks import History"
   ]
  },
  {
   "cell_type": "code",
   "execution_count": 34,
   "metadata": {},
   "outputs": [
    {
     "data": {
      "text/plain": [
       "dict_keys(['loss', 'accuracy', 'val_loss', 'val_accuracy'])"
      ]
     },
     "execution_count": 34,
     "metadata": {},
     "output_type": "execute_result"
    }
   ],
   "source": [
    "lstm3_model.history.history.keys()"
   ]
  },
  {
   "cell_type": "code",
   "execution_count": null,
   "metadata": {},
   "outputs": [],
   "source": []
  }
 ],
 "metadata": {
  "kernelspec": {
   "display_name": "tf2-alpha",
   "language": "python",
   "name": "tf2-gpu"
  },
  "language_info": {
   "codemirror_mode": {
    "name": "ipython",
    "version": 3
   },
   "file_extension": ".py",
   "mimetype": "text/x-python",
   "name": "python",
   "nbconvert_exporter": "python",
   "pygments_lexer": "ipython3",
   "version": "3.7.2"
  }
 },
 "nbformat": 4,
 "nbformat_minor": 2
}
