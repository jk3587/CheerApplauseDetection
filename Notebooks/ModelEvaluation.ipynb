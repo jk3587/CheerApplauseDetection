{
 "cells": [
  {
   "cell_type": "code",
   "execution_count": 1,
   "metadata": {},
   "outputs": [],
   "source": [
    "%matplotlib inline\n",
    "import matplotlib.pyplot as plt\n",
    "plt.rcParams['figure.figsize'] = (12,8)\n",
    "import numpy as np\n",
    "import tensorflow as tf\n",
    "#import keras\n",
    "import pandas as pd"
   ]
  },
  {
   "cell_type": "code",
   "execution_count": 2,
   "metadata": {},
   "outputs": [
    {
     "name": "stderr",
     "output_type": "stream",
     "text": [
      "WARNING: Logging before flag parsing goes to stderr.\n",
      "W0325 21:39:51.355231 140620364851008 deprecation.py:323] From <ipython-input-2-06e386c01dbf>:1: tf_record_iterator (from tensorflow.python.lib.io.tf_record) is deprecated and will be removed in a future version.\n",
      "Instructions for updating:\n",
      "Use eager execution and: \n",
      "`tf.data.TFRecordDataset(path)`\n"
     ]
    },
    {
     "data": {
      "text/plain": [
       "'0jeIRbf4UWA'"
      ]
     },
     "execution_count": 2,
     "metadata": {},
     "output_type": "execute_result"
    }
   ],
   "source": [
    "t = list(tf.compat.v1.python_io.tf_record_iterator('bal_laugh_speech_subset.tfrecord'))\n",
    "tf_example = tf.train.Example.FromString(t[0])\n",
    "tf_example.features.feature['video_id'].bytes_list.value[0].decode()"
   ]
  },
  {
   "cell_type": "code",
   "execution_count": 15,
   "metadata": {},
   "outputs": [],
   "source": [
    "from tensorflow.keras.preprocessing.sequence import pad_sequences\n",
    "\n",
    "def data_generator(batch_size, tfrecord, start_frac=0, end_frac=1):\n",
    "    '''\n",
    "    Shuffles the Audioset training data and returns a generator of training data and boolean laughter labels\n",
    "    batch_size: batch size for each set of training data and labels\n",
    "    tfrecord: filestring of the tfrecord file to train on\n",
    "    start_frac: the starting point of the data set to use, as a fraction of total record length (used for CV)\n",
    "    end_frac: the ending point of the data set to use, as a fraction of total record length (used for CV)\n",
    "    '''\n",
    "    max_len=10\n",
    "    records = list(tf.compat.v1.python_io.tf_record_iterator(tfrecord))\n",
    "    records = records[int(start_frac*len(records)):int(end_frac*len(records))]\n",
    "    rec_len = len(records)\n",
    "    shuffle = np.random.permutation(range(rec_len))\n",
    "    num_batches = rec_len//batch_size - 1\n",
    "    j = 0\n",
    "\n",
    "    laugh_labels = [66, 67] #changed to labels for cheer and applause\n",
    "    while True:\n",
    "        X = []\n",
    "        y = []\n",
    "        for idx in shuffle[j*batch_size:(j+1)*batch_size]:\n",
    "            example = records[idx]\n",
    "            tf_seq_example = tf.train.SequenceExample.FromString(example)\n",
    "            example_label = list(np.asarray(tf_seq_example.context.feature['labels'].int64_list.value))\n",
    "            laugh_bin = any((True for x in example_label if x in laugh_labels))\n",
    "            y.append(laugh_bin)\n",
    "\n",
    "            n_frames = len(tf_seq_example.feature_lists.feature_list['audio_embedding'].feature)\n",
    "            audio_frame = []\n",
    "            for i in range(n_frames):\n",
    "                audio_frame.append(np.frombuffer(tf_seq_example.feature_lists.feature_list['audio_embedding'].\n",
    "                                                         feature[i].bytes_list.value[0],np.uint8).astype(np.float32))\n",
    "            pad = [np.zeros([128], np.float32) for i in range(max_len-n_frames)]\n",
    "            audio_frame += pad\n",
    "            X.append(audio_frame)\n",
    "\n",
    "        j += 1\n",
    "        if j >= num_batches:\n",
    "            shuffle = np.random.permutation(range(rec_len))\n",
    "            j = 0\n",
    "\n",
    "        X = np.array(X)\n",
    "        yield X, np.array(y)"
   ]
  },
  {
   "cell_type": "code",
   "execution_count": 16,
   "metadata": {},
   "outputs": [],
   "source": [
    "import itertools\n",
    "batch_size = 32\n",
    "val_gen = data_generator(batch_size,'eval_laugh_speech_subset.tfrecord')\n",
    "val = list(itertools.islice(val_gen,586//32))\n",
    "X = [d[0] for d in val]\n",
    "y = [d[1] for d in val]\n",
    "X = np.concatenate(X)\n",
    "y = np.concatenate(y)"
   ]
  },
  {
   "cell_type": "code",
   "execution_count": 5,
   "metadata": {},
   "outputs": [],
   "source": [
    "from tensorflow.keras.models import load_model\n",
    "m1 = load_model('../Models/cheer_applause_LSTM_ThreeLayer_100Epochs.h5')"
   ]
  },
  {
   "cell_type": "code",
   "execution_count": 6,
   "metadata": {},
   "outputs": [],
   "source": [
    "p1 = m1.predict(X)"
   ]
  },
  {
   "cell_type": "code",
   "execution_count": 8,
   "metadata": {},
   "outputs": [],
   "source": [
    "m2 = load_model('../Models/LSTM_SingleLayer_100Epochs.h5')"
   ]
  },
  {
   "cell_type": "code",
   "execution_count": 9,
   "metadata": {},
   "outputs": [],
   "source": [
    "p2 = m2.predict(X)"
   ]
  },
  {
   "cell_type": "code",
   "execution_count": 17,
   "metadata": {},
   "outputs": [],
   "source": [
    "m3 = load_model('../Models/cheer_applause_LSTM_ThreeLayer_100Epochs.h5')\n",
    "p3 = m3.predict(X)"
   ]
  },
  {
   "cell_type": "code",
   "execution_count": 18,
   "metadata": {},
   "outputs": [
    {
     "ename": "NameError",
     "evalue": "name 'vp5' is not defined",
     "output_type": "error",
     "traceback": [
      "\u001b[0;31m---------------------------------------------------------------------------\u001b[0m",
      "\u001b[0;31mNameError\u001b[0m                                 Traceback (most recent call last)",
      "\u001b[0;32m<ipython-input-18-b1ad7add1149>\u001b[0m in \u001b[0;36m<module>\u001b[0;34m\u001b[0m\n\u001b[1;32m      7\u001b[0m     \u001b[0;32mreturn\u001b[0m \u001b[0mlabels\u001b[0m\u001b[0;34m[\u001b[0m\u001b[0msorted_indices\u001b[0m\u001b[0;34m[\u001b[0m\u001b[0;36m0\u001b[0m\u001b[0;34m]\u001b[0m\u001b[0;34m]\u001b[0m\u001b[0;34m\u001b[0m\u001b[0;34m\u001b[0m\u001b[0m\n\u001b[1;32m      8\u001b[0m \u001b[0;34m\u001b[0m\u001b[0m\n\u001b[0;32m----> 9\u001b[0;31m \u001b[0mp5\u001b[0m \u001b[0;34m=\u001b[0m \u001b[0;34m[\u001b[0m\u001b[0mget_top_class_display_name\u001b[0m\u001b[0;34m(\u001b[0m\u001b[0mp\u001b[0m\u001b[0;34m)\u001b[0m \u001b[0;32mfor\u001b[0m \u001b[0mp\u001b[0m \u001b[0;32min\u001b[0m \u001b[0mvp5\u001b[0m\u001b[0;34m]\u001b[0m\u001b[0;34m\u001b[0m\u001b[0;34m\u001b[0m\u001b[0m\n\u001b[0m",
      "\u001b[0;31mNameError\u001b[0m: name 'vp5' is not defined"
     ]
    }
   ],
   "source": [
    "def get_top_class_display_name(output_vector):        \n",
    "    \"\"\"Returns the name of the class with the highest activation\"\"\"\n",
    "#     labels = [\"laughter\", \"baby laughter\", \"giggle\", \"snicker\", \\\n",
    "#     \"belly laugh\", \"chuckle/chortle\", \"none of the above\"]\n",
    "    labels = [True, True, True, True, True, True, False]\n",
    "    sorted_indices = list(np.argsort(output_vector)[::-1])\n",
    "    return labels[sorted_indices[0]]\n",
    "\n",
    "p5 = [get_top_class_display_name(p) for p in p5]"
   ]
  },
  {
   "cell_type": "code",
   "execution_count": 19,
   "metadata": {},
   "outputs": [],
   "source": [
    "from sklearn.metrics import roc_curve\n",
    "#fpr, tpr, thresholds = roc_curve(y,p1)\n",
    "#fpr2, tpr2, thresholds2 = roc_curve(y,p2)\n",
    "fpr3, tpr3, thresholds3 = roc_curve(y,p3)\n"
   ]
  },
  {
   "cell_type": "code",
   "execution_count": 20,
   "metadata": {},
   "outputs": [
    {
     "data": {
      "text/plain": [
       "<matplotlib.legend.Legend at 0x7fe01cdafcf8>"
      ]
     },
     "execution_count": 20,
     "metadata": {},
     "output_type": "execute_result"
    },
    {
     "data": {
      "image/png": "[encoded data removed]",
      "text/plain": [
       "<Figure size 432x288 with 1 Axes>"
      ]
     },
     "metadata": {
      "needs_background": "light"
     },
     "output_type": "display_data"
    }
   ],
   "source": [
    "#plt.plot(fpr,tpr, 'o-', label='log reg')\n",
    "#plt.plot(fpr2,tpr2, 'x-', label='lstm1')\n",
    "plt.plot(fpr3,tpr3, 'o-', label='lstm3')\n",
    "\n",
    "plt.plot([0,1],[1,0],'k:')\n",
    "plt.xlabel('False Positive Rate', size=18)\n",
    "plt.ylabel('True Positive Rate', size=18)\n",
    "plt.legend()"
   ]
  },
  {
   "cell_type": "code",
   "execution_count": 21,
   "metadata": {},
   "outputs": [
    {
     "name": "stdout",
     "output_type": "stream",
     "text": [
      "LSTM 3: 133.51\n"
     ]
    }
   ],
   "source": [
    "from sklearn.metrics import auc\n",
    "#print(f'Logistic Regression: {auc(y, p1):0.2f}')\n",
    "#print(f'LSTM 1: {auc(y, p2):0.2f}')\n",
    "print(f'LSTM 3: {auc(y, p3):0.2f}')"
   ]
  },
  {
   "cell_type": "code",
   "execution_count": 26,
   "metadata": {},
   "outputs": [
    {
     "data": {
      "text/plain": [
       "[<matplotlib.lines.Line2D at 0x7fe01ca55fd0>]"
      ]
     },
     "execution_count": 26,
     "metadata": {},
     "output_type": "execute_result"
    },
    {
     "data": {
      "image/png": "[encoded data removed]",
      "text/plain": [
       "<Figure size 432x288 with 1 Axes>"
      ]
     },
     "metadata": {
      "needs_background": "light"
     },
     "output_type": "display_data"
    }
   ],
   "source": [
    "plt.plot(thresholds3,fpr3)"
   ]
  },
  {
   "cell_type": "code",
   "execution_count": 85,
   "metadata": {},
   "outputs": [
    {
     "data": {
      "text/plain": [
       "0.30136986301369861"
      ]
     },
     "execution_count": 85,
     "metadata": {},
     "output_type": "execute_result"
    }
   ],
   "source": [
    "tpr2[8]"
   ]
  },
  {
   "cell_type": "code",
   "execution_count": null,
   "metadata": {},
   "outputs": [],
   "source": [
    "from s"
   ]
  }
 ],
 "metadata": {
  "kernelspec": {
   "display_name": "tf2-alpha",
   "language": "python",
   "name": "tf2-gpu"
  },
  "language_info": {
   "codemirror_mode": {
    "name": "ipython",
    "version": 3
   },
   "file_extension": ".py",
   "mimetype": "text/x-python",
   "name": "python",
   "nbconvert_exporter": "python",
   "pygments_lexer": "ipython3",
   "version": "3.7.2"
  }
 },
 "nbformat": 4,
 "nbformat_minor": 2
}
