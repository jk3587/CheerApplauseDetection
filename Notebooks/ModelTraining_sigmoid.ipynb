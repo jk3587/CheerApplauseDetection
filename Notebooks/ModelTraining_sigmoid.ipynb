{
 "cells": [
  {
   "cell_type": "code",
   "execution_count": 3,
   "metadata": {},
   "outputs": [],
   "source": [
    "%matplotlib inline\n",
    "import matplotlib.pyplot as plt\n",
    "plt.rcParams['figure.figsize'] = (12,8)\n",
    "import numpy as np\n",
    "import tensorflow as tf\n",
    "#import keras\n",
    "import pandas as pd\n",
    "#from keras_tqdm import TQDMNotebookCallback\n"
   ]
  },
  {
   "cell_type": "code",
   "execution_count": 4,
   "metadata": {},
   "outputs": [],
   "source": [
    "from tensorflow.keras.preprocessing.sequence import pad_sequences\n",
    "\n",
    "def data_generator(batch_size, tfrecord, start_frac=0, end_frac=1):\n",
    "    '''\n",
    "    Shuffles the Audioset training data and returns a generator of training data and boolean laughter labels\n",
    "    batch_size: batch size for each set of training data and labels\n",
    "    tfrecord: filestring of the tfrecord file to train on\n",
    "    start_frac: the starting point of the data set to use, as a fraction of total record length (used for CV)\n",
    "    end_frac: the ending point of the data set to use, as a fraction of total record length (used for CV)\n",
    "    '''\n",
    "    max_len=10\n",
    "    records = list(tf.compat.v1.python_io.tf_record_iterator(tfrecord))\n",
    "    records = records[int(start_frac*len(records)):int(end_frac*len(records))]\n",
    "    rec_len = len(records)\n",
    "    shuffle = np.random.permutation(range(rec_len))\n",
    "    num_batches = rec_len//batch_size - 1\n",
    "    j = 0\n",
    "\n",
    "    laugh_labels = [66, 67] # changed to labels for cheer and applause\n",
    "    while True:\n",
    "        X = []\n",
    "        y = []\n",
    "        for idx in shuffle[j*batch_size:(j+1)*batch_size]:\n",
    "            example = records[idx]\n",
    "            tf_seq_example = tf.train.SequenceExample.FromString(example)\n",
    "            example_label = list(np.asarray(tf_seq_example.context.feature['labels'].int64_list.value))\n",
    "            laugh_bin = any((True for x in example_label if x in laugh_labels))\n",
    "            y.append(laugh_bin)\n",
    "\n",
    "            n_frames = len(tf_seq_example.feature_lists.feature_list['audio_embedding'].feature)\n",
    "            audio_frame = []\n",
    "            for i in range(n_frames):\n",
    "                audio_frame.append(np.frombuffer(tf_seq_example.feature_lists.feature_list['audio_embedding'].\n",
    "                                                         feature[i].bytes_list.value[0],np.uint8).astype(np.float32))\n",
    "            pad = [np.zeros([128], np.float32) for i in range(max_len-n_frames)]\n",
    "            audio_frame += pad\n",
    "            X.append(audio_frame)\n",
    "\n",
    "        j += 1\n",
    "        if j >= num_batches:\n",
    "            shuffle = np.random.permutation(range(rec_len))\n",
    "            j = 0\n",
    "\n",
    "        X = np.array(X)\n",
    "        yield X, np.array(y)"
   ]
  },
  {
   "cell_type": "markdown",
   "metadata": {},
   "source": [
    "### 3 Layer LSTM"
   ]
  },
  {
   "cell_type": "code",
   "execution_count": 5,
   "metadata": {},
   "outputs": [
    {
     "name": "stderr",
     "output_type": "stream",
     "text": [
      "W0401 02:12:35.532895 139939270154048 tf_logging.py:161] <tensorflow.python.keras.layers.recurrent.UnifiedLSTM object at 0x7f44f06215f8>: Note that this layer is not optimized for performance. Please use tf.keras.layers.CuDNNLSTM for better performance on GPU.\n",
      "W0401 02:12:35.763470 139939270154048 tf_logging.py:161] <tensorflow.python.keras.layers.recurrent.UnifiedLSTM object at 0x7f44f04782b0>: Note that this layer is not optimized for performance. Please use tf.keras.layers.CuDNNLSTM for better performance on GPU.\n",
      "W0401 02:12:35.895936 139939270154048 tf_logging.py:161] <tensorflow.python.keras.layers.recurrent.UnifiedLSTM object at 0x7f44f02472e8>: Note that this layer is not optimized for performance. Please use tf.keras.layers.CuDNNLSTM for better performance on GPU.\n"
     ]
    },
    {
     "name": "stdout",
     "output_type": "stream",
     "text": [
      "Model: \"sequential_1\"\n",
      "_________________________________________________________________\n",
      "Layer (type)                 Output Shape              Param #   \n",
      "=================================================================\n",
      "batch_normalization_v2_3 (Ba (None, None, 128)         512       \n",
      "_________________________________________________________________\n",
      "dropout_3 (Dropout)          (None, None, 128)         0         \n",
      "_________________________________________________________________\n",
      "unified_lstm_3 (UnifiedLSTM) (None, None, 64)          49408     \n",
      "_________________________________________________________________\n",
      "batch_normalization_v2_4 (Ba (None, None, 64)          256       \n",
      "_________________________________________________________________\n",
      "dropout_4 (Dropout)          (None, None, 64)          0         \n",
      "_________________________________________________________________\n",
      "unified_lstm_4 (UnifiedLSTM) (None, None, 64)          33024     \n",
      "_________________________________________________________________\n",
      "batch_normalization_v2_5 (Ba (None, None, 64)          256       \n",
      "_________________________________________________________________\n",
      "dropout_5 (Dropout)          (None, None, 64)          0         \n",
      "_________________________________________________________________\n",
      "unified_lstm_5 (UnifiedLSTM) (None, 64)                33024     \n",
      "_________________________________________________________________\n",
      "dense_1 (Dense)              (None, 1)                 65        \n",
      "=================================================================\n",
      "Total params: 116,545\n",
      "Trainable params: 116,033\n",
      "Non-trainable params: 512\n",
      "_________________________________________________________________\n"
     ]
    }
   ],
   "source": [
    "from tensorflow.keras.models import Sequential\n",
    "from tensorflow.keras.layers import Dense, BatchNormalization, Dropout\n",
    "from tensorflow.keras.layers import LSTM, TimeDistributed\n",
    "#from tensorflow.compat.v1.keras.layers import CuDNNLSTM\n",
    "from tensorflow.keras import regularizers\n",
    "from tensorflow.keras.optimizers import Adam\n",
    "\n",
    "lstm3_model = Sequential()\n",
    "lstm3_model.add(BatchNormalization(input_shape=(None, 128)))\n",
    "lstm3_model.add(Dropout(0.2))\n",
    "\n",
    "lstm3_model.add(LSTM(64, #activation='relu',\n",
    "        kernel_regularizer=regularizers.l2(0.01),\n",
    "        activity_regularizer=regularizers.l2(0.01),\n",
    "        return_sequences=True))\n",
    "\n",
    "lstm3_model.add(BatchNormalization())\n",
    "lstm3_model.add(Dropout(0.2))\n",
    "\n",
    "lstm3_model.add(LSTM(64, #activation='relu',\n",
    "        kernel_regularizer=regularizers.l2(0.01),\n",
    "        activity_regularizer=regularizers.l2(0.01),\n",
    "        return_sequences=True))\n",
    "\n",
    "lstm3_model.add(BatchNormalization())\n",
    "lstm3_model.add(Dropout(0.2))\n",
    "\n",
    "lstm3_model.add(LSTM(64, #activation='relu',\n",
    "        kernel_regularizer=regularizers.l2(0.01),\n",
    "        activity_regularizer=regularizers.l2(0.01)))\n",
    "\n",
    "lstm3_model.add(Dense(1, activation='sigmoid'))\n",
    "\n",
    "lstm3_model.summary()\n",
    "\n",
    "# try using different optimizers and different optimizer configs\n",
    "opt = Adam(lr=0.0001, beta_1=0.9, beta_2=0.999, decay=0.01)\n",
    "lstm3_model.compile(loss='binary_crossentropy',\n",
    "              optimizer=opt,\n",
    "              metrics=['accuracy'])"
   ]
  },
  {
   "cell_type": "code",
   "execution_count": 6,
   "metadata": {},
   "outputs": [
    {
     "name": "stdout",
     "output_type": "stream",
     "text": [
      "Epoch 1/100\n",
      "355/355 [==============================] - 9s 26ms/step - loss: 4.5910 - accuracy: 0.8454 - val_loss: 4.1106 - val_accuracy: 0.9149\n",
      "Epoch 2/100\n",
      "355/355 [==============================] - 6s 16ms/step - loss: 4.0278 - accuracy: 0.9087 - val_loss: 3.8522 - val_accuracy: 0.9297\n",
      "Epoch 3/100\n",
      "355/355 [==============================] - 6s 16ms/step - loss: 3.7924 - accuracy: 0.9127 - val_loss: 3.6700 - val_accuracy: 0.9375\n",
      "Epoch 4/100\n",
      "355/355 [==============================] - 6s 16ms/step - loss: 3.6399 - accuracy: 0.9192 - val_loss: 3.5456 - val_accuracy: 0.9358\n",
      "Epoch 5/100\n",
      "355/355 [==============================] - 6s 16ms/step - loss: 3.5251 - accuracy: 0.9239 - val_loss: 3.4450 - val_accuracy: 0.9410\n",
      "Epoch 6/100\n",
      "355/355 [==============================] - 6s 16ms/step - loss: 3.4476 - accuracy: 0.9201 - val_loss: 3.3705 - val_accuracy: 0.9340\n",
      "Epoch 7/100\n",
      "355/355 [==============================] - 6s 16ms/step - loss: 3.3767 - accuracy: 0.9217 - val_loss: 3.3133 - val_accuracy: 0.9410\n",
      "Epoch 8/100\n",
      "355/355 [==============================] - 6s 17ms/step - loss: 3.3135 - accuracy: 0.9244 - val_loss: 3.2503 - val_accuracy: 0.9392\n",
      "Epoch 9/100\n",
      "355/355 [==============================] - 6s 16ms/step - loss: 3.2635 - accuracy: 0.9239 - val_loss: 3.2157 - val_accuracy: 0.9358\n",
      "Epoch 10/100\n",
      "355/355 [==============================] - 6s 16ms/step - loss: 3.2170 - accuracy: 0.9261 - val_loss: 3.1726 - val_accuracy: 0.9375\n",
      "Epoch 11/100\n",
      "355/355 [==============================] - 6s 16ms/step - loss: 3.1787 - accuracy: 0.9254 - val_loss: 3.1284 - val_accuracy: 0.9436\n",
      "Epoch 12/100\n",
      "355/355 [==============================] - 6s 16ms/step - loss: 3.1421 - accuracy: 0.9267 - val_loss: 3.0906 - val_accuracy: 0.9410\n",
      "Epoch 13/100\n",
      "355/355 [==============================] - 6s 16ms/step - loss: 3.1133 - accuracy: 0.9232 - val_loss: 3.0683 - val_accuracy: 0.9384\n",
      "Epoch 14/100\n",
      "355/355 [==============================] - 6s 16ms/step - loss: 3.0819 - accuracy: 0.9249 - val_loss: 3.0368 - val_accuracy: 0.9436\n",
      "Epoch 15/100\n",
      "355/355 [==============================] - 6s 16ms/step - loss: 3.0532 - accuracy: 0.9275 - val_loss: 3.0158 - val_accuracy: 0.9340\n",
      "Epoch 16/100\n",
      "355/355 [==============================] - 6s 16ms/step - loss: 3.0293 - accuracy: 0.9269 - val_loss: 2.9812 - val_accuracy: 0.9453\n",
      "Epoch 17/100\n",
      "355/355 [==============================] - 6s 16ms/step - loss: 3.0040 - accuracy: 0.9298 - val_loss: 2.9639 - val_accuracy: 0.9392\n",
      "Epoch 18/100\n",
      "355/355 [==============================] - 6s 16ms/step - loss: 2.9801 - accuracy: 0.9299 - val_loss: 2.9391 - val_accuracy: 0.9470\n",
      "Epoch 19/100\n",
      "355/355 [==============================] - 6s 16ms/step - loss: 2.9647 - accuracy: 0.9271 - val_loss: 2.9171 - val_accuracy: 0.9418\n",
      "Epoch 20/100\n",
      "355/355 [==============================] - 6s 16ms/step - loss: 2.9441 - accuracy: 0.9298 - val_loss: 2.9078 - val_accuracy: 0.9410\n",
      "Epoch 21/100\n",
      "355/355 [==============================] - 6s 16ms/step - loss: 2.9297 - accuracy: 0.9271 - val_loss: 2.8878 - val_accuracy: 0.9427\n",
      "Epoch 22/100\n",
      "355/355 [==============================] - 6s 16ms/step - loss: 2.9099 - accuracy: 0.9274 - val_loss: 2.8782 - val_accuracy: 0.9358\n",
      "Epoch 23/100\n",
      "355/355 [==============================] - 6s 16ms/step - loss: 2.8970 - accuracy: 0.9254 - val_loss: 2.8663 - val_accuracy: 0.9366\n",
      "Epoch 24/100\n",
      "355/355 [==============================] - 6s 16ms/step - loss: 2.8781 - accuracy: 0.9299 - val_loss: 2.8294 - val_accuracy: 0.9453\n",
      "Epoch 25/100\n",
      "355/355 [==============================] - 6s 16ms/step - loss: 2.8662 - accuracy: 0.9276 - val_loss: 2.8325 - val_accuracy: 0.9349\n",
      "Epoch 26/100\n",
      "355/355 [==============================] - 6s 16ms/step - loss: 2.8494 - accuracy: 0.9290 - val_loss: 2.7991 - val_accuracy: 0.9488\n",
      "Epoch 27/100\n",
      "355/355 [==============================] - 6s 16ms/step - loss: 2.8364 - accuracy: 0.9293 - val_loss: 2.8086 - val_accuracy: 0.9366\n",
      "Epoch 28/100\n",
      "355/355 [==============================] - 6s 16ms/step - loss: 2.8224 - accuracy: 0.9298 - val_loss: 2.7745 - val_accuracy: 0.9444\n",
      "Epoch 29/100\n",
      "355/355 [==============================] - 6s 16ms/step - loss: 2.8120 - accuracy: 0.9305 - val_loss: 2.7678 - val_accuracy: 0.9453\n",
      "Epoch 30/100\n",
      "355/355 [==============================] - 6s 16ms/step - loss: 2.7985 - accuracy: 0.9303 - val_loss: 2.7557 - val_accuracy: 0.9410\n",
      "Epoch 31/100\n",
      "355/355 [==============================] - 6s 16ms/step - loss: 2.7877 - accuracy: 0.9303 - val_loss: 2.7516 - val_accuracy: 0.9401\n",
      "Epoch 32/100\n",
      "355/355 [==============================] - 6s 16ms/step - loss: 2.7774 - accuracy: 0.9297 - val_loss: 2.7432 - val_accuracy: 0.9375\n",
      "Epoch 33/100\n",
      "355/355 [==============================] - 6s 16ms/step - loss: 2.7619 - accuracy: 0.9307 - val_loss: 2.7268 - val_accuracy: 0.9427\n",
      "Epoch 34/100\n",
      "355/355 [==============================] - 6s 16ms/step - loss: 2.7576 - accuracy: 0.9275 - val_loss: 2.7224 - val_accuracy: 0.9410\n",
      "Epoch 35/100\n",
      "355/355 [==============================] - 6s 16ms/step - loss: 2.7497 - accuracy: 0.9292 - val_loss: 2.7138 - val_accuracy: 0.9340\n",
      "Epoch 36/100\n",
      "355/355 [==============================] - 6s 16ms/step - loss: 2.7356 - accuracy: 0.9301 - val_loss: 2.7106 - val_accuracy: 0.9384\n",
      "Epoch 37/100\n",
      "355/355 [==============================] - 6s 16ms/step - loss: 2.7270 - accuracy: 0.9303 - val_loss: 2.6876 - val_accuracy: 0.9453\n",
      "Epoch 38/100\n",
      "355/355 [==============================] - 6s 16ms/step - loss: 2.7184 - accuracy: 0.9310 - val_loss: 2.6838 - val_accuracy: 0.9410\n",
      "Epoch 39/100\n",
      "355/355 [==============================] - 6s 16ms/step - loss: 2.7112 - accuracy: 0.9295 - val_loss: 2.6636 - val_accuracy: 0.9488\n",
      "Epoch 40/100\n",
      "355/355 [==============================] - 6s 16ms/step - loss: 2.7018 - accuracy: 0.9304 - val_loss: 2.6618 - val_accuracy: 0.9392\n",
      "Epoch 41/100\n",
      "355/355 [==============================] - 6s 16ms/step - loss: 2.6915 - accuracy: 0.9306 - val_loss: 2.6635 - val_accuracy: 0.9392\n",
      "Epoch 42/100\n",
      "355/355 [==============================] - 6s 16ms/step - loss: 2.6857 - accuracy: 0.9316 - val_loss: 2.6355 - val_accuracy: 0.9401\n",
      "Epoch 43/100\n",
      "355/355 [==============================] - 6s 16ms/step - loss: 2.6799 - accuracy: 0.9298 - val_loss: 2.6525 - val_accuracy: 0.9340\n",
      "Epoch 44/100\n",
      "355/355 [==============================] - 6s 16ms/step - loss: 2.6678 - accuracy: 0.9302 - val_loss: 2.6386 - val_accuracy: 0.9384\n",
      "Epoch 45/100\n",
      "355/355 [==============================] - 6s 16ms/step - loss: 2.6615 - accuracy: 0.9298 - val_loss: 2.6220 - val_accuracy: 0.9410\n",
      "Epoch 46/100\n",
      "355/355 [==============================] - 6s 16ms/step - loss: 2.6557 - accuracy: 0.9308 - val_loss: 2.6234 - val_accuracy: 0.9384\n",
      "Epoch 47/100\n",
      "355/355 [==============================] - 6s 16ms/step - loss: 2.6486 - accuracy: 0.9297 - val_loss: 2.6165 - val_accuracy: 0.9401\n",
      "Epoch 48/100\n",
      "355/355 [==============================] - 6s 16ms/step - loss: 2.6409 - accuracy: 0.9317 - val_loss: 2.6173 - val_accuracy: 0.9384\n",
      "Epoch 49/100\n",
      "355/355 [==============================] - 6s 16ms/step - loss: 2.6390 - accuracy: 0.9303 - val_loss: 2.6083 - val_accuracy: 0.9332\n",
      "Epoch 50/100\n",
      "355/355 [==============================] - 6s 16ms/step - loss: 2.6280 - accuracy: 0.9309 - val_loss: 2.5872 - val_accuracy: 0.9462\n",
      "Epoch 51/100\n",
      "355/355 [==============================] - 6s 16ms/step - loss: 2.6213 - accuracy: 0.9305 - val_loss: 2.5942 - val_accuracy: 0.9410\n",
      "Epoch 52/100\n",
      "355/355 [==============================] - 6s 16ms/step - loss: 2.6146 - accuracy: 0.9322 - val_loss: 2.5800 - val_accuracy: 0.9462\n",
      "Epoch 53/100\n",
      "355/355 [==============================] - 6s 16ms/step - loss: 2.6095 - accuracy: 0.9285 - val_loss: 2.5674 - val_accuracy: 0.9488\n",
      "Epoch 54/100\n",
      "355/355 [==============================] - 6s 16ms/step - loss: 2.6037 - accuracy: 0.9302 - val_loss: 2.5735 - val_accuracy: 0.9375\n",
      "Epoch 55/100\n",
      "355/355 [==============================] - 6s 16ms/step - loss: 2.5979 - accuracy: 0.9315 - val_loss: 2.5678 - val_accuracy: 0.9358\n",
      "Epoch 56/100\n",
      "355/355 [==============================] - 6s 16ms/step - loss: 2.5916 - accuracy: 0.9312 - val_loss: 2.5566 - val_accuracy: 0.9410\n",
      "Epoch 57/100\n",
      "355/355 [==============================] - 6s 16ms/step - loss: 2.5856 - accuracy: 0.9320 - val_loss: 2.5517 - val_accuracy: 0.9375\n",
      "Epoch 58/100\n",
      "355/355 [==============================] - 6s 16ms/step - loss: 2.5805 - accuracy: 0.9304 - val_loss: 2.5518 - val_accuracy: 0.9401\n",
      "Epoch 59/100\n",
      "355/355 [==============================] - 6s 16ms/step - loss: 2.5753 - accuracy: 0.9310 - val_loss: 2.5426 - val_accuracy: 0.9392\n",
      "Epoch 60/100\n",
      "355/355 [==============================] - 6s 16ms/step - loss: 2.5692 - accuracy: 0.9312 - val_loss: 2.5390 - val_accuracy: 0.9384\n",
      "Epoch 61/100\n",
      "355/355 [==============================] - 6s 16ms/step - loss: 2.5683 - accuracy: 0.9282 - val_loss: 2.5384 - val_accuracy: 0.9410\n",
      "Epoch 62/100\n",
      "355/355 [==============================] - 6s 16ms/step - loss: 2.5575 - accuracy: 0.9323 - val_loss: 2.5275 - val_accuracy: 0.9436\n",
      "Epoch 63/100\n",
      "355/355 [==============================] - 6s 16ms/step - loss: 2.5590 - accuracy: 0.9304 - val_loss: 2.5258 - val_accuracy: 0.9384\n",
      "Epoch 64/100\n",
      "355/355 [==============================] - 6s 16ms/step - loss: 2.5490 - accuracy: 0.9340 - val_loss: 2.5161 - val_accuracy: 0.9384\n",
      "Epoch 65/100\n",
      "355/355 [==============================] - 6s 16ms/step - loss: 2.5470 - accuracy: 0.9308 - val_loss: 2.5157 - val_accuracy: 0.9427\n",
      "Epoch 66/100\n",
      "355/355 [==============================] - 6s 16ms/step - loss: 2.5408 - accuracy: 0.9301 - val_loss: 2.5225 - val_accuracy: 0.9340\n",
      "Epoch 67/100\n",
      "355/355 [==============================] - 6s 16ms/step - loss: 2.5364 - accuracy: 0.9329 - val_loss: 2.4967 - val_accuracy: 0.9453\n",
      "Epoch 68/100\n",
      "355/355 [==============================] - 6s 16ms/step - loss: 2.5331 - accuracy: 0.9310 - val_loss: 2.4977 - val_accuracy: 0.9427\n",
      "Epoch 69/100\n",
      "355/355 [==============================] - 6s 16ms/step - loss: 2.5296 - accuracy: 0.9291 - val_loss: 2.4965 - val_accuracy: 0.9375\n",
      "Epoch 70/100\n",
      "355/355 [==============================] - 6s 16ms/step - loss: 2.5223 - accuracy: 0.9315 - val_loss: 2.4932 - val_accuracy: 0.9375\n",
      "Epoch 71/100\n",
      "355/355 [==============================] - 6s 16ms/step - loss: 2.5180 - accuracy: 0.9320 - val_loss: 2.4920 - val_accuracy: 0.9384\n",
      "Epoch 72/100\n",
      "355/355 [==============================] - 6s 16ms/step - loss: 2.5141 - accuracy: 0.9305 - val_loss: 2.4619 - val_accuracy: 0.9549\n",
      "Epoch 73/100\n",
      "355/355 [==============================] - 6s 16ms/step - loss: 2.5093 - accuracy: 0.9318 - val_loss: 2.4717 - val_accuracy: 0.9444\n",
      "Epoch 74/100\n",
      "355/355 [==============================] - 6s 16ms/step - loss: 2.5060 - accuracy: 0.9332 - val_loss: 2.4806 - val_accuracy: 0.9384\n",
      "Epoch 75/100\n",
      "355/355 [==============================] - 6s 16ms/step - loss: 2.4996 - accuracy: 0.9323 - val_loss: 2.4781 - val_accuracy: 0.9340\n",
      "Epoch 76/100\n",
      "355/355 [==============================] - 6s 16ms/step - loss: 2.4966 - accuracy: 0.9350 - val_loss: 2.4612 - val_accuracy: 0.9384\n",
      "Epoch 77/100\n",
      "355/355 [==============================] - 6s 16ms/step - loss: 2.4920 - accuracy: 0.9346 - val_loss: 2.4594 - val_accuracy: 0.9401\n",
      "Epoch 78/100\n",
      "355/355 [==============================] - 6s 16ms/step - loss: 2.4888 - accuracy: 0.9322 - val_loss: 2.4520 - val_accuracy: 0.9444\n",
      "Epoch 79/100\n",
      "355/355 [==============================] - 6s 16ms/step - loss: 2.4892 - accuracy: 0.9312 - val_loss: 2.4535 - val_accuracy: 0.9436\n",
      "Epoch 80/100\n",
      "355/355 [==============================] - 6s 16ms/step - loss: 2.4824 - accuracy: 0.9319 - val_loss: 2.4442 - val_accuracy: 0.9436\n",
      "Epoch 81/100\n",
      "355/355 [==============================] - 6s 16ms/step - loss: 2.4806 - accuracy: 0.9316 - val_loss: 2.4681 - val_accuracy: 0.9306\n",
      "Epoch 82/100\n",
      "355/355 [==============================] - 6s 16ms/step - loss: 2.4749 - accuracy: 0.9321 - val_loss: 2.4438 - val_accuracy: 0.9418\n",
      "Epoch 83/100\n",
      "355/355 [==============================] - 6s 16ms/step - loss: 2.4771 - accuracy: 0.9307 - val_loss: 2.4472 - val_accuracy: 0.9410\n",
      "Epoch 84/100\n",
      "355/355 [==============================] - 6s 16ms/step - loss: 2.4688 - accuracy: 0.9318 - val_loss: 2.4364 - val_accuracy: 0.9410\n",
      "Epoch 85/100\n",
      "355/355 [==============================] - 6s 16ms/step - loss: 2.4669 - accuracy: 0.9302 - val_loss: 2.4215 - val_accuracy: 0.9470\n",
      "Epoch 86/100\n",
      "355/355 [==============================] - 6s 16ms/step - loss: 2.4608 - accuracy: 0.9310 - val_loss: 2.4339 - val_accuracy: 0.9340\n",
      "Epoch 87/100\n",
      "355/355 [==============================] - 6s 16ms/step - loss: 2.4559 - accuracy: 0.9319 - val_loss: 2.4142 - val_accuracy: 0.9436\n",
      "Epoch 88/100\n",
      "355/355 [==============================] - 6s 16ms/step - loss: 2.4535 - accuracy: 0.9327 - val_loss: 2.4217 - val_accuracy: 0.9418\n",
      "Epoch 89/100\n",
      "355/355 [==============================] - 6s 16ms/step - loss: 2.4528 - accuracy: 0.9301 - val_loss: 2.4395 - val_accuracy: 0.9288\n",
      "Epoch 90/100\n",
      "355/355 [==============================] - 6s 16ms/step - loss: 2.4484 - accuracy: 0.9349 - val_loss: 2.4131 - val_accuracy: 0.9392\n",
      "Epoch 91/100\n",
      "355/355 [==============================] - 6s 16ms/step - loss: 2.4455 - accuracy: 0.9306 - val_loss: 2.4051 - val_accuracy: 0.9427\n",
      "Epoch 92/100\n",
      "355/355 [==============================] - 6s 16ms/step - loss: 2.4396 - accuracy: 0.9327 - val_loss: 2.4116 - val_accuracy: 0.9410\n",
      "Epoch 93/100\n",
      "355/355 [==============================] - 6s 16ms/step - loss: 2.4342 - accuracy: 0.9346 - val_loss: 2.3964 - val_accuracy: 0.9436\n",
      "Epoch 94/100\n",
      "355/355 [==============================] - 6s 16ms/step - loss: 2.4352 - accuracy: 0.9327 - val_loss: 2.4063 - val_accuracy: 0.9392\n",
      "Epoch 95/100\n",
      "355/355 [==============================] - 6s 16ms/step - loss: 2.4315 - accuracy: 0.9342 - val_loss: 2.3953 - val_accuracy: 0.9410\n",
      "Epoch 96/100\n",
      "355/355 [==============================] - 6s 16ms/step - loss: 2.4273 - accuracy: 0.9328 - val_loss: 2.3950 - val_accuracy: 0.9410\n",
      "Epoch 97/100\n",
      "355/355 [==============================] - 6s 16ms/step - loss: 2.4253 - accuracy: 0.9333 - val_loss: 2.3982 - val_accuracy: 0.9392\n",
      "Epoch 98/100\n",
      "355/355 [==============================] - 6s 16ms/step - loss: 2.4231 - accuracy: 0.9328 - val_loss: 2.3876 - val_accuracy: 0.9444\n",
      "Epoch 99/100\n",
      "355/355 [==============================] - 6s 16ms/step - loss: 2.4235 - accuracy: 0.9330 - val_loss: 2.3894 - val_accuracy: 0.9349\n",
      "Epoch 100/100\n",
      "355/355 [==============================] - 6s 16ms/step - loss: 2.4189 - accuracy: 0.9314 - val_loss: 2.3944 - val_accuracy: 0.9366\n"
     ]
    },
    {
     "data": {
      "text/plain": [
       "<tensorflow.python.keras.callbacks.History at 0x7f44f0620128>"
      ]
     },
     "execution_count": 6,
     "metadata": {},
     "output_type": "execute_result"
    }
   ],
   "source": [
    "batch_size=32\n",
    "\n",
    "CV_frac = 0.1\n",
    "train_gen = data_generator(batch_size,'unbal_laugh_speech_subset.tfrecord', 0, 1-CV_frac)\n",
    "val_gen = data_generator(128,'unbal_laugh_speech_subset.tfrecord', 1-CV_frac, 1)\n",
    "\n",
    "rec_len = 12657 # find # of records in 'unbal_laugh_speech_subset.tfrecord'\n",
    "opt = Adam(lr=0.0001, beta_1=0.9, beta_2=0.999, decay=0.01)\n",
    "lstm3_model.compile(loss='binary_crossentropy',\n",
    "              optimizer=opt,\n",
    "              metrics=['accuracy'])\n",
    "lstm3_model.fit_generator(train_gen,steps_per_epoch=int(rec_len*(1-CV_frac))//batch_size, epochs=100,\n",
    "                       validation_data=val_gen, validation_steps=int(rec_len*CV_frac)//128,\n",
    "                       verbose=1)"
   ]
  },
  {
   "cell_type": "code",
   "execution_count": null,
   "metadata": {},
   "outputs": [],
   "source": [
    "batch_size=32\n",
    "\n",
    "CV_frac = 0.1\n",
    "train_gen = data_generator(batch_size,'bal_laugh_speech_subset.tfrecord', 0, 1-CV_frac)\n",
    "val_gen = data_generator(128,'bal_laugh_speech_subset.tfrecord', 1-CV_frac, 1)\n",
    "\n",
    "rec_len = 12658 # find # of records in 'unbal_laugh_speech_subset.tfrecord'\n",
    "opt = Adam(lr=0.0001, beta_1=0.9, beta_2=0.999, decay=0.01)\n",
    "lstm3_model.compile(loss='binary_crossentropy',\n",
    "              optimizer=opt,\n",
    "              metrics=['accuracy'])\n",
    "lstm3_model.fit_generator(train_gen,steps_per_epoch=int(rec_len*(1-CV_frac))//batch_size, epochs=100,\n",
    "                       validation_data=val_gen, validation_steps=int(rec_len*CV_frac)//128,\n",
    "                       verbose=1)"
   ]
  },
  {
   "cell_type": "code",
   "execution_count": 7,
   "metadata": {},
   "outputs": [
    {
     "data": {
      "text/plain": [
       "<matplotlib.legend.Legend at 0x7f42681699b0>"
      ]
     },
     "execution_count": 7,
     "metadata": {},
     "output_type": "execute_result"
    },
    {
     "data": {
      "image/png": "[encoded data removed]",
      "text/plain": [
       "<Figure size 432x288 with 1 Axes>"
      ]
     },
     "metadata": {
      "needs_background": "light"
     },
     "output_type": "display_data"
    }
   ],
   "source": [
    "plt.plot(lstm3_model.history.history['accuracy'], label='train_acc')\n",
    "plt.plot(lstm3_model.history.history['val_accuracy'], label='val_acc')\n",
    "plt.legend()"
   ]
  },
  {
   "cell_type": "code",
   "execution_count": 8,
   "metadata": {},
   "outputs": [],
   "source": [
    "lstm3_model.save('../Models/v2_cheer_applause_LSTM_ThreeLayer_100Epochs.h5')"
   ]
  },
  {
   "cell_type": "code",
   "execution_count": 14,
   "metadata": {},
   "outputs": [
    {
     "data": {
      "text/plain": [
       "'2.0.6'"
      ]
     },
     "execution_count": 14,
     "metadata": {},
     "output_type": "execute_result"
    }
   ],
   "source": [
    "keras.__version__"
   ]
  },
  {
   "cell_type": "code",
   "execution_count": 33,
   "metadata": {},
   "outputs": [],
   "source": [
    "from tensorflow.keras.callbacks import History"
   ]
  },
  {
   "cell_type": "code",
   "execution_count": 34,
   "metadata": {},
   "outputs": [
    {
     "data": {
      "text/plain": [
       "dict_keys(['loss', 'accuracy', 'val_loss', 'val_accuracy'])"
      ]
     },
     "execution_count": 34,
     "metadata": {},
     "output_type": "execute_result"
    }
   ],
   "source": [
    "lstm3_model.history.history.keys()"
   ]
  },
  {
   "cell_type": "code",
   "execution_count": null,
   "metadata": {},
   "outputs": [],
   "source": []
  }
 ],
 "metadata": {
  "kernelspec": {
   "display_name": "tf2-alpha",
   "language": "python",
   "name": "tf2-gpu"
  },
  "language_info": {
   "codemirror_mode": {
    "name": "ipython",
    "version": 3
   },
   "file_extension": ".py",
   "mimetype": "text/x-python",
   "name": "python",
   "nbconvert_exporter": "python",
   "pygments_lexer": "ipython3",
   "version": "3.7.2"
  }
 },
 "nbformat": 4,
 "nbformat_minor": 2
}
