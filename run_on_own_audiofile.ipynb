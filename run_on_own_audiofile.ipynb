{
 "cells": [
  {
   "cell_type": "code",
   "execution_count": 95,
   "metadata": {},
   "outputs": [],
   "source": [
    "import numpy as np\n",
    "import tensorflow as tf\n",
    "import glob\n",
    "from pydub import AudioSegment\n",
    "from audioset import vggish_keras_embeddings\n",
    "from time import time\n",
    "import utils\n",
    "import youtube_dl\n",
    "import pandas as pd\n",
    "import h5py\n",
    "import os\n",
    "\n",
    "%matplotlib inline"
   ]
  },
  {
   "cell_type": "code",
   "execution_count": 71,
   "metadata": {},
   "outputs": [
    {
     "data": {
      "text/plain": [
       "<module 'utils' from '/home/oppapie/projects/LaughDetection/utils.py'>"
      ]
     },
     "execution_count": 71,
     "metadata": {},
     "output_type": "execute_result"
    }
   ],
   "source": [
    "import importlib\n",
    "importlib.reload(utils)"
   ]
  },
  {
   "cell_type": "code",
   "execution_count": 109,
   "metadata": {},
   "outputs": [
    {
     "name": "stderr",
     "output_type": "stream",
     "text": [
      "WARNING: video doesn't have subtitles\n"
     ]
    }
   ],
   "source": [
    "#url = 'https://www.youtube.com/watch?v=fpf1IYU0poY' # Trump state of the union 2019\n",
    "url = 'https://www.youtube.com/watch?v=Ymwe4DB_HsU'\n",
    "def download_audio(url, download=True):\n",
    "\n",
    "    ydl_opts = {\n",
    "        'format': 'bestaudio/best',\n",
    "        'outtmpl': '%(title)s.%(ext)s',\n",
    "        'writesubtitles': True,\n",
    "        'writeautomaticsub': True,\n",
    "        'quiet': True,\n",
    "        #'progress_hooks': [my_hook],\n",
    "    }\n",
    "\n",
    "    with youtube_dl.YoutubeDL(ydl_opts) as ydl:\n",
    "        result = ydl.extract_info(url, download=download)  # Download into the current working directory\n",
    "        filename = ydl.prepare_filename(result)\n",
    "    return filename\n",
    "filename = download_audio(url)"
   ]
  },
  {
   "cell_type": "code",
   "execution_count": 112,
   "metadata": {},
   "outputs": [
    {
     "name": "stdout",
     "output_type": "stream",
     "text": [
      "Toy Story Toons 'Small Fry' Sneak Peek.webm\n"
     ]
    }
   ],
   "source": [
    "print(filename)"
   ]
  },
  {
   "cell_type": "code",
   "execution_count": 113,
   "metadata": {},
   "outputs": [
    {
     "name": "stderr",
     "output_type": "stream",
     "text": [
      "W0329 14:03:39.237222 139623814866752 tf_logging.py:161] <tensorflow.python.keras.layers.recurrent.UnifiedLSTM object at 0x7ef74eb15ef0>: Note that this layer is not optimized for performance. Please use tf.keras.layers.CuDNNLSTM for better performance on GPU.\n",
      "W0329 14:03:39.374831 139623814866752 tf_logging.py:161] <tensorflow.python.keras.layers.recurrent.UnifiedLSTM object at 0x7ef74f0e7b00>: Note that this layer is not optimized for performance. Please use tf.keras.layers.CuDNNLSTM for better performance on GPU.\n",
      "W0329 14:03:39.517725 139623814866752 tf_logging.py:161] <tensorflow.python.keras.layers.recurrent.UnifiedLSTM object at 0x7ef74f3bf9e8>: Note that this layer is not optimized for performance. Please use tf.keras.layers.CuDNNLSTM for better performance on GPU.\n"
     ]
    },
    {
     "name": "stdout",
     "output_type": "stream",
     "text": [
      "Embedding file detected.\n",
      "4.824404716491699\n"
     ]
    }
   ],
   "source": [
    "start = time()\n",
    "def embed_audio(filename, savename=filename+'.h5'):\n",
    "    exists = os.path.isfile(savename)\n",
    "    if exists:\n",
    "        print('Embedding file detected.')\n",
    "        f = h5py.File(savename, 'r')\n",
    "        return f.items()\n",
    "    else:\n",
    "        print('Embedding file not detected.')\n",
    "        print('Running embedder on audio.')\n",
    "        list_of_embeddings = []\n",
    "        audio_embedder = vggish_keras_embeddings.VGGishEmbedder(None)\n",
    "        for idx, val in enumerate(utils.sound_slice_generator(filename, clipsize=1000, sample_rate=48000)):\n",
    "            waveform, sample_rate = val[0], val[1]\n",
    "            if val[0].shape[0] < sample_rate:\n",
    "                waveform = np.pad(val[0], (0, sample_rate - val[0].shape[0]), mode='constant')\n",
    "            processed_embedding =  audio_embedder.convert_waveform_to_embedding(waveform, sample_rate)\n",
    "\n",
    "            embedding_final = np.expand_dims(processed_embedding, axis=0)\n",
    "            list_of_embeddings.append((idx, embedding_final))\n",
    "            if idx != 0 and idx % 100 == 0:\n",
    "                print(idx, \"samples embedded\")\n",
    "        utils.save_embeddings_hdf(filename, list_of_embeddings)\n",
    "        return list_of_embeddings\n",
    "\n",
    "predictions = []\n",
    "\n",
    "model = tf.keras.models.load_model('Models/cheer_applause_LSTM_ThreeLayer_100Epochs.h5')\n",
    "\n",
    "for idx, v in embed_audio(filename):\n",
    "    predictions.append((idx, model.predict(v)))\n",
    "    \n",
    "end = time()\n",
    "print(end - start)"
   ]
  },
  {
   "cell_type": "code",
   "execution_count": 90,
   "metadata": {},
   "outputs": [
    {
     "name": "stderr",
     "output_type": "stream",
     "text": [
      "W0329 13:24:51.809915 139623814866752 tf_logging.py:161] <tensorflow.python.keras.layers.recurrent.UnifiedLSTM object at 0x7ef7f6163a20>: Note that this layer is not optimized for performance. Please use tf.keras.layers.CuDNNLSTM for better performance on GPU.\n",
      "W0329 13:24:51.956087 139623814866752 tf_logging.py:161] <tensorflow.python.keras.layers.recurrent.UnifiedLSTM object at 0x7ef7f17c2be0>: Note that this layer is not optimized for performance. Please use tf.keras.layers.CuDNNLSTM for better performance on GPU.\n",
      "W0329 13:24:52.102088 139623814866752 tf_logging.py:161] <tensorflow.python.keras.layers.recurrent.UnifiedLSTM object at 0x7ef7f156a518>: Note that this layer is not optimized for performance. Please use tf.keras.layers.CuDNNLSTM for better performance on GPU.\n"
     ]
    }
   ],
   "source": [
    "predictions = []\n",
    "\n",
    "model = tf.keras.models.load_model('Models/cheer_applause_LSTM_ThreeLayer_100Epochs.h5')\n",
    "\n",
    "for idx, v in list_of_embeddings:\n",
    "    predictions.append((idx, model.predict(v)))"
   ]
  },
  {
   "cell_type": "code",
   "execution_count": 30,
   "metadata": {},
   "outputs": [],
   "source": [
    "utils.save_embeddings_hdf(filename, list_of_embeddings)"
   ]
  },
  {
   "cell_type": "code",
   "execution_count": 74,
   "metadata": {},
   "outputs": [],
   "source": [
    "f = h5py.File('President Trump Delivers the State of the Union Address.m4a.h5', 'r')"
   ]
  },
  {
   "cell_type": "code",
   "execution_count": 91,
   "metadata": {},
   "outputs": [
    {
     "name": "stderr",
     "output_type": "stream",
     "text": [
      "W0329 13:25:31.792908 139623814866752 tf_logging.py:161] <tensorflow.python.keras.layers.recurrent.UnifiedLSTM object at 0x7ef791df11d0>: Note that this layer is not optimized for performance. Please use tf.keras.layers.CuDNNLSTM for better performance on GPU.\n",
      "W0329 13:25:31.929369 139623814866752 tf_logging.py:161] <tensorflow.python.keras.layers.recurrent.UnifiedLSTM object at 0x7ef78cc3c630>: Note that this layer is not optimized for performance. Please use tf.keras.layers.CuDNNLSTM for better performance on GPU.\n",
      "W0329 13:25:32.066643 139623814866752 tf_logging.py:161] <tensorflow.python.keras.layers.recurrent.UnifiedLSTM object at 0x7ef787a5b080>: Note that this layer is not optimized for performance. Please use tf.keras.layers.CuDNNLSTM for better performance on GPU.\n"
     ]
    }
   ],
   "source": [
    "predictions2 = []\n",
    "\n",
    "model = tf.keras.models.load_model('Models/cheer_applause_LSTM_ThreeLayer_100Epochs.h5')\n",
    "\n",
    "for idx, v in f.items():\n",
    "    predictions2.append((int(idx), model.predict(v)))\n",
    "    \n",
    "end = time()"
   ]
  },
  {
   "cell_type": "code",
   "execution_count": 92,
   "metadata": {},
   "outputs": [
    {
     "data": {
      "text/plain": [
       "[(0, array([[0.5502941]], dtype=float32)),\n",
       " (1, array([[0.5374133]], dtype=float32))]"
      ]
     },
     "execution_count": 92,
     "metadata": {},
     "output_type": "execute_result"
    }
   ],
   "source": [
    "predictions[:2]"
   ]
  },
  {
   "cell_type": "code",
   "execution_count": 93,
   "metadata": {},
   "outputs": [
    {
     "data": {
      "text/plain": [
       "[(0, array([[0.5502941]], dtype=float32)),\n",
       " (1, array([[0.5374133]], dtype=float32))]"
      ]
     },
     "execution_count": 93,
     "metadata": {},
     "output_type": "execute_result"
    }
   ],
   "source": [
    "predictions2[:2]"
   ]
  },
  {
   "cell_type": "code",
   "execution_count": 33,
   "metadata": {},
   "outputs": [
    {
     "name": "stdout",
     "output_type": "stream",
     "text": [
      "0:54:16  0.61\n",
      "1:10:35  0.60\n",
      "1:17:47  0.61\n"
     ]
    }
   ],
   "source": [
    "import datetime\n",
    "for i in predictions:\n",
    "    if i[1] > 0.6:\n",
    "        print(str(datetime.timedelta(seconds=int(i[0]/2))), f'{i[1][0][0]: .2f}')"
   ]
  },
  {
   "cell_type": "markdown",
   "metadata": {},
   "source": [
    "## Plotting time of video vs prediction"
   ]
  },
  {
   "cell_type": "code",
   "execution_count": 20,
   "metadata": {},
   "outputs": [],
   "source": [
    "import matplotlib.pyplot as plt\n",
    "import seaborn as sns"
   ]
  },
  {
   "cell_type": "code",
   "execution_count": 94,
   "metadata": {},
   "outputs": [
    {
     "data": {
      "text/plain": [
       "<matplotlib.axes._subplots.AxesSubplot at 0x7ef7f8278908>"
      ]
     },
     "execution_count": 94,
     "metadata": {},
     "output_type": "execute_result"
    },
    {
     "data": {
      "image/png": "[encoded data removed]",
      "text/plain": [
       "<Figure size 1440x576 with 1 Axes>"
      ]
     },
     "metadata": {
      "needs_background": "light"
     },
     "output_type": "display_data"
    }
   ],
   "source": [
    "x = [i[0] for i in predictions]\n",
    "y = [i[1][0][0] for i in predictions]\n",
    "plt.figure(figsize=(20,8))\n",
    "sns.lineplot(x, y)"
   ]
  },
  {
   "cell_type": "code",
   "execution_count": 34,
   "metadata": {},
   "outputs": [
    {
     "data": {
      "text/plain": [
       "<matplotlib.axes._subplots.AxesSubplot at 0x7ef92069eba8>"
      ]
     },
     "execution_count": 34,
     "metadata": {},
     "output_type": "execute_result"
    },
    {
     "data": {
      "image/png": "[encoded data removed]",
      "text/plain": [
       "<Figure size 432x288 with 1 Axes>"
      ]
     },
     "metadata": {
      "needs_background": "light"
     },
     "output_type": "display_data"
    }
   ],
   "source": [
    "sns.boxplot(y=y)"
   ]
  },
  {
   "cell_type": "markdown",
   "metadata": {},
   "source": [
    "## Saving predictions to csv"
   ]
  },
  {
   "cell_type": "code",
   "execution_count": 55,
   "metadata": {},
   "outputs": [
    {
     "data": {
      "text/plain": [
       "timestamp     timedelta64[ns]\n",
       "prediction            float64\n",
       "dtype: object"
      ]
     },
     "execution_count": 55,
     "metadata": {},
     "output_type": "execute_result"
    }
   ],
   "source": [
    "x = [datetime.timedelta(seconds=i[0]/2) for i in predictions]\n",
    "y = [i[1][0][0] for i in predictions]\n",
    "\n",
    "df = pd.DataFrame({'timestamp': x, 'prediction': y})\n",
    "df.to_csv(filename+'_predictions.csv', index=False)"
   ]
  },
  {
   "cell_type": "code",
   "execution_count": 47,
   "metadata": {},
   "outputs": [
    {
     "data": {
      "text/plain": [
       "count    9894.000000\n",
       "mean        0.542577\n",
       "std         0.015801\n",
       "min         0.479638\n",
       "10%         0.523550\n",
       "20%         0.527021\n",
       "30.0%       0.530688\n",
       "40%         0.536030\n",
       "50%         0.542355\n",
       "60%         0.547658\n",
       "70%         0.552305\n",
       "80%         0.556844\n",
       "90%         0.563078\n",
       "max         0.612577\n",
       "Name: prediction, dtype: float64"
      ]
     },
     "execution_count": 47,
     "metadata": {},
     "output_type": "execute_result"
    }
   ],
   "source": [
    "df['prediction'].describe(percentiles=np.linspace(.1,.9, num=9))"
   ]
  },
  {
   "cell_type": "code",
   "execution_count": 69,
   "metadata": {},
   "outputs": [
    {
     "data": {
      "text/html": [
       "<div>\n",
       "<style scoped>\n",
       "    .dataframe tbody tr th:only-of-type {\n",
       "        vertical-align: middle;\n",
       "    }\n",
       "\n",
       "    .dataframe tbody tr th {\n",
       "        vertical-align: top;\n",
       "    }\n",
       "\n",
       "    .dataframe thead th {\n",
       "        text-align: right;\n",
       "    }\n",
       "</style>\n",
       "<table border=\"1\" class=\"dataframe\">\n",
       "  <thead>\n",
       "    <tr style=\"text-align: right;\">\n",
       "      <th></th>\n",
       "      <th>timestamp</th>\n",
       "      <th>prediction</th>\n",
       "    </tr>\n",
       "  </thead>\n",
       "  <tbody>\n",
       "    <tr>\n",
       "      <th>0</th>\n",
       "      <td>00:00:00</td>\n",
       "      <td>0.550294</td>\n",
       "    </tr>\n",
       "    <tr>\n",
       "      <th>1</th>\n",
       "      <td>00:00:00.500000</td>\n",
       "      <td>0.537413</td>\n",
       "    </tr>\n",
       "    <tr>\n",
       "      <th>2</th>\n",
       "      <td>00:00:01</td>\n",
       "      <td>0.566119</td>\n",
       "    </tr>\n",
       "    <tr>\n",
       "      <th>3</th>\n",
       "      <td>00:00:01.500000</td>\n",
       "      <td>0.548482</td>\n",
       "    </tr>\n",
       "    <tr>\n",
       "      <th>4</th>\n",
       "      <td>00:00:02</td>\n",
       "      <td>0.558821</td>\n",
       "    </tr>\n",
       "  </tbody>\n",
       "</table>\n",
       "</div>"
      ],
      "text/plain": [
       "        timestamp  prediction\n",
       "0        00:00:00    0.550294\n",
       "1 00:00:00.500000    0.537413\n",
       "2        00:00:01    0.566119\n",
       "3 00:00:01.500000    0.548482\n",
       "4        00:00:02    0.558821"
      ]
     },
     "execution_count": 69,
     "metadata": {},
     "output_type": "execute_result"
    }
   ],
   "source": [
    "df2 = pd.read_csv('President Trump Delivers the State of the Union Address.m4a_predictions.csv',)\n",
    "df2['timestamp'] = pd.to_timedelta(df2['timestamp'])\n",
    "df2.head()"
   ]
  },
  {
   "cell_type": "code",
   "execution_count": 14,
   "metadata": {},
   "outputs": [],
   "source": [
    "def sound_slice_generator(sound_path, clipsize=500, sample_rate=48000):\n",
    "    '''\n",
    "    Generates np array value from sound clip to feed into VGGish Embedder\n",
    "\n",
    "    input:\n",
    "        list_sounds: generator of slices of sound clip\n",
    "        clipsize:\n",
    "    returns:\n",
    "        generator to feed into vggish embedder\n",
    "    '''\n",
    "    sound = AudioSegment.from_file(sound_path)\n",
    "    sound = sound.set_frame_rate(sample_rate)\n",
    "    step = int(clipsize/2)\n",
    "    list_sounds = sound[::step]  # generate clipsize/2 values of the clip\n",
    "    prev_iter_value = None\n",
    "    for idx, v in enumerate(list_sounds):\n",
    "\n",
    "        if idx == 0:\n",
    "            prev_iter_value = v\n",
    "            continue\n",
    "        overlapped = prev_iter_value + v # combine current \n",
    "        samples = overlapped.get_array_of_samples()\n",
    "        np_samples = np.array(samples)\n",
    "        s_reshaped = np_samples.reshape((-1,2))\n",
    "        prev_iter_value = v\n",
    "        #print(idx, s_reshaped.shape)\n",
    "        yield s_reshaped, v.frame_rate"
   ]
  },
  {
   "cell_type": "code",
   "execution_count": 6,
   "metadata": {},
   "outputs": [
    {
     "ename": "TypeError",
     "evalue": "slice indices must be integers or None or have an __index__ method",
     "output_type": "error",
     "traceback": [
      "\u001b[0;31m---------------------------------------------------------------------------\u001b[0m",
      "\u001b[0;31mTypeError\u001b[0m                                 Traceback (most recent call last)",
      "\u001b[0;32m<ipython-input-6-59754056ae8f>\u001b[0m in \u001b[0;36m<module>\u001b[0;34m\u001b[0m\n\u001b[0;32m----> 1\u001b[0;31m \u001b[0;32mfor\u001b[0m \u001b[0midx\u001b[0m\u001b[0;34m,\u001b[0m \u001b[0mval\u001b[0m \u001b[0;32min\u001b[0m \u001b[0menumerate\u001b[0m\u001b[0;34m(\u001b[0m\u001b[0msound_slice_generator\u001b[0m\u001b[0;34m(\u001b[0m\u001b[0;34m'The Speech that Made Obama President.webm'\u001b[0m\u001b[0;34m,\u001b[0m \u001b[0;36m1000\u001b[0m\u001b[0;34m)\u001b[0m\u001b[0;34m)\u001b[0m\u001b[0;34m:\u001b[0m\u001b[0;34m\u001b[0m\u001b[0;34m\u001b[0m\u001b[0m\n\u001b[0m\u001b[1;32m      2\u001b[0m     \u001b[0mprint\u001b[0m\u001b[0;34m(\u001b[0m\u001b[0midx\u001b[0m\u001b[0;34m)\u001b[0m\u001b[0;34m\u001b[0m\u001b[0;34m\u001b[0m\u001b[0m\n",
      "\u001b[0;32m<ipython-input-3-59f8c09f3eb2>\u001b[0m in \u001b[0;36msound_slice_generator\u001b[0;34m(sound_path, clipsize)\u001b[0m\n\u001b[1;32m     11\u001b[0m     \u001b[0msound\u001b[0m \u001b[0;34m=\u001b[0m \u001b[0mAudioSegment\u001b[0m\u001b[0;34m.\u001b[0m\u001b[0mfrom_file\u001b[0m\u001b[0;34m(\u001b[0m\u001b[0msound_path\u001b[0m\u001b[0;34m)\u001b[0m\u001b[0;34m\u001b[0m\u001b[0;34m\u001b[0m\u001b[0m\n\u001b[1;32m     12\u001b[0m     \u001b[0mstep\u001b[0m \u001b[0;34m=\u001b[0m \u001b[0mclipsize\u001b[0m \u001b[0;34m/\u001b[0m \u001b[0;36m2\u001b[0m\u001b[0;34m\u001b[0m\u001b[0;34m\u001b[0m\u001b[0m\n\u001b[0;32m---> 13\u001b[0;31m     \u001b[0mlist_sounds\u001b[0m \u001b[0;34m=\u001b[0m \u001b[0msound\u001b[0m\u001b[0;34m[\u001b[0m\u001b[0;34m:\u001b[0m\u001b[0;34m:\u001b[0m\u001b[0mstep\u001b[0m\u001b[0;34m]\u001b[0m  \u001b[0;31m# generate 500ms slices of the sound clip\u001b[0m\u001b[0;34m\u001b[0m\u001b[0;34m\u001b[0m\u001b[0m\n\u001b[0m\u001b[1;32m     14\u001b[0m     \u001b[0mprev_iter_value\u001b[0m \u001b[0;34m=\u001b[0m \u001b[0;32mNone\u001b[0m\u001b[0;34m\u001b[0m\u001b[0;34m\u001b[0m\u001b[0m\n\u001b[1;32m     15\u001b[0m     \u001b[0;32mfor\u001b[0m \u001b[0midx\u001b[0m\u001b[0;34m,\u001b[0m \u001b[0mv\u001b[0m \u001b[0;32min\u001b[0m \u001b[0menumerate\u001b[0m\u001b[0;34m(\u001b[0m\u001b[0mlist_sounds\u001b[0m\u001b[0;34m)\u001b[0m\u001b[0;34m:\u001b[0m\u001b[0;34m\u001b[0m\u001b[0;34m\u001b[0m\u001b[0m\n",
      "\u001b[0;32m~/anaconda3/envs/tf2-gpu/lib/python3.7/site-packages/pydub/audio_segment.py\u001b[0m in \u001b[0;36m__getitem__\u001b[0;34m(self, millisecond)\u001b[0m\n\u001b[1;32m    296\u001b[0m                 return (\n\u001b[1;32m    297\u001b[0m                     \u001b[0mself\u001b[0m\u001b[0;34m[\u001b[0m\u001b[0mi\u001b[0m\u001b[0;34m:\u001b[0m\u001b[0mi\u001b[0m \u001b[0;34m+\u001b[0m \u001b[0mmillisecond\u001b[0m\u001b[0;34m.\u001b[0m\u001b[0mstep\u001b[0m\u001b[0;34m]\u001b[0m\u001b[0;34m\u001b[0m\u001b[0;34m\u001b[0m\u001b[0m\n\u001b[0;32m--> 298\u001b[0;31m                     \u001b[0;32mfor\u001b[0m \u001b[0mi\u001b[0m \u001b[0;32min\u001b[0m \u001b[0mxrange\u001b[0m\u001b[0;34m(\u001b[0m\u001b[0;34m*\u001b[0m\u001b[0mmillisecond\u001b[0m\u001b[0;34m.\u001b[0m\u001b[0mindices\u001b[0m\u001b[0;34m(\u001b[0m\u001b[0mlen\u001b[0m\u001b[0;34m(\u001b[0m\u001b[0mself\u001b[0m\u001b[0;34m)\u001b[0m\u001b[0;34m)\u001b[0m\u001b[0;34m)\u001b[0m\u001b[0;34m\u001b[0m\u001b[0;34m\u001b[0m\u001b[0m\n\u001b[0m\u001b[1;32m    299\u001b[0m                 )\n\u001b[1;32m    300\u001b[0m \u001b[0;34m\u001b[0m\u001b[0m\n",
      "\u001b[0;31mTypeError\u001b[0m: slice indices must be integers or None or have an __index__ method"
     ]
    }
   ],
   "source": [
    "for idx, val in enumerate(sound_slice_generator('The Speech that Made Obama President.webm', 1000)):\n",
    "    print(idx)"
   ]
  },
  {
   "cell_type": "markdown",
   "metadata": {},
   "source": []
  }
 ],
 "metadata": {
  "kernelspec": {
   "display_name": "tf2-alpha",
   "language": "python",
   "name": "tf2-gpu"
  },
  "language_info": {
   "codemirror_mode": {
    "name": "ipython",
    "version": 3
   },
   "file_extension": ".py",
   "mimetype": "text/x-python",
   "name": "python",
   "nbconvert_exporter": "python",
   "pygments_lexer": "ipython3",
   "version": "3.7.2"
  }
 },
 "nbformat": 4,
 "nbformat_minor": 2
}
