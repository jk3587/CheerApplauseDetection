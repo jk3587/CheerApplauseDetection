{
 "cells": [
  {
   "cell_type": "code",
   "execution_count": 1,
   "metadata": {},
   "outputs": [],
   "source": [
    "import numpy as np\n",
    "import tensorflow as tf\n",
    "import glob\n",
    "from pydub import AudioSegment\n",
    "from audioset import vggish_keras_embeddings\n",
    "from time import time\n",
    "import utils\n",
    "import youtube_dl\n",
    "import pandas as pd\n",
    "import h5py\n",
    "import os\n",
    "import datetime\n",
    "\n",
    "%matplotlib inline"
   ]
  },
  {
   "cell_type": "code",
   "execution_count": 2,
   "metadata": {},
   "outputs": [
    {
     "data": {
      "text/plain": [
       "<module 'utils' from '/home/oppapie/projects/LaughDetection/utils.py'>"
      ]
     },
     "execution_count": 2,
     "metadata": {},
     "output_type": "execute_result"
    }
   ],
   "source": [
    "import importlib\n",
    "importlib.reload(utils)"
   ]
  },
  {
   "cell_type": "code",
   "execution_count": 4,
   "metadata": {},
   "outputs": [
    {
     "name": "stderr",
     "output_type": "stream",
     "text": [
      "WARNING: video doesn't have subtitles\n"
     ]
    }
   ],
   "source": [
    "#url = 'https://www.youtube.com/watch?v=fpf1IYU0poY' # Trump state of the union 2019\n",
    "#url = 'https://www.youtube.com/watch?v=Ymwe4DB_HsU'\n",
    "#url = 'https://www.youtube.com/watch?v=vP4iY1TtS3s' # I have a dream speech\n",
    "#url = 'https://www.youtube.com/watch?v=-taEc2havwA' # jim carrey speech\n",
    "#url = 'https://www.youtube.com/watch?v=KRGgQP47Vgw'\n",
    "#url = 'https://www.youtube.com/watch?v=k0jJL_YFyIU'\n",
    "url = 'https://www.youtube.com/watch?v=W_GKJAF4c3g' # Random tennis video\n",
    "\n",
    "\n",
    "\n",
    "save_folder = 'sample_inference/'\n",
    "def download_audio(url, download=True, save_folder=save_folder):\n",
    "\n",
    "    ydl_opts = {\n",
    "        'format': 'bestaudio/best',\n",
    "        'outtmpl': '%(title)s.%(ext)s',\n",
    "        'writesubtitles': True,\n",
    "        'writeautomaticsub': True,\n",
    "        'quiet': True,\n",
    "        'outtmpl': save_folder+'%(title)s-%(id)s.%(ext)s',\n",
    "        #'progress_hooks': [my_hook],\n",
    "    }\n",
    "\n",
    "    with youtube_dl.YoutubeDL(ydl_opts) as ydl:\n",
    "        result = ydl.extract_info(url, download=download)  # Download into the current working directory\n",
    "        filename = ydl.prepare_filename(result)\n",
    "    return filename\n",
    "filename = download_audio(url)\n"
   ]
  },
  {
   "cell_type": "code",
   "execution_count": 6,
   "metadata": {},
   "outputs": [
    {
     "data": {
      "text/plain": [
       "'sample_inference/Funniest Moments & Fails - Monte-Carlo 2019-W_GKJAF4c3g.webm'"
      ]
     },
     "execution_count": 6,
     "metadata": {},
     "output_type": "execute_result"
    }
   ],
   "source": [
    "filename"
   ]
  },
  {
   "cell_type": "code",
   "execution_count": 7,
   "metadata": {},
   "outputs": [
    {
     "name": "stderr",
     "output_type": "stream",
     "text": [
      "W0423 15:27:03.535386 140495682406208 tf_logging.py:161] <tensorflow.python.keras.layers.recurrent.UnifiedLSTM object at 0x7fc66c5795f8>: Note that this layer is not optimized for performance. Please use tf.keras.layers.CuDNNLSTM for better performance on GPU.\n",
      "W0423 15:27:03.793719 140495682406208 tf_logging.py:161] <tensorflow.python.keras.layers.recurrent.UnifiedLSTM object at 0x7fc66c34c470>: Note that this layer is not optimized for performance. Please use tf.keras.layers.CuDNNLSTM for better performance on GPU.\n",
      "W0423 15:27:03.926867 140495682406208 tf_logging.py:161] <tensorflow.python.keras.layers.recurrent.UnifiedLSTM object at 0x7fc67c54f518>: Note that this layer is not optimized for performance. Please use tf.keras.layers.CuDNNLSTM for better performance on GPU.\n"
     ]
    },
    {
     "name": "stdout",
     "output_type": "stream",
     "text": [
      "Embedding file not detected.\n",
      "Running embedder on audio.\n",
      "No of sound slices 404.7368253968254\n",
      "100 samples embedded\n",
      "200 samples embedded\n",
      "300 samples embedded\n",
      "400 samples embedded\n",
      "Saved embeddings to: sample_inference/Funniest Moments & Fails - Monte-Carlo 2019-W_GKJAF4c3g.webm_clipsize1000.h5\n",
      "\n",
      "Finished.\n",
      "\n",
      "Elapsed Time: 18.96 seconds\n"
     ]
    }
   ],
   "source": [
    "clipsize = 1000\n",
    "savename=filename+'_clipsize'+str(clipsize)\n",
    "start = time()\n",
    "def embed_audio(filename, clipsize=clipsize, savename=filename+'_clipsize'+str(clipsize)):\n",
    "    if savename[-3:] != '.h5':\n",
    "        savename = savename + '.h5'\n",
    "    exists = os.path.isfile(savename)\n",
    "    if exists:\n",
    "        print('Embedding file detected.')\n",
    "        print('Loading embedding file:', savename)\n",
    "        f = h5py.File(savename, 'r')\n",
    "        return f.items()\n",
    "    else:\n",
    "        print('Embedding file not detected.')\n",
    "        print('Running embedder on audio.')\n",
    "        list_of_embeddings = []\n",
    "        audio_embedder = vggish_keras_embeddings.VGGishEmbedder(None)\n",
    "        for idx, val in enumerate(utils.sound_slice_generator(filename, clipsize=clipsize, sample_rate=44100)):\n",
    "            waveform, sample_rate = val[0], val[1]\n",
    "            if val[0].shape[0] < sample_rate:\n",
    "                waveform = np.pad(val[0], (0, sample_rate - val[0].shape[0]), mode='constant')\n",
    "            processed_embedding =  audio_embedder.convert_waveform_to_embedding(waveform, sample_rate)\n",
    "\n",
    "            embedding_final = np.expand_dims(processed_embedding, axis=0)\n",
    "            list_of_embeddings.append((idx, embedding_final))\n",
    "            if idx != 0 and idx % 100 == 0:\n",
    "                print(idx, \"samples embedded\")\n",
    "        utils.save_embeddings_hdf(savename, list_of_embeddings)\n",
    "        print('Saved embeddings to:', savename)\n",
    "        return list_of_embeddings\n",
    "\n",
    "predictions = []\n",
    "\n",
    "model = tf.keras.models.load_model('Models/v2_cheer_applause_LSTM_ThreeLayer_100Epochs.h5')\n",
    "\n",
    "for idx, v in embed_audio(filename, clipsize=clipsize):\n",
    "    predictions.append((idx, model.predict(v)))\n",
    "    \n",
    "end = time()\n",
    "print('\\nFinished.\\n')\n",
    "print('Elapsed Time:', f'{end - start:.2f}', 'seconds')"
   ]
  },
  {
   "cell_type": "markdown",
   "metadata": {},
   "source": [
    "## Saving predictions to csv"
   ]
  },
  {
   "cell_type": "code",
   "execution_count": 8,
   "metadata": {},
   "outputs": [
    {
     "name": "stdout",
     "output_type": "stream",
     "text": [
      "sample_inference/Funniest Moments & Fails - Monte-Carlo 2019-W_GKJAF4c3g.webm_clipsize1000_predictions.csv\n"
     ]
    }
   ],
   "source": [
    "x = [datetime.timedelta(seconds=float(i[0])/(2000/clipsize)) for i in predictions]\n",
    "y = [i[1][0][0] for i in predictions]\n",
    "\n",
    "df = pd.DataFrame({'timestamp': x, 'prediction': y})\n",
    "df.to_csv(savename+'_predictions.csv', index=False)\n",
    "print(savename+'_predictions.csv')"
   ]
  },
  {
   "cell_type": "markdown",
   "metadata": {},
   "source": [
    "### Continue to Explore_Subtitles_vs_Predictions.ipynb"
   ]
  },
  {
   "cell_type": "code",
   "execution_count": null,
   "metadata": {},
   "outputs": [],
   "source": []
  }
 ],
 "metadata": {
  "kernelspec": {
   "display_name": "tf2-alpha",
   "language": "python",
   "name": "tf2-gpu"
  },
  "language_info": {
   "codemirror_mode": {
    "name": "ipython",
    "version": 3
   },
   "file_extension": ".py",
   "mimetype": "text/x-python",
   "name": "python",
   "nbconvert_exporter": "python",
   "pygments_lexer": "ipython3",
   "version": "3.7.2"
  }
 },
 "nbformat": 4,
 "nbformat_minor": 2
}
