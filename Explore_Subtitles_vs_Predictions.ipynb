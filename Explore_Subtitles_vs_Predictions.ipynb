{
 "cells": [
  {
   "cell_type": "code",
   "execution_count": 2,
   "metadata": {},
   "outputs": [],
   "source": [
    "import pandas as pd\n",
    "import webvtt\n",
    "import numpy as np\n",
    "import matplotlib.pyplot as plt\n",
    "import matplotlib as mpl\n",
    "import seaborn as sns\n",
    "\n",
    "%matplotlib inline"
   ]
  },
  {
   "cell_type": "markdown",
   "metadata": {},
   "source": [
    "### Loading CSV with the timestamps and prediction probabilities"
   ]
  },
  {
   "cell_type": "code",
   "execution_count": 3,
   "metadata": {},
   "outputs": [],
   "source": [
    "filename = 'Barack Obama\\'s final speech as president – video highlights.webm_clipsize1000_predictions.csv'\n",
    "\n",
    "df = pd.read_csv(filename)\n",
    "\n",
    "df['timestamp'] = pd.to_timedelta(df['timestamp'])\n",
    "\n",
    "df = df.sort_values(by='timestamp').reset_index().drop('index', axis=1)"
   ]
  },
  {
   "cell_type": "code",
   "execution_count": 6,
   "metadata": {},
   "outputs": [
    {
     "data": {
      "image/png": "[encoded data removed]",
      "text/plain": [
       "<Figure size 1440x360 with 1 Axes>"
      ]
     },
     "metadata": {
      "needs_background": "light"
     },
     "output_type": "display_data"
    }
   ],
   "source": [
    "df = df.sort_values(by='timestamp')\n",
    "df['timestamp_sec'] = df['timestamp'].dt.total_seconds()\n",
    "\n",
    "df['prediction'].plot(x='timestamp_sec', kind='bar', figsize=(20,5))\n",
    "plt.title('Probability of Applause/Cheer vs Time');"
   ]
  },
  {
   "cell_type": "markdown",
   "metadata": {},
   "source": [
    "### Create new columns for peer-based relative percentile (e.g. probability at timestamp X:XX is within the 75th percentile of probabilities)"
   ]
  },
  {
   "cell_type": "code",
   "execution_count": 7,
   "metadata": {},
   "outputs": [],
   "source": [
    "start = 0.6\n",
    "end = 1\n",
    "for i in np.linspace(start, end, num=1+int((end-start)/0.05))[:-1]:\n",
    "    name = f'{round(i, 2):.2f}'\n",
    "\n",
    "    df[name] = df['prediction'].apply(lambda x: 1 if x >= df['prediction'].quantile(round(i,2)) else 0)"
   ]
  },
  {
   "cell_type": "code",
   "execution_count": 9,
   "metadata": {},
   "outputs": [
    {
     "data": {
      "text/html": [
       "<div>\n",
       "<style scoped>\n",
       "    .dataframe tbody tr th:only-of-type {\n",
       "        vertical-align: middle;\n",
       "    }\n",
       "\n",
       "    .dataframe tbody tr th {\n",
       "        vertical-align: top;\n",
       "    }\n",
       "\n",
       "    .dataframe thead th {\n",
       "        text-align: right;\n",
       "    }\n",
       "</style>\n",
       "<table border=\"1\" class=\"dataframe\">\n",
       "  <thead>\n",
       "    <tr style=\"text-align: right;\">\n",
       "      <th></th>\n",
       "      <th>timestamp_sec</th>\n",
       "      <th>0.75</th>\n",
       "      <th>prediction</th>\n",
       "    </tr>\n",
       "  </thead>\n",
       "  <tbody>\n",
       "    <tr>\n",
       "      <th>0</th>\n",
       "      <td>0.0</td>\n",
       "      <td>1</td>\n",
       "      <td>0.533033</td>\n",
       "    </tr>\n",
       "    <tr>\n",
       "      <th>2</th>\n",
       "      <td>1.0</td>\n",
       "      <td>1</td>\n",
       "      <td>0.550475</td>\n",
       "    </tr>\n",
       "    <tr>\n",
       "      <th>3</th>\n",
       "      <td>1.5</td>\n",
       "      <td>1</td>\n",
       "      <td>0.554168</td>\n",
       "    </tr>\n",
       "    <tr>\n",
       "      <th>4</th>\n",
       "      <td>2.0</td>\n",
       "      <td>1</td>\n",
       "      <td>0.568925</td>\n",
       "    </tr>\n",
       "    <tr>\n",
       "      <th>5</th>\n",
       "      <td>2.5</td>\n",
       "      <td>1</td>\n",
       "      <td>0.540498</td>\n",
       "    </tr>\n",
       "  </tbody>\n",
       "</table>\n",
       "</div>"
      ],
      "text/plain": [
       "   timestamp_sec  0.75  prediction\n",
       "0            0.0     1    0.533033\n",
       "2            1.0     1    0.550475\n",
       "3            1.5     1    0.554168\n",
       "4            2.0     1    0.568925\n",
       "5            2.5     1    0.540498"
      ]
     },
     "execution_count": 9,
     "metadata": {},
     "output_type": "execute_result"
    }
   ],
   "source": [
    "df[df['0.75']==1][['timestamp_sec', '0.75', 'prediction']].head()"
   ]
  },
  {
   "cell_type": "markdown",
   "metadata": {},
   "source": [
    "### TODO - Find sentences said before applause"
   ]
  },
  {
   "cell_type": "code",
   "execution_count": 10,
   "metadata": {},
   "outputs": [],
   "source": [
    "start = []\n",
    "end = []\n",
    "text = []\n",
    "for caption in webvtt.read('Barack Obama\\'s final speech as president – video highlights.en.vtt'):\n",
    "    start.append(caption.start)\n",
    "    end.append(caption.end)\n",
    "    text.append(caption.text)\n",
    "subtitle_df = pd.DataFrame({'start': start, 'end': end, 'text': text})\n",
    "subtitle_df['start'] = pd.to_timedelta(subtitle_df['start'])\n",
    "subtitle_df['end'] = pd.to_timedelta(subtitle_df['end'])"
   ]
  },
  {
   "cell_type": "code",
   "execution_count": 11,
   "metadata": {},
   "outputs": [
    {
     "data": {
      "text/html": [
       "<div>\n",
       "<style scoped>\n",
       "    .dataframe tbody tr th:only-of-type {\n",
       "        vertical-align: middle;\n",
       "    }\n",
       "\n",
       "    .dataframe tbody tr th {\n",
       "        vertical-align: top;\n",
       "    }\n",
       "\n",
       "    .dataframe thead th {\n",
       "        text-align: right;\n",
       "    }\n",
       "</style>\n",
       "<table border=\"1\" class=\"dataframe\">\n",
       "  <thead>\n",
       "    <tr style=\"text-align: right;\">\n",
       "      <th></th>\n",
       "      <th>start</th>\n",
       "      <th>end</th>\n",
       "      <th>text</th>\n",
       "    </tr>\n",
       "  </thead>\n",
       "  <tbody>\n",
       "    <tr>\n",
       "      <th>0</th>\n",
       "      <td>00:00:00.560000</td>\n",
       "      <td>00:00:10.740000</td>\n",
       "      <td>\\nhello Scavo it's good to be home</td>\n",
       "    </tr>\n",
       "    <tr>\n",
       "      <th>1</th>\n",
       "      <td>00:00:10.740000</td>\n",
       "      <td>00:00:10.750000</td>\n",
       "      <td>\\n</td>\n",
       "    </tr>\n",
       "    <tr>\n",
       "      <th>2</th>\n",
       "      <td>00:00:10.750000</td>\n",
       "      <td>00:00:14.360000</td>\n",
       "      <td>\\nif I had told you eight years ago that</td>\n",
       "    </tr>\n",
       "    <tr>\n",
       "      <th>3</th>\n",
       "      <td>00:00:14.360000</td>\n",
       "      <td>00:00:14.370000</td>\n",
       "      <td>if I had told you eight years ago that\\n</td>\n",
       "    </tr>\n",
       "    <tr>\n",
       "      <th>4</th>\n",
       "      <td>00:00:14.370000</td>\n",
       "      <td>00:00:17.540000</td>\n",
       "      <td>if I had told you eight years ago that\\nAmeric...</td>\n",
       "    </tr>\n",
       "  </tbody>\n",
       "</table>\n",
       "</div>"
      ],
      "text/plain": [
       "            start             end  \\\n",
       "0 00:00:00.560000 00:00:10.740000   \n",
       "1 00:00:10.740000 00:00:10.750000   \n",
       "2 00:00:10.750000 00:00:14.360000   \n",
       "3 00:00:14.360000 00:00:14.370000   \n",
       "4 00:00:14.370000 00:00:17.540000   \n",
       "\n",
       "                                                text  \n",
       "0                 \\nhello Scavo it's good to be home  \n",
       "1                                                \\n   \n",
       "2           \\nif I had told you eight years ago that  \n",
       "3          if I had told you eight years ago that\\n   \n",
       "4  if I had told you eight years ago that\\nAmeric...  "
      ]
     },
     "execution_count": 11,
     "metadata": {},
     "output_type": "execute_result"
    }
   ],
   "source": [
    "subtitle_df.head()"
   ]
  },
  {
   "cell_type": "markdown",
   "metadata": {},
   "source": [
    "If the subtitle is auto-generated by youtube, there is a lot of overlapping of text between timestamps."
   ]
  },
  {
   "cell_type": "code",
   "execution_count": null,
   "metadata": {},
   "outputs": [],
   "source": []
  }
 ],
 "metadata": {
  "kernelspec": {
   "display_name": "tf2-alpha",
   "language": "python",
   "name": "tf2-gpu"
  },
  "language_info": {
   "codemirror_mode": {
    "name": "ipython",
    "version": 3
   },
   "file_extension": ".py",
   "mimetype": "text/x-python",
   "name": "python",
   "nbconvert_exporter": "python",
   "pygments_lexer": "ipython3",
   "version": "3.7.2"
  }
 },
 "nbformat": 4,
 "nbformat_minor": 2
}
